{
 "cells": [
  {
   "cell_type": "markdown",
   "source": [
    "# Fashion MNIST Dataset Convolutional Neural Network"
   ],
   "metadata": {
    "collapsed": false
   }
  },
  {
   "cell_type": "code",
   "execution_count": 1,
   "metadata": {
    "collapsed": true
   },
   "outputs": [],
   "source": [
    "import numpy as np\n",
    "import torch\n",
    "import torchvision\n",
    "import torchvision.datasets as datasets\n",
    "import matplotlib.pyplot as plt\n",
    "import seaborn as sns"
   ]
  },
  {
   "cell_type": "markdown",
   "source": [
    "## Loading the dataset to be usable in pytorch"
   ],
   "metadata": {
    "collapsed": false
   }
  },
  {
   "cell_type": "code",
   "execution_count": 2,
   "outputs": [],
   "source": [
    "mnist_datasets_train = datasets.FashionMNIST(root='./data',train=True,download=True,transform=torchvision.transforms.ToTensor())\n",
    "\n",
    "mnist_datasets_test = datasets.FashionMNIST(root='./data',train=False,download=True,transform=torchvision.transforms.ToTensor())"
   ],
   "metadata": {
    "collapsed": false
   }
  },
  {
   "cell_type": "markdown",
   "source": [
    "## Creating the training dataset"
   ],
   "metadata": {
    "collapsed": false
   }
  },
  {
   "cell_type": "code",
   "execution_count": 3,
   "outputs": [],
   "source": [
    "from torch.utils.data import DataLoader\n",
    "batch_size = 256\n",
    "\n",
    "train_iter = DataLoader(mnist_datasets_train,batch_size,shuffle=True)"
   ],
   "metadata": {
    "collapsed": false
   }
  },
  {
   "cell_type": "code",
   "execution_count": 4,
   "outputs": [],
   "source": [
    "X,y = next(iter(train_iter))"
   ],
   "metadata": {
    "collapsed": false
   }
  },
  {
   "cell_type": "markdown",
   "source": [
    "## Creating the test dataset"
   ],
   "metadata": {
    "collapsed": false
   }
  },
  {
   "cell_type": "code",
   "execution_count": 5,
   "outputs": [],
   "source": [
    "test_iter = DataLoader(mnist_datasets_test,batch_size,shuffle=True)"
   ],
   "metadata": {
    "collapsed": false
   }
  },
  {
   "cell_type": "code",
   "execution_count": 6,
   "outputs": [],
   "source": [
    "X_test,y_test = next(iter(test_iter))"
   ],
   "metadata": {
    "collapsed": false
   }
  },
  {
   "cell_type": "markdown",
   "source": [
    "## Visualising and understanding the dimensionality of the input images"
   ],
   "metadata": {
    "collapsed": false
   }
  },
  {
   "cell_type": "code",
   "execution_count": 7,
   "outputs": [
    {
     "name": "stdout",
     "output_type": "stream",
     "text": [
      "The dimensions of each input image is torch.Size([256, 1, 28, 28]) The number of input channels is 1\n",
      "The output labels are as follows tensor([2, 8, 0, 7, 2, 8, 4, 1, 5, 8, 5, 6, 0, 6, 5, 6, 7, 4, 3, 8, 1, 5, 9, 0,\n",
      "        7, 6, 2, 4, 2, 2, 0, 8, 9, 0, 5, 2, 2, 0, 7, 7, 3, 9, 9, 3, 4, 3, 0, 6,\n",
      "        9, 6, 0, 1, 7, 1, 7, 6, 5, 0, 1, 5, 2, 8, 0, 2, 9, 9, 7, 2, 5, 9, 3, 3,\n",
      "        3, 8, 5, 6, 0, 3, 6, 5, 4, 8, 2, 8, 3, 6, 0, 2, 0, 6, 4, 1, 7, 1, 1, 3,\n",
      "        1, 4, 7, 9, 6, 0, 5, 4, 1, 8, 9, 1, 8, 7, 4, 9, 4, 2, 3, 6, 1, 0, 2, 0,\n",
      "        7, 0, 5, 3, 3, 0, 7, 4, 3, 6, 1, 2, 8, 4, 6, 6, 0, 9, 0, 5, 7, 5, 2, 5,\n",
      "        0, 6, 7, 3, 5, 4, 9, 3, 9, 1, 1, 3, 1, 5, 8, 6, 9, 7, 2, 4, 6, 7, 1, 3,\n",
      "        8, 5, 7, 1, 7, 3, 2, 1, 0, 2, 0, 3, 1, 8, 9, 2, 0, 5, 5, 1, 5, 8, 5, 0,\n",
      "        0, 6, 1, 2, 1, 9, 4, 0, 8, 0, 7, 0, 0, 7, 7, 2, 1, 6, 9, 6, 6, 4, 8, 8,\n",
      "        2, 6, 7, 5, 8, 7, 1, 5, 2, 3, 5, 9, 7, 1, 8, 4, 1, 8, 9, 8, 2, 3, 0, 2,\n",
      "        8, 8, 4, 1, 7, 6, 9, 6, 3, 4, 7, 2, 5, 4, 1, 7])\n"
     ]
    }
   ],
   "source": [
    "print(f'The dimensions of each input image is {X.size()} The number of input channels is {X.size()[1]}')\n",
    "print(f'The output labels are as follows {y}')"
   ],
   "metadata": {
    "collapsed": false
   }
  },
  {
   "cell_type": "markdown",
   "source": [
    "## Example Image and corresponding label"
   ],
   "metadata": {
    "collapsed": false
   }
  },
  {
   "cell_type": "code",
   "execution_count": 8,
   "outputs": [
    {
     "data": {
      "text/plain": "<matplotlib.image.AxesImage at 0x28e32b1f2b0>"
     },
     "execution_count": 8,
     "metadata": {},
     "output_type": "execute_result"
    },
    {
     "data": {
      "text/plain": "<Figure size 640x480 with 1 Axes>",
      "image/png": "[encoded data removed]"
     },
     "metadata": {},
     "output_type": "display_data"
    }
   ],
   "source": [
    "plt.imshow(X[0].squeeze(),cmap='gray')"
   ],
   "metadata": {
    "collapsed": false
   }
  },
  {
   "cell_type": "markdown",
   "source": [
    "## Label Mapper for text based prediction output"
   ],
   "metadata": {
    "collapsed": false
   }
  },
  {
   "cell_type": "code",
   "execution_count": 8,
   "outputs": [],
   "source": [],
   "metadata": {
    "collapsed": false
   }
  },
  {
   "cell_type": "markdown",
   "source": [
    "# CNN Architecture"
   ],
   "metadata": {
    "collapsed": false
   }
  },
  {
   "cell_type": "code",
   "execution_count": 209,
   "outputs": [],
   "source": [
    "class CNN(torch.nn.Module):\n",
    "    def __init__(self,num_channels,num_outputs):\n",
    "        super(CNN,self).__init__()\n",
    "        self.num_channels = num_channels\n",
    "        self.num_outputs = num_outputs\n",
    "\n",
    "        #Create the first convolution -> ReLu -> Pool layer (note the structure of this can be changed)\n",
    "        self.conv1 = torch.nn.Conv2d(in_channels=num_channels,out_channels=14,kernel_size=4,padding=1,stride=1)\n",
    "        self.relu1 = torch.nn.ReLU()\n",
    "        self.avgpool1 = torch.nn.AvgPool2d(kernel_size=3,stride=2)\n",
    "\n",
    "        #Create the Second convolution,relu, pooling layer\n",
    "        self.conv2 = torch.nn.Conv2d(in_channels=14,out_channels=36,kernel_size=3)\n",
    "        self.relu2 = torch.nn.ReLU()\n",
    "        self.avgpool2 = torch.nn.AvgPool2d(kernel_size=3,stride=2)\n",
    "\n",
    "        #initialize the only fully connected -> ReLu layer\n",
    "        self.linear = torch.nn.Linear(in_features=900,out_features=900)\n",
    "        self.relu3 = torch.nn.ReLU()\n",
    "\n",
    "        #Initialize a second fully connected -> ReLu layer\n",
    "        self.linear1 = torch.nn.Linear(in_features=900,out_features=900)\n",
    "        self.relu4 = torch.nn.ReLU()\n",
    "\n",
    "        #Initialize a third fully connected -> ReLU layer\n",
    "        self.linear2 = torch.nn.Linear(in_features=900,out_features=300)\n",
    "        self.relu5 = torch.nn.ReLU()\n",
    "\n",
    "        #Final Softmax stage for classification\n",
    "        self.linear3 = torch.nn.Linear(in_features=300,out_features=num_outputs)\n",
    "        self.softmax = torch.nn.Softmax(dim=1)\n",
    "\n",
    "        #Initialize the parameters according to the kaiming normal methodology\n",
    "        torch.nn.init.kaiming_normal_(self.linear.weight,nonlinearity='relu')\n",
    "        torch.nn.init.zeros_(self.linear.bias)\n",
    "\n",
    "        torch.nn.init.kaiming_normal_(self.linear1.weight,nonlinearity='relu')\n",
    "        torch.nn.init.zeros_(self.linear1.bias)\n",
    "\n",
    "        torch.nn.init.kaiming_normal_(self.linear2.weight,nonlinearity='relu')\n",
    "        torch.nn.init.zeros_(self.linear2.bias)\n",
    "\n",
    "        torch.nn.init.kaiming_normal_(self.linear3.weight,nonlinearity='relu')\n",
    "        torch.nn.init.zeros_(self.linear3.bias)\n",
    "\n",
    "        #Define the proportion of neurons to dropout\n",
    "        self.dropout = torch.nn.Dropout(0.25)\n",
    "\n",
    "    def forward(self,x):\n",
    "        #Pass the input image into the first convolutional layer\n",
    "        x = self.conv1(x)\n",
    "        x = self.relu1(x)\n",
    "        x = self.avgpool1(x)\n",
    "\n",
    "        #Pass the input image into the second convolutional layer\n",
    "        x = self.conv2(x)\n",
    "        x = self.relu2(x)\n",
    "        x = self.avgpool2(x)\n",
    "\n",
    "        #Pass through the 1st fully connected layer\n",
    "        x = torch.flatten(x,1)\n",
    "        x = self.linear(x)\n",
    "        x = self.dropout(x)\n",
    "        x = self.relu3(x)\n",
    "\n",
    "        #Pass through the 2nd fully connected layer\n",
    "        x = self.linear1(x)\n",
    "        x = self.dropout(x)\n",
    "        x = self.relu4(x)\n",
    "\n",
    "        #Pass through the 3rd fully connected layer\n",
    "        x = self.linear2(x)\n",
    "        x = self.dropout(x)\n",
    "        x = self.relu5(x)\n",
    "\n",
    "        #Pass the output to the softmax classifier to get the output\n",
    "        x = self.linear3(x)\n",
    "        x = self.dropout(x)\n",
    "        x = self.softmax(x)\n",
    "\n",
    "        return x"
   ],
   "metadata": {
    "collapsed": false
   }
  },
  {
   "cell_type": "code",
   "execution_count": 210,
   "outputs": [
    {
     "name": "stdout",
     "output_type": "stream",
     "text": [
      "CNN(\n",
      "  (conv1): Conv2d(1, 14, kernel_size=(4, 4), stride=(1, 1), padding=(1, 1))\n",
      "  (relu1): ReLU()\n",
      "  (avgpool1): AvgPool2d(kernel_size=3, stride=2, padding=0)\n",
      "  (conv2): Conv2d(14, 36, kernel_size=(3, 3), stride=(1, 1))\n",
      "  (relu2): ReLU()\n",
      "  (avgpool2): AvgPool2d(kernel_size=3, stride=2, padding=0)\n",
      "  (linear): Linear(in_features=900, out_features=900, bias=True)\n",
      "  (relu3): ReLU()\n",
      "  (linear1): Linear(in_features=900, out_features=900, bias=True)\n",
      "  (relu4): ReLU()\n",
      "  (linear2): Linear(in_features=900, out_features=300, bias=True)\n",
      "  (relu5): ReLU()\n",
      "  (linear3): Linear(in_features=300, out_features=10, bias=True)\n",
      "  (softmax): Softmax(dim=1)\n",
      "  (dropout): Dropout(p=0.25, inplace=False)\n",
      ")\n"
     ]
    }
   ],
   "source": [
    "model = CNN(num_channels=1,num_outputs=10)\n",
    "print(model)"
   ],
   "metadata": {
    "collapsed": false
   }
  },
  {
   "cell_type": "markdown",
   "source": [
    "# Create a metric for calculating the Accuracy of the network on the training data"
   ],
   "metadata": {
    "collapsed": false
   }
  },
  {
   "cell_type": "code",
   "execution_count": 204,
   "outputs": [],
   "source": [
    "def accuracy(y_hat,y):\n",
    "    if len(y_hat.shape) > 1 and y_hat.shape[1] > 1:\n",
    "        y_hat = y_hat.argmax(axis=1)\n",
    "        cmp = (y_hat.type(y.dtype) == y)\n",
    "        return float(torch.sum(cmp))"
   ],
   "metadata": {
    "collapsed": false
   }
  },
  {
   "cell_type": "markdown",
   "source": [
    "## Create a function for training the network\n",
    "\n",
    "Need a seperate evaluation function that has\n",
    "torch.no_grad() and sets the model.eval() to speed up test performance"
   ],
   "metadata": {
    "collapsed": false
   }
  },
  {
   "cell_type": "code",
   "execution_count": 205,
   "outputs": [],
   "source": [
    "def train_model(model,X,y,X_test,y_test,accuracy,epochs):\n",
    "\n",
    "    # Create the loss component\n",
    "    loss = torch.nn.CrossEntropyLoss()\n",
    "\n",
    "    # Create the optimizer term\n",
    "    optimizer = torch.optim.Adam(model.parameters(), lr=0.001)\n",
    "\n",
    "    score_train = []\n",
    "    score_test = []\n",
    "\n",
    "    for num_epochs in epochs:\n",
    "        for epoch in range(num_epochs):\n",
    "            model.train()\n",
    "            y_hat = model(X)\n",
    "            l = loss(y_hat,y)\n",
    "\n",
    "            optimizer.zero_grad()\n",
    "\n",
    "            l.backward()\n",
    "            optimizer.step()\n",
    "\n",
    "        # Training Accuracy\n",
    "        score_train.append(accuracy(model(X),y)/len(y))\n",
    "\n",
    "        # Test Accuracy\n",
    "        torch.no_grad()\n",
    "        model.eval()\n",
    "        score_test.append(accuracy(model(X_test),y_test)/len(y_test))\n",
    "\n",
    "    return score_train,score_test"
   ],
   "metadata": {
    "collapsed": false
   }
  },
  {
   "cell_type": "code",
   "execution_count": 211,
   "outputs": [],
   "source": [
    "epochs = range(0,30)\n",
    "s1,s2 = train_model(model,X,y,X_test,y_test,accuracy,epochs)"
   ],
   "metadata": {
    "collapsed": false
   }
  },
  {
   "cell_type": "markdown",
   "source": [
    "## Visualise the training and test accuracy over the number of epochs"
   ],
   "metadata": {
    "collapsed": false
   }
  },
  {
   "cell_type": "code",
   "execution_count": 212,
   "outputs": [
    {
     "data": {
      "text/plain": "Text(0, 0.5, 'Accuracy')"
     },
     "execution_count": 212,
     "metadata": {},
     "output_type": "execute_result"
    },
    {
     "data": {
      "text/plain": "<Figure size 640x480 with 1 Axes>",
      "image/png": "[encoded data removed]"
     },
     "metadata": {},
     "output_type": "display_data"
    }
   ],
   "source": [
    "sns.lineplot(x=epochs,y=s1,label='training accuracy')\n",
    "sns.lineplot(x=epochs,y=s2,label='test accuracy')\n",
    "plt.xlabel('Epochs')\n",
    "plt.ylabel('Accuracy')"
   ],
   "metadata": {
    "collapsed": false
   }
  },
  {
   "cell_type": "code",
   "execution_count": 213,
   "outputs": [
    {
     "data": {
      "text/plain": "[0.06640625,\n 0.09375,\n 0.359375,\n 0.390625,\n 0.53515625,\n 0.5546875,\n 0.60546875,\n 0.65234375,\n 0.6484375,\n 0.6875,\n 0.6796875,\n 0.66796875,\n 0.7109375,\n 0.69921875,\n 0.70703125,\n 0.69921875,\n 0.71484375,\n 0.72265625,\n 0.69921875,\n 0.69921875,\n 0.68359375,\n 0.6796875,\n 0.71484375,\n 0.6796875,\n 0.703125,\n 0.66796875,\n 0.69921875,\n 0.71484375,\n 0.6953125,\n 0.6953125,\n 0.70703125,\n 0.69140625,\n 0.69140625,\n 0.68359375,\n 0.71484375,\n 0.69921875,\n 0.70703125,\n 0.7109375,\n 0.6953125,\n 0.70703125,\n 0.71484375,\n 0.7109375,\n 0.71875,\n 0.7265625,\n 0.71875,\n 0.7109375,\n 0.7109375,\n 0.70703125,\n 0.7109375,\n 0.72265625,\n 0.734375,\n 0.73046875,\n 0.70703125,\n 0.71875,\n 0.71875,\n 0.7109375,\n 0.73046875,\n 0.74609375,\n 0.74609375,\n 0.73046875,\n 0.74609375,\n 0.75,\n 0.73828125,\n 0.74609375,\n 0.73046875,\n 0.69921875,\n 0.7109375,\n 0.72265625,\n 0.7265625,\n 0.7109375,\n 0.71875,\n 0.70703125,\n 0.703125,\n 0.703125,\n 0.71484375,\n 0.70703125,\n 0.7109375,\n 0.71484375,\n 0.71484375,\n 0.71875]"
     },
     "execution_count": 213,
     "metadata": {},
     "output_type": "execute_result"
    }
   ],
   "source": [
    "s2"
   ],
   "metadata": {
    "collapsed": false
   }
  },
  {
   "cell_type": "code",
   "execution_count": null,
   "outputs": [],
   "source": [],
   "metadata": {
    "collapsed": false
   }
  }
 ],
 "metadata": {
  "kernelspec": {
   "display_name": "Python 3",
   "language": "python",
   "name": "python3"
  },
  "language_info": {
   "codemirror_mode": {
    "name": "ipython",
    "version": 2
   },
   "file_extension": ".py",
   "mimetype": "text/x-python",
   "name": "python",
   "nbconvert_exporter": "python",
   "pygments_lexer": "ipython2",
   "version": "2.7.6"
  }
 },
 "nbformat": 4,
 "nbformat_minor": 0
}
