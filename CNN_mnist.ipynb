{
 "cells": [
  {
   "cell_type": "markdown",
   "source": [
    "# Fashion MNIST Dataset Convolutional Neural Network"
   ],
   "metadata": {
    "collapsed": false
   }
  },
  {
   "cell_type": "code",
   "execution_count": 6,
   "metadata": {
    "collapsed": true
   },
   "outputs": [],
   "source": [
    "import numpy as np\n",
    "import torch\n",
    "import torchvision\n",
    "import torchvision.datasets as datasets\n",
    "import matplotlib.pyplot as plt"
   ]
  },
  {
   "cell_type": "markdown",
   "source": [
    "## Loading the dataset to be usable in pytorch"
   ],
   "metadata": {
    "collapsed": false
   }
  },
  {
   "cell_type": "code",
   "execution_count": 19,
   "outputs": [],
   "source": [
    "mnist_datasets_train = datasets.FashionMNIST(root='./data',train=True,download=True,transform=torchvision.transforms.ToTensor())\n",
    "\n",
    "mnist_datasets_test = datasets.FashionMNIST(root='./data',train=False,download=True,transform=torchvision.transforms.ToTensor())"
   ],
   "metadata": {
    "collapsed": false
   }
  },
  {
   "cell_type": "markdown",
   "source": [
    "## Creating the training dataset"
   ],
   "metadata": {
    "collapsed": false
   }
  },
  {
   "cell_type": "code",
   "execution_count": 8,
   "outputs": [],
   "source": [
    "from torch.utils.data import DataLoader\n",
    "batch_size = 256\n",
    "\n",
    "train_iter = DataLoader(mnist_datasets_train,batch_size,shuffle=True)"
   ],
   "metadata": {
    "collapsed": false
   }
  },
  {
   "cell_type": "code",
   "execution_count": 9,
   "outputs": [],
   "source": [
    "X,y = next(iter(train_iter))"
   ],
   "metadata": {
    "collapsed": false
   }
  },
  {
   "cell_type": "markdown",
   "source": [
    "## Creating the test dataset"
   ],
   "metadata": {
    "collapsed": false
   }
  },
  {
   "cell_type": "code",
   "execution_count": null,
   "outputs": [],
   "source": [
    "test_iter = DataLoader(mnist_datasets_test,batch_size,shuffle=True)"
   ],
   "metadata": {
    "collapsed": false
   }
  },
  {
   "cell_type": "code",
   "execution_count": null,
   "outputs": [],
   "source": [
    "X_test,y_test = next(iter(test_iter))"
   ],
   "metadata": {
    "collapsed": false
   }
  },
  {
   "cell_type": "markdown",
   "source": [
    "## Visualising and understanding the dimensionality of the input images"
   ],
   "metadata": {
    "collapsed": false
   }
  },
  {
   "cell_type": "code",
   "execution_count": 18,
   "outputs": [
    {
     "name": "stdout",
     "output_type": "stream",
     "text": [
      "The dimensions of each input image is torch.Size([256, 1, 28, 28]) The number of input channels is 1\n",
      "The output labels are as follows tensor([9, 4, 8, 4, 0, 8, 0, 5, 5, 4, 5, 9, 3, 5, 0, 6, 8, 5, 4, 4, 1, 2, 2, 9,\n",
      "        7, 2, 7, 1, 0, 1, 4, 9, 4, 0, 8, 1, 1, 1, 8, 5, 1, 8, 6, 1, 6, 8, 8, 2,\n",
      "        5, 5, 5, 1, 8, 3, 3, 6, 4, 7, 7, 9, 4, 0, 3, 7, 5, 5, 9, 7, 9, 2, 8, 4,\n",
      "        1, 0, 5, 0, 7, 4, 9, 2, 3, 1, 8, 4, 8, 8, 7, 3, 7, 3, 9, 2, 7, 9, 8, 9,\n",
      "        4, 0, 5, 1, 1, 3, 5, 5, 5, 5, 0, 1, 0, 8, 6, 0, 5, 3, 7, 1, 0, 5, 5, 3,\n",
      "        5, 8, 0, 4, 0, 3, 0, 4, 5, 2, 2, 4, 0, 4, 5, 8, 1, 4, 1, 5, 2, 5, 1, 9,\n",
      "        5, 8, 5, 0, 7, 5, 3, 5, 9, 2, 6, 4, 6, 4, 0, 9, 0, 0, 4, 3, 4, 1, 6, 8,\n",
      "        1, 4, 9, 1, 2, 4, 3, 4, 5, 1, 6, 3, 9, 8, 6, 5, 4, 7, 0, 4, 8, 7, 5, 0,\n",
      "        9, 4, 1, 7, 0, 3, 8, 6, 9, 9, 9, 8, 6, 8, 2, 1, 7, 8, 1, 0, 1, 5, 4, 7,\n",
      "        5, 4, 3, 3, 0, 0, 5, 1, 4, 6, 5, 7, 7, 6, 6, 8, 7, 5, 9, 7, 7, 2, 8, 8,\n",
      "        6, 9, 0, 5, 9, 0, 8, 2, 7, 3, 8, 1, 0, 4, 8, 1])\n"
     ]
    }
   ],
   "source": [
    "print(f'The dimensions of each input image is {X.size()} The number of input channels is {X.size()[1]}')\n",
    "print(f'The output labels are as follows {y}')"
   ],
   "metadata": {
    "collapsed": false
   }
  },
  {
   "cell_type": "markdown",
   "source": [
    "## Example Image and corresponding label"
   ],
   "metadata": {
    "collapsed": false
   }
  },
  {
   "cell_type": "code",
   "execution_count": 12,
   "outputs": [
    {
     "data": {
      "text/plain": "<matplotlib.image.AxesImage at 0x243f2cfe8f0>"
     },
     "execution_count": 12,
     "metadata": {},
     "output_type": "execute_result"
    },
    {
     "data": {
      "text/plain": "<Figure size 640x480 with 1 Axes>",
      "image/png": "[encoded data removed]"
     },
     "metadata": {},
     "output_type": "display_data"
    }
   ],
   "source": [
    "plt.imshow(X[0].squeeze(),cmap='gray')"
   ],
   "metadata": {
    "collapsed": false
   }
  },
  {
   "cell_type": "markdown",
   "source": [
    "# Basic Uses the LeNet Architecture\n",
    "Could try a different architecture and use to convolution layers size by side before pooling for down sampling\n",
    "\n",
    "- Worry about the weight and bias initialization in order to prevent over fitting\n"
   ],
   "metadata": {
    "collapsed": false
   }
  },
  {
   "cell_type": "code",
   "execution_count": 7,
   "outputs": [],
   "source": [
    "class CNN(torch.nn.Module):\n",
    "    def __init__(self,num_channels,num_outputs):\n",
    "        super(CNN,self).__init__()\n",
    "        self.num_channels = num_channels\n",
    "        self.num_outputs = num_outputs\n",
    "\n",
    "        #Create the first convolution -> ReLu -> Pool layer (note the structure of this can be changed)\n",
    "        self.conv1 = torch.nn.Conv2d(in_channels=num_channels,out_channels=6,kernel_size=5,padding=1,stride=1)\n",
    "        self.relu1 = torch.nn.ReLU()\n",
    "        self.maxpool1 = torch.nn.MaxPool2d(kernel_size=2,stride=2)\n",
    "\n",
    "        #Create the Second convolution,relu, pooling layer\n",
    "        self.conv2 = torch.nn.Conv2d(in_channels=6,out_channels=16,kernel_size=5)\n",
    "        self.relu2 = torch.nn.ReLU()\n",
    "        self.maxpool2 = torch.nn.MaxPool2d(kernel_size=2,stride=2)\n",
    "\n",
    "        #initialize the only fully connected -> ReLu layer\n",
    "        self.linear = torch.nn.Linear(in_features=256,out_features=84)\n",
    "        self.relu3 = torch.nn.ReLU()\n",
    "\n",
    "        #Initialize a second fully connected -> ReLu layer\n",
    "        self.linear1 = torch.nn.Linear(in_features=84,out_features=16)\n",
    "        self.relu4 = torch.nn.ReLU()\n",
    "\n",
    "        #Final Softmax stage for classification\n",
    "        self.linear2 = torch.nn.Linear(in_features=16,out_features=num_outputs)\n",
    "        self.softmax = torch.nn.Softmax(dim=1)\n",
    "\n",
    "    def forward(self,x):\n",
    "        #Pass the input image into the first convolutional layer\n",
    "        x = self.conv1(x)\n",
    "        x = self.relu1(x)\n",
    "        x = self.maxpool1(x)\n",
    "\n",
    "        #Pass the input image into the second convolutional layer\n",
    "        x = self.conv2(x)\n",
    "        x = self.relu2(x)\n",
    "        x = self.maxpool2(x)\n",
    "\n",
    "        #Pass through the 1st fully connected layer\n",
    "        x = torch.flatten(x,1)\n",
    "        x = self.linear(x)\n",
    "        x = self.relu3(x)\n",
    "\n",
    "        #Pass through the 2nd fully connected layer\n",
    "        x = self.linear1(x)\n",
    "        x = self.relu4(x)\n",
    "\n",
    "        #Pass the output to the softmax classifier to get the output\n",
    "        x = self.linear2(x)\n",
    "        x = self.softmax(x)\n",
    "\n",
    "        return x"
   ],
   "metadata": {
    "collapsed": false
   }
  },
  {
   "cell_type": "code",
   "execution_count": 46,
   "outputs": [
    {
     "name": "stdout",
     "output_type": "stream",
     "text": [
      "CNN(\n",
      "  (conv1): Conv2d(1, 6, kernel_size=(5, 5), stride=(1, 1), padding=(1, 1))\n",
      "  (relu1): ReLU()\n",
      "  (maxpool1): MaxPool2d(kernel_size=2, stride=2, padding=0, dilation=1, ceil_mode=False)\n",
      "  (conv2): Conv2d(6, 16, kernel_size=(5, 5), stride=(1, 1))\n",
      "  (relu2): ReLU()\n",
      "  (maxpool2): MaxPool2d(kernel_size=2, stride=2, padding=0, dilation=1, ceil_mode=False)\n",
      "  (linear): Linear(in_features=256, out_features=84, bias=True)\n",
      "  (relu3): ReLU()\n",
      "  (linear1): Linear(in_features=84, out_features=16, bias=True)\n",
      "  (relu4): ReLU()\n",
      "  (linear2): Linear(in_features=16, out_features=10, bias=True)\n",
      "  (softmax): Softmax(dim=1)\n",
      ")\n"
     ]
    }
   ],
   "source": [
    "model = CNN(num_channels=1,num_outputs=10)\n",
    "print(model)"
   ],
   "metadata": {
    "collapsed": false
   }
  },
  {
   "cell_type": "markdown",
   "source": [
    "## Create the loss and the optimizer functionality"
   ],
   "metadata": {
    "collapsed": false
   }
  },
  {
   "cell_type": "code",
   "execution_count": 40,
   "outputs": [],
   "source": [
    "# Crete the loss component\n",
    "loss = torch.nn.CrossEntropyLoss()\n",
    "\n",
    "# Create the optimizer term\n",
    "optimizer = torch.optim.SGD(model.parameters(),lr=2.1)"
   ],
   "metadata": {
    "collapsed": false
   }
  },
  {
   "cell_type": "markdown",
   "source": [
    "# Create a metric for calculating the Accuracy of the network on the training data"
   ],
   "metadata": {
    "collapsed": false
   }
  },
  {
   "cell_type": "code",
   "execution_count": 41,
   "outputs": [],
   "source": [
    "def accuracy(y_hat,y):\n",
    "    if len(y_hat.shape) > 1 and y_hat.shape[1] > 1:\n",
    "        y_hat = y_hat.argmax(axis=1)\n",
    "        cmp = (y_hat.type(y.dtype) == y)\n",
    "        return float(torch.sum(cmp))"
   ],
   "metadata": {
    "collapsed": false
   }
  },
  {
   "cell_type": "markdown",
   "source": [
    "## Create a function for training the network"
   ],
   "metadata": {
    "collapsed": false
   }
  },
  {
   "cell_type": "code",
   "execution_count": 42,
   "outputs": [],
   "source": [
    "def train_model(model,loss,optimizer,X,y):\n",
    "    model.train()\n",
    "\n",
    "    num_epochs = 300\n",
    "    for epoch in range(num_epochs):\n",
    "        y_hat = model(X)\n",
    "        l = loss(y_hat,y)\n",
    "\n",
    "        optimizer.zero_grad()\n",
    "\n",
    "        l.backward()\n",
    "        optimizer.step()"
   ],
   "metadata": {
    "collapsed": false
   }
  },
  {
   "cell_type": "code",
   "execution_count": 43,
   "outputs": [],
   "source": [
    "train_model(model,loss,optimizer,X,y)"
   ],
   "metadata": {
    "collapsed": false
   }
  },
  {
   "cell_type": "code",
   "execution_count": 44,
   "outputs": [
    {
     "data": {
      "text/plain": "0.79296875"
     },
     "execution_count": 44,
     "metadata": {},
     "output_type": "execute_result"
    }
   ],
   "source": [
    "accuracy(model(X),y)/len(y)"
   ],
   "metadata": {
    "collapsed": false
   }
  }
 ],
 "metadata": {
  "kernelspec": {
   "display_name": "Python 3",
   "language": "python",
   "name": "python3"
  },
  "language_info": {
   "codemirror_mode": {
    "name": "ipython",
    "version": 2
   },
   "file_extension": ".py",
   "mimetype": "text/x-python",
   "name": "python",
   "nbconvert_exporter": "python",
   "pygments_lexer": "ipython2",
   "version": "2.7.6"
  }
 },
 "nbformat": 4,
 "nbformat_minor": 0
}
