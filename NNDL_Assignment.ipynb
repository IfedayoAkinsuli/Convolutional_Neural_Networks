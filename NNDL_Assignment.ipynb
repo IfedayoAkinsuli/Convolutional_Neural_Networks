{
 "cells": [
  {
   "cell_type": "markdown",
   "source": [
    "# Assignment"
   ],
   "metadata": {
    "collapsed": false
   }
  },
  {
   "cell_type": "markdown",
   "source": [
    "## Importing Libraries"
   ],
   "metadata": {
    "collapsed": false
   }
  },
  {
   "cell_type": "code",
   "execution_count": 474,
   "metadata": {
    "collapsed": true
   },
   "outputs": [],
   "source": [
    "import numpy as np\n",
    "import torch\n",
    "import torchvision\n",
    "import torchvision.datasets as datasets\n",
    "import matplotlib.pyplot as plt\n",
    "import seaborn as sns"
   ]
  },
  {
   "cell_type": "markdown",
   "source": [
    "## Loading the Datasets"
   ],
   "metadata": {
    "collapsed": false
   }
  },
  {
   "cell_type": "code",
   "execution_count": 475,
   "outputs": [
    {
     "name": "stdout",
     "output_type": "stream",
     "text": [
      "Files already downloaded and verified\n",
      "Files already downloaded and verified\n"
     ]
    }
   ],
   "source": [
    "cifar_dataset_train = datasets.CIFAR10(root='./data',train=True,download=True,transform=torchvision.transforms.ToTensor())\n",
    "\n",
    "cifar_dataset_test = datasets.CIFAR10(root='./data',train=False,download=True,transform=torchvision.transforms.ToTensor())"
   ],
   "metadata": {
    "collapsed": false
   }
  },
  {
   "cell_type": "markdown",
   "source": [
    "## Creating the training dataset"
   ],
   "metadata": {
    "collapsed": false
   }
  },
  {
   "cell_type": "code",
   "execution_count": 476,
   "outputs": [],
   "source": [
    "from torch.utils.data import DataLoader\n",
    "batch_size = 50\n",
    "\n",
    "train_iter = DataLoader(cifar_dataset_train,batch_size,shuffle=True)"
   ],
   "metadata": {
    "collapsed": false
   }
  },
  {
   "cell_type": "code",
   "execution_count": 477,
   "outputs": [],
   "source": [
    "X,y = next(iter(train_iter))"
   ],
   "metadata": {
    "collapsed": false
   }
  },
  {
   "cell_type": "markdown",
   "source": [
    "## Creating the test dataset"
   ],
   "metadata": {
    "collapsed": false
   }
  },
  {
   "cell_type": "code",
   "execution_count": 478,
   "outputs": [],
   "source": [
    "test_iter = DataLoader(cifar_dataset_test,batch_size,shuffle=True)"
   ],
   "metadata": {
    "collapsed": false
   }
  },
  {
   "cell_type": "code",
   "execution_count": 479,
   "outputs": [],
   "source": [
    "X_test,y_test = next(iter(test_iter))"
   ],
   "metadata": {
    "collapsed": false
   }
  },
  {
   "cell_type": "markdown",
   "source": [
    "## Analysing the CIFAR-10 data"
   ],
   "metadata": {
    "collapsed": false
   }
  },
  {
   "cell_type": "code",
   "execution_count": 480,
   "outputs": [
    {
     "name": "stdout",
     "output_type": "stream",
     "text": [
      "The dimensions of each input image is torch.Size([50, 3, 32, 32]) The number of input channels is 3\n",
      "The output labels are as follows tensor([8, 8, 7, 6, 0, 6, 7, 2, 9, 7, 8, 6, 9, 2, 5, 0, 2, 7, 3, 5, 8, 6, 0, 1,\n",
      "        2, 9, 0, 0, 2, 4, 3, 0, 4, 7, 7, 6, 7, 1, 2, 3, 3, 1, 2, 5, 5, 3, 9, 0,\n",
      "        0, 6])\n"
     ]
    }
   ],
   "source": [
    "print(f'The dimensions of each input image is {X.size()} The number of input channels is {X.size()[1]}')\n",
    "print(f'The output labels are as follows {y}')"
   ],
   "metadata": {
    "collapsed": false
   }
  },
  {
   "cell_type": "markdown",
   "source": [
    "## Example image"
   ],
   "metadata": {
    "collapsed": false
   }
  },
  {
   "cell_type": "code",
   "execution_count": 481,
   "outputs": [
    {
     "data": {
      "text/plain": "<matplotlib.image.AxesImage at 0x22e918ee530>"
     },
     "execution_count": 481,
     "metadata": {},
     "output_type": "execute_result"
    },
    {
     "data": {
      "text/plain": "<Figure size 640x480 with 1 Axes>",
      "image/png": "[encoded data removed]"
     },
     "metadata": {},
     "output_type": "display_data"
    }
   ],
   "source": [
    "plt.imshow(X[1].T)"
   ],
   "metadata": {
    "collapsed": false
   }
  },
  {
   "cell_type": "markdown",
   "source": [
    "## CNN Architecture"
   ],
   "metadata": {
    "collapsed": false
   }
  },
  {
   "cell_type": "code",
   "execution_count": 496,
   "outputs": [],
   "source": [
    "class CNN(torch.nn.Module):\n",
    "    def __init__(self,num_channels,num_outputs):\n",
    "        super(CNN,self).__init__()\n",
    "        self.num_channels = num_channels\n",
    "        self.num_outputs = num_outputs\n",
    "\n",
    "        #Spatial/Global Pooling for input-------------------------------------------------------\n",
    "        self.spatial_avg_pool1 = torch.nn.AdaptiveAvgPool2d((24,24))\n",
    "\n",
    "        # Design the base block Element---------------------------------------------------------\n",
    "        #Create an input linear layer for future combination\n",
    "\n",
    "        self.linear1 = torch.nn.Linear(in_features=1728,out_features=2)\n",
    "        self.relu1 = torch.nn.ReLU()\n",
    "\n",
    "        self.conv1 = torch.nn.Conv2d(num_channels,out_channels=6,kernel_size=3,stride=2,padding=1)\n",
    "        self.relu2 = torch.nn.ReLU()\n",
    "\n",
    "        self.conv2 = torch.nn.Conv2d(num_channels,out_channels=8,kernel_size=3,stride=2,padding=1)\n",
    "        self.relu3 = torch.nn.ReLU()\n",
    "\n",
    "        # Create Block 2 in the backbone-------------------------------------------------------\n",
    "        self.linear12 = torch.nn.Linear(in_features=3584,out_features=2)\n",
    "        self.relu12 = torch.nn.ReLU()\n",
    "\n",
    "        self.conv12 = torch.nn.Conv2d(in_channels=350,out_channels=6,kernel_size=3,stride=2,padding=1)\n",
    "        self.relu22 = torch.nn.ReLU()\n",
    "\n",
    "        self.conv22 = torch.nn.Conv2d(in_channels=350,out_channels=8,kernel_size=3,stride=2,padding=1)\n",
    "        self.relu32 = torch.nn.ReLU()\n",
    "\n",
    "        # Create Block 2 in the backbone-------------------------------------------------------\n",
    "        self.linear13 = torch.nn.Linear(in_features=896,out_features=2)\n",
    "        self.relu13 = torch.nn.ReLU()\n",
    "\n",
    "        self.conv13 = torch.nn.Conv2d(in_channels=350,out_channels=6,kernel_size=3,stride=2,padding=1)\n",
    "        self.relu23 = torch.nn.ReLU()\n",
    "\n",
    "        self.conv23 = torch.nn.Conv2d(in_channels=350,out_channels=8,kernel_size=3,stride=2,padding=1)\n",
    "        self.relu33 = torch.nn.ReLU()\n",
    "\n",
    "        # Create the spatial average pooling layer for the inputs to the dense---------------------\n",
    "        self.spatial_avg_pool2 = torch.nn.AdaptiveAvgPool1d(20)\n",
    "\n",
    "        # Create the dense,classification block----------------------------------------------------\n",
    "        # First FC linear layer\n",
    "        self.linear2 = torch.nn.Linear(in_features=20,out_features=num_outputs)\n",
    "        self.relu4 = torch.nn.ReLU()\n",
    "\n",
    "        # Softmax application to get probabilities of classes\n",
    "        self.softmax = torch.nn.Softmax(dim=1)\n",
    "\n",
    "        #Initialize the weights and the bias for the linear layer\n",
    "        # First blocks linear layer\n",
    "        torch.nn.init.kaiming_normal_(self.linear1.weight,nonlinearity='relu')\n",
    "        torch.nn.init.zeros_(self.linear1.bias)\n",
    "\n",
    "        #Second blocks linear layer\n",
    "        torch.nn.init.kaiming_normal_(self.linear12.weight,nonlinearity='relu')\n",
    "        torch.nn.init.zeros_(self.linear12.bias)\n",
    "\n",
    "        #Third blocks linear layer\n",
    "        torch.nn.init.kaiming_normal_(self.linear13.weight,nonlinearity='relu')\n",
    "        torch.nn.init.zeros_(self.linear13.bias)\n",
    "\n",
    "        #Final linear layer\n",
    "        torch.nn.init.kaiming_normal_(self.linear2.weight,nonlinearity='relu')\n",
    "        torch.nn.init.zeros_(self.linear2.bias)\n",
    "\n",
    "        #Define the proportion of neurons to dropout\n",
    "        self.dropout = torch.nn.Dropout(0.25)\n",
    "\n",
    "    def forward(self,x):\n",
    "        # Applying average pooling to downsample the image from 32 -> 24\n",
    "        a = self.spatial_avg_pool1(x)\n",
    "\n",
    "        # First Block------------------------------------------------------\n",
    "        #Reshape the tensor to allow for matrix multiplication\n",
    "        a = a.view(a.size(0),-1)\n",
    "\n",
    "        a = self.linear1(a)\n",
    "        a = self.dropout(a)\n",
    "        a = self.relu1(a)\n",
    "\n",
    "        # Get outputs of each convolution ->RelU layer\n",
    "        o1 = self.conv1(x)\n",
    "        o1 = self.relu2(o1)\n",
    "\n",
    "        o2 = self.conv2(x)\n",
    "        o2 = self.relu3(o2)\n",
    "\n",
    "        #Combine the output of each convolutional layer\n",
    "        O = torch.cat([o1,o2],dim=1)\n",
    "\n",
    "        # Multiply the matrices to get the output in the correct form\n",
    "        O_b1 = torch.matmul(O.view(-1,2),a.T) #Output of block 1\n",
    "\n",
    "        # Second block--------------------------------------------------\n",
    "        #Reshape the tensor to allow for matrix multiplication\n",
    "        a2 = O.view(O_b1.size(1),-1)\n",
    "\n",
    "        #Refactor to have the same input\n",
    "        x = O_b1.view(O_b1.size(1),-1,16,16)\n",
    "\n",
    "        a2 = self.linear12(a2)\n",
    "        a2 = self.dropout(a2)\n",
    "        a2 = self.relu12(a2)\n",
    "\n",
    "        # Get outputs of each convolution ->RelU layer\n",
    "        o1 = self.conv12(x)\n",
    "        o1 = self.relu22(o1)\n",
    "\n",
    "        o2 = self.conv22(x)\n",
    "        o2 = self.relu32(o2)\n",
    "\n",
    "        #Combine the output of each convolutional layer\n",
    "        O = torch.cat([o1,o2],dim=1)\n",
    "\n",
    "        # Multiply the matrices to get the output in the correct form\n",
    "        O_b2 = torch.matmul(O.view(-1,2),a2.T) #Output of block 2\n",
    "\n",
    "        # Third block--------------------------------------------------\n",
    "        #Reshape the tensor to allow for matrix multiplication\n",
    "        a3 = O.view(O_b2.size(1),-1)\n",
    "\n",
    "        #Refactor to have the same input\n",
    "        x = O_b2.view(O_b2.size(1),-1,8,8)\n",
    "\n",
    "        a3 = self.linear13(a3)\n",
    "        a3 = self.dropout(a3)\n",
    "        a3 = self.relu13(a3)\n",
    "\n",
    "        # Get outputs of each convolution ->RelU layer\n",
    "        o1 = self.conv13(x)\n",
    "        o1 = self.relu23(o1)\n",
    "\n",
    "        o2 = self.conv23(x)\n",
    "        o2 = self.relu33(o2)\n",
    "\n",
    "        #Combine the output of each convolutional layer\n",
    "        O = torch.cat([o1,o2],dim=1)\n",
    "\n",
    "        # Multiply the matrices to get the output in the correct form\n",
    "        O_bn = torch.matmul(O.view(-1,2),a3.T) #Output of block 2\n",
    "\n",
    "\n",
    "        # Apply spatial pooling before entering the dense layer------------\n",
    "        O_bn = self.spatial_avg_pool2(O_bn.view(50,-1))\n",
    "\n",
    "        # Move to the dense/classification block\n",
    "        output = self.linear2(O_bn.view(50,-1))\n",
    "        output = self.dropout(output)\n",
    "        output = self.relu4(output)\n",
    "\n",
    "        output = self.softmax(output)\n",
    "\n",
    "        return output"
   ],
   "metadata": {
    "collapsed": false
   }
  },
  {
   "cell_type": "code",
   "execution_count": 497,
   "outputs": [
    {
     "name": "stdout",
     "output_type": "stream",
     "text": [
      "CNN(\n",
      "  (spatial_avg_pool1): AdaptiveAvgPool2d(output_size=(24, 24))\n",
      "  (linear1): Linear(in_features=1728, out_features=2, bias=True)\n",
      "  (relu1): ReLU()\n",
      "  (conv1): Conv2d(3, 6, kernel_size=(3, 3), stride=(2, 2), padding=(1, 1))\n",
      "  (relu2): ReLU()\n",
      "  (conv2): Conv2d(3, 8, kernel_size=(3, 3), stride=(2, 2), padding=(1, 1))\n",
      "  (relu3): ReLU()\n",
      "  (linear12): Linear(in_features=3584, out_features=2, bias=True)\n",
      "  (relu12): ReLU()\n",
      "  (conv12): Conv2d(350, 6, kernel_size=(3, 3), stride=(2, 2), padding=(1, 1))\n",
      "  (relu22): ReLU()\n",
      "  (conv22): Conv2d(350, 8, kernel_size=(3, 3), stride=(2, 2), padding=(1, 1))\n",
      "  (relu32): ReLU()\n",
      "  (linear13): Linear(in_features=896, out_features=2, bias=True)\n",
      "  (relu13): ReLU()\n",
      "  (conv13): Conv2d(350, 6, kernel_size=(3, 3), stride=(2, 2), padding=(1, 1))\n",
      "  (relu23): ReLU()\n",
      "  (conv23): Conv2d(350, 8, kernel_size=(3, 3), stride=(2, 2), padding=(1, 1))\n",
      "  (relu33): ReLU()\n",
      "  (spatial_avg_pool2): AdaptiveAvgPool1d(output_size=20)\n",
      "  (linear2): Linear(in_features=20, out_features=10, bias=True)\n",
      "  (relu4): ReLU()\n",
      "  (softmax): Softmax(dim=1)\n",
      "  (dropout): Dropout(p=0.25, inplace=False)\n",
      ")\n"
     ]
    }
   ],
   "source": [
    "model = CNN(num_channels=3,num_outputs=10)\n",
    "print(model)"
   ],
   "metadata": {
    "collapsed": false
   }
  },
  {
   "cell_type": "code",
   "execution_count": 498,
   "outputs": [
    {
     "data": {
      "text/plain": "torch.Size([50, 10])"
     },
     "execution_count": 498,
     "metadata": {},
     "output_type": "execute_result"
    }
   ],
   "source": [
    "model(X).size()"
   ],
   "metadata": {
    "collapsed": false
   }
  },
  {
   "cell_type": "markdown",
   "source": [
    "## Create the metric for calculating accuracy"
   ],
   "metadata": {
    "collapsed": false
   }
  },
  {
   "cell_type": "code",
   "execution_count": 499,
   "outputs": [],
   "source": [
    "def accuracy(y_hat,y):\n",
    "    if len(y_hat.shape) > 1 and y_hat.shape[1] > 1:\n",
    "        y_hat = y_hat.argmax(axis=1)\n",
    "        cmp = (y_hat.type(y.dtype) == y)\n",
    "        return float(torch.sum(cmp))"
   ],
   "metadata": {
    "collapsed": false
   }
  },
  {
   "cell_type": "markdown",
   "source": [
    "## Create the model training system"
   ],
   "metadata": {
    "collapsed": false
   }
  },
  {
   "cell_type": "code",
   "execution_count": 500,
   "outputs": [],
   "source": [
    "def train_model(model,X,y,X_test,y_test,accuracy,epochs):\n",
    "\n",
    "    # Create the loss component\n",
    "    loss = torch.nn.CrossEntropyLoss()\n",
    "\n",
    "    # Create the optimizer term\n",
    "    optimizer = torch.optim.Adam(model.parameters(), lr=0.00001)\n",
    "\n",
    "    score_train = []\n",
    "    score_test = []\n",
    "\n",
    "    for num_epochs in epochs:\n",
    "        for epoch in range(num_epochs):\n",
    "            model.train()\n",
    "            y_hat = model(X)\n",
    "            l = loss(y_hat,y)\n",
    "\n",
    "            optimizer.zero_grad()\n",
    "\n",
    "            l.backward()\n",
    "            optimizer.step()\n",
    "\n",
    "        # Training Accuracy\n",
    "        score_train.append(accuracy(model(X),y)/len(y))\n",
    "\n",
    "        # # Test Accuracy\n",
    "        # torch.no_grad()\n",
    "        # model.eval()\n",
    "        # score_test.append(accuracy(model(X_test),y_test)/len(y_test))\n",
    "\n",
    "    return score_train"
   ],
   "metadata": {
    "collapsed": false
   }
  },
  {
   "cell_type": "code",
   "execution_count": 501,
   "outputs": [],
   "source": [
    "epochs = range(0,200,20) #Give the epochs in chunks rather than individually to speed up the processing\n",
    "s1 = train_model(model,X,y,X_test,y_test,accuracy,epochs)"
   ],
   "metadata": {
    "collapsed": false
   }
  },
  {
   "cell_type": "code",
   "execution_count": 502,
   "outputs": [
    {
     "data": {
      "text/plain": "[0.08, 0.06, 0.08, 0.24, 0.38, 0.36, 0.38, 0.4, 0.36, 0.4]"
     },
     "execution_count": 502,
     "metadata": {},
     "output_type": "execute_result"
    }
   ],
   "source": [
    "s1"
   ],
   "metadata": {
    "collapsed": false
   }
  },
  {
   "cell_type": "code",
   "execution_count": 464,
   "outputs": [
    {
     "data": {
      "text/plain": "Text(0, 0.5, 'Accuracy')"
     },
     "execution_count": 464,
     "metadata": {},
     "output_type": "execute_result"
    },
    {
     "data": {
      "text/plain": "<Figure size 640x480 with 1 Axes>",
      "image/png": "[encoded data removed]"
     },
     "metadata": {},
     "output_type": "display_data"
    }
   ],
   "source": [
    "sns.lineplot(x=epochs,y=s1,label='training accuracy')\n",
    "#sns.lineplot(x=epochs,y=s2,label='test accuracy')\n",
    "plt.xlabel('Epochs')\n",
    "plt.ylabel('Accuracy')"
   ],
   "metadata": {
    "collapsed": false
   }
  },
  {
   "cell_type": "code",
   "execution_count": null,
   "outputs": [],
   "source": [],
   "metadata": {
    "collapsed": false
   }
  }
 ],
 "metadata": {
  "kernelspec": {
   "display_name": "Python 3",
   "language": "python",
   "name": "python3"
  },
  "language_info": {
   "codemirror_mode": {
    "name": "ipython",
    "version": 2
   },
   "file_extension": ".py",
   "mimetype": "text/x-python",
   "name": "python",
   "nbconvert_exporter": "python",
   "pygments_lexer": "ipython2",
   "version": "2.7.6"
  }
 },
 "nbformat": 4,
 "nbformat_minor": 0
}
