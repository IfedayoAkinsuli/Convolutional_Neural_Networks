{
 "cells": [
  {
   "cell_type": "markdown",
   "source": [
    "# Assignment"
   ],
   "metadata": {
    "collapsed": false
   }
  },
  {
   "cell_type": "markdown",
   "source": [
    "## Importing Libraries"
   ],
   "metadata": {
    "collapsed": false
   }
  },
  {
   "cell_type": "code",
   "execution_count": 1,
   "metadata": {
    "collapsed": true
   },
   "outputs": [],
   "source": [
    "import numpy as np\n",
    "import torch\n",
    "import torchvision\n",
    "import torchvision.datasets as datasets\n",
    "import matplotlib.pyplot as plt\n",
    "import seaborn as sns"
   ]
  },
  {
   "cell_type": "markdown",
   "source": [
    "## Loading the Datasets"
   ],
   "metadata": {
    "collapsed": false
   }
  },
  {
   "cell_type": "code",
   "execution_count": 2,
   "outputs": [
    {
     "name": "stdout",
     "output_type": "stream",
     "text": [
      "Files already downloaded and verified\n",
      "Files already downloaded and verified\n"
     ]
    }
   ],
   "source": [
    "cifar_dataset_train = datasets.CIFAR10(root='./data',train=True,download=True,transform=torchvision.transforms.ToTensor())\n",
    "\n",
    "cifar_dataset_test = datasets.CIFAR10(root='./data',train=False,download=True,transform=torchvision.transforms.ToTensor())"
   ],
   "metadata": {
    "collapsed": false
   }
  },
  {
   "cell_type": "markdown",
   "source": [
    "## Creating the training dataset"
   ],
   "metadata": {
    "collapsed": false
   }
  },
  {
   "cell_type": "code",
   "execution_count": 547,
   "outputs": [],
   "source": [
    "from torch.utils.data import DataLoader\n",
    "batch_size = 256\n",
    "\n",
    "train_iter = DataLoader(cifar_dataset_train,batch_size,shuffle=True)"
   ],
   "metadata": {
    "collapsed": false
   }
  },
  {
   "cell_type": "code",
   "execution_count": 548,
   "outputs": [],
   "source": [
    "X,y = next(iter(train_iter))"
   ],
   "metadata": {
    "collapsed": false
   }
  },
  {
   "cell_type": "markdown",
   "source": [
    "## Creating the test dataset"
   ],
   "metadata": {
    "collapsed": false
   }
  },
  {
   "cell_type": "code",
   "execution_count": 549,
   "outputs": [],
   "source": [
    "test_iter = DataLoader(cifar_dataset_test,batch_size,shuffle=True)"
   ],
   "metadata": {
    "collapsed": false
   }
  },
  {
   "cell_type": "code",
   "execution_count": 550,
   "outputs": [],
   "source": [
    "X_test,y_test = next(iter(test_iter))"
   ],
   "metadata": {
    "collapsed": false
   }
  },
  {
   "cell_type": "markdown",
   "source": [
    "## Analysing the CIFAR-10 data"
   ],
   "metadata": {
    "collapsed": false
   }
  },
  {
   "cell_type": "code",
   "execution_count": 551,
   "outputs": [
    {
     "name": "stdout",
     "output_type": "stream",
     "text": [
      "The dimensions of each input image is torch.Size([256, 3, 32, 32]) The number of input channels is 3\n",
      "The output labels are as follows tensor([4, 5, 2, 5, 4, 6, 6, 0, 2, 7, 2, 0, 0, 0, 1, 3, 5, 7, 9, 5, 7, 0, 3, 3,\n",
      "        8, 4, 0, 6, 3, 2, 2, 3, 0, 5, 2, 2, 3, 8, 1, 1, 0, 8, 3, 8, 3, 8, 4, 7,\n",
      "        2, 9, 2, 8, 3, 2, 4, 7, 3, 9, 1, 5, 5, 7, 4, 6, 9, 7, 9, 1, 6, 4, 3, 1,\n",
      "        5, 0, 7, 8, 1, 4, 0, 6, 4, 2, 2, 8, 5, 4, 5, 7, 0, 9, 1, 8, 4, 0, 9, 2,\n",
      "        8, 6, 9, 9, 7, 0, 7, 8, 8, 9, 2, 2, 7, 6, 7, 5, 2, 2, 4, 0, 4, 2, 5, 4,\n",
      "        9, 2, 2, 9, 7, 4, 5, 9, 6, 2, 8, 0, 9, 3, 6, 4, 5, 1, 8, 5, 1, 4, 9, 5,\n",
      "        0, 7, 3, 2, 7, 5, 0, 2, 6, 4, 0, 7, 6, 6, 5, 4, 0, 1, 5, 1, 2, 9, 2, 0,\n",
      "        7, 4, 6, 4, 6, 1, 9, 3, 7, 7, 7, 4, 0, 5, 9, 9, 8, 4, 0, 2, 7, 8, 5, 5,\n",
      "        0, 7, 3, 6, 1, 7, 0, 0, 9, 6, 4, 8, 7, 5, 7, 6, 8, 2, 9, 9, 9, 1, 4, 6,\n",
      "        8, 6, 6, 3, 2, 6, 3, 6, 1, 7, 9, 5, 7, 4, 5, 5, 6, 7, 2, 3, 1, 7, 2, 8,\n",
      "        6, 3, 0, 4, 6, 2, 8, 7, 5, 5, 1, 3, 2, 4, 6, 7])\n"
     ]
    }
   ],
   "source": [
    "print(f'The dimensions of each input image is {X.size()} The number of input channels is {X.size()[1]}')\n",
    "print(f'The output labels are as follows {y}')"
   ],
   "metadata": {
    "collapsed": false
   }
  },
  {
   "cell_type": "markdown",
   "source": [
    "## Example image"
   ],
   "metadata": {
    "collapsed": false
   }
  },
  {
   "cell_type": "code",
   "execution_count": 552,
   "outputs": [
    {
     "data": {
      "text/plain": "<matplotlib.image.AxesImage at 0x260884a8880>"
     },
     "execution_count": 552,
     "metadata": {},
     "output_type": "execute_result"
    },
    {
     "data": {
      "text/plain": "<Figure size 640x480 with 1 Axes>",
      "image/png": "[encoded data removed]"
     },
     "metadata": {},
     "output_type": "display_data"
    }
   ],
   "source": [
    "plt.imshow(X[1].T)"
   ],
   "metadata": {
    "collapsed": false
   }
  },
  {
   "cell_type": "markdown",
   "source": [
    "## CNN Architecture"
   ],
   "metadata": {
    "collapsed": false
   }
  },
  {
   "cell_type": "code",
   "execution_count": 567,
   "outputs": [],
   "source": [
    "class CNN(torch.nn.Module):\n",
    "    def __init__(self,num_channels,num_outputs):\n",
    "        super(CNN,self).__init__()\n",
    "        self.num_channels = num_channels\n",
    "        self.num_outputs = num_outputs\n",
    "\n",
    "        #Spatial/Global Pooling for input-------------------------------------------------------\n",
    "        self.spatial_avg_pool1 = torch.nn.AdaptiveAvgPool2d((24,24))\n",
    "\n",
    "        # Design the base block Element---------------------------------------------------------\n",
    "        #Create an input linear layer for future combination\n",
    "\n",
    "        self.linear1 = torch.nn.Linear(in_features= 442368,out_features=3)\n",
    "        self.relu1 = torch.nn.ReLU()\n",
    "\n",
    "        self.conv1 = torch.nn.Conv2d(num_channels,out_channels=96,kernel_size=11,stride=4,padding=2)\n",
    "        self.batchn1 = torch.nn.BatchNorm2d(96)\n",
    "        self.relub1 = torch.nn.ReLU()\n",
    "\n",
    "        self.conv2 = torch.nn.Conv2d(num_channels,out_channels=256,kernel_size=5,stride=1,padding=1)\n",
    "        self.batchn2 = torch.nn.BatchNorm2d(96)\n",
    "        self.relub2 = torch.nn.ReLU()\n",
    "\n",
    "        self.conv3 = torch.nn.Conv2d(num_channels,out_channels=384,kernel_size=3,stride=5,padding=1)\n",
    "        self.batchn3 = torch.nn.BatchNorm2d(384)\n",
    "        self.relub3 = torch.nn.ReLU()\n",
    "\n",
    "        # Create the spatial average pooling layer for the inputs to the dense---------------------\n",
    "        self.spatial_avg_pool2 = torch.nn.AdaptiveAvgPool1d(9216)\n",
    "\n",
    "        # Create the dense,classification block----------------------------------------------------\n",
    "        # First FC linear layer\n",
    "        self.linear5 = torch.nn.Linear(in_features=9216,out_features=4096)\n",
    "        self.relu6 = torch.nn.ReLU()\n",
    "\n",
    "        self.linear6 = torch.nn.Linear(in_features=4096,out_features=num_outputs)\n",
    "        self.relu7 = torch.nn.ReLU()\n",
    "\n",
    "        # Softmax application to get probabilities of classes\n",
    "        self.softmax = torch.nn.Softmax(dim=1)\n",
    "\n",
    "        # Initialize the convolutional layers\n",
    "        torch.nn.init.xavier_uniform_(self.conv1.weight)\n",
    "        torch.nn.init.xavier_uniform_(self.conv2.weight)\n",
    "        torch.nn.init.xavier_uniform_(self.conv3.weight)\n",
    "\n",
    "        #Define the proportion of neurons to dropout\n",
    "        self.dropout = torch.nn.Dropout(0.25)\n",
    "\n",
    "    def forward(self,x):\n",
    "        # Applying average pooling to downsample the image from 32 -> 24\n",
    "        a = self.spatial_avg_pool1(x)\n",
    "\n",
    "        # # First Block------------------------------------------------------\n",
    "        # #Reshape the tensor to allow for matrix multiplication\n",
    "        a = torch.flatten(a)\n",
    "\n",
    "        a = self.linear1(a)\n",
    "        a = self.relu1(a)\n",
    "\n",
    "        # # Get outputs of each convolution ->RelU layer\n",
    "        o1 = self.conv1(x)\n",
    "        o1 = self.batchn1(o1)\n",
    "        o1 = self.relub1(o1)\n",
    "\n",
    "        o2 = self.conv1(x)\n",
    "        o2 = self.batchn2(o2)\n",
    "        o2 = self.relub2(o2)\n",
    "\n",
    "        o3 = self.conv3(x)\n",
    "        o3 = self.batchn3(o3)\n",
    "        o3 = self.relub3(o3)\n",
    "\n",
    "        # concatenate\n",
    "        O = torch.concat([o1,o2,o3],dim=1)\n",
    "\n",
    "        # # Prepare the outputs for the second block\n",
    "        O = torch.matmul(a,O.view(3,-1))\n",
    "\n",
    "        # # Apply spatial pooling before entering the dense layer------------\n",
    "        O_bn = self.spatial_avg_pool2(O.view(256,-1))\n",
    "\n",
    "        # # Move to the dense/classification block\n",
    "        output = self.linear5(O_bn.view(256,-1))\n",
    "        output = self.dropout(output)\n",
    "        output = self.relu6(output)\n",
    "\n",
    "        output = self.linear6(output)\n",
    "        output = self.dropout(output)\n",
    "        output = self.relu7(output)\n",
    "\n",
    "        output = self.softmax(output)\n",
    "\n",
    "        return output"
   ],
   "metadata": {
    "collapsed": false
   }
  },
  {
   "cell_type": "code",
   "execution_count": 568,
   "outputs": [
    {
     "name": "stdout",
     "output_type": "stream",
     "text": [
      "CNN(\n",
      "  (spatial_avg_pool1): AdaptiveAvgPool2d(output_size=(24, 24))\n",
      "  (linear1): Linear(in_features=442368, out_features=3, bias=True)\n",
      "  (relu1): ReLU()\n",
      "  (conv1): Conv2d(3, 96, kernel_size=(11, 11), stride=(4, 4), padding=(2, 2))\n",
      "  (batchn1): BatchNorm2d(96, eps=1e-05, momentum=0.1, affine=True, track_running_stats=True)\n",
      "  (relub1): ReLU()\n",
      "  (conv2): Conv2d(3, 256, kernel_size=(5, 5), stride=(1, 1), padding=(1, 1))\n",
      "  (batchn2): BatchNorm2d(96, eps=1e-05, momentum=0.1, affine=True, track_running_stats=True)\n",
      "  (relub2): ReLU()\n",
      "  (conv3): Conv2d(3, 384, kernel_size=(3, 3), stride=(5, 5), padding=(1, 1))\n",
      "  (batchn3): BatchNorm2d(384, eps=1e-05, momentum=0.1, affine=True, track_running_stats=True)\n",
      "  (relub3): ReLU()\n",
      "  (spatial_avg_pool2): AdaptiveAvgPool1d(output_size=9216)\n",
      "  (linear5): Linear(in_features=9216, out_features=4096, bias=True)\n",
      "  (relu6): ReLU()\n",
      "  (linear6): Linear(in_features=4096, out_features=10, bias=True)\n",
      "  (relu7): ReLU()\n",
      "  (softmax): Softmax(dim=1)\n",
      "  (dropout): Dropout(p=0.25, inplace=False)\n",
      ")\n"
     ]
    }
   ],
   "source": [
    "model = CNN(num_channels=3,num_outputs=10)\n",
    "print(model)"
   ],
   "metadata": {
    "collapsed": false
   }
  },
  {
   "cell_type": "code",
   "execution_count": 569,
   "outputs": [
    {
     "data": {
      "text/plain": "torch.Size([256, 10])"
     },
     "execution_count": 569,
     "metadata": {},
     "output_type": "execute_result"
    }
   ],
   "source": [
    "model(X).size()"
   ],
   "metadata": {
    "collapsed": false
   }
  },
  {
   "cell_type": "code",
   "execution_count": 570,
   "outputs": [],
   "source": [
    "#a,b,c = model(X)"
   ],
   "metadata": {
    "collapsed": false
   }
  },
  {
   "cell_type": "code",
   "execution_count": 571,
   "outputs": [],
   "source": [
    "#c.size()"
   ],
   "metadata": {
    "collapsed": false
   }
  },
  {
   "cell_type": "markdown",
   "source": [
    "## Create the metric for calculating accuracy"
   ],
   "metadata": {
    "collapsed": false
   }
  },
  {
   "cell_type": "code",
   "execution_count": 572,
   "outputs": [],
   "source": [
    "def accuracy(y_hat,y):\n",
    "    if len(y_hat.shape) > 1 and y_hat.shape[1] > 1:\n",
    "        y_hat = y_hat.argmax(axis=1)\n",
    "        cmp = (y_hat.type(y.dtype) == y)\n",
    "        return float(torch.sum(cmp))"
   ],
   "metadata": {
    "collapsed": false
   }
  },
  {
   "cell_type": "markdown",
   "source": [
    "## Create the model training system"
   ],
   "metadata": {
    "collapsed": false
   }
  },
  {
   "cell_type": "code",
   "execution_count": 573,
   "outputs": [],
   "source": [
    "def train_model(model,X,y,X_test,y_test,accuracy,epochs):\n",
    "\n",
    "    # Create the loss component\n",
    "    loss = torch.nn.CrossEntropyLoss()\n",
    "\n",
    "    # Create the optimizer term\n",
    "    optimizer = torch.optim.SGD(model.parameters(), lr=0.005,weight_decay=0.005,momentum=0.9)\n",
    "\n",
    "    score_train = []\n",
    "    score_test = []\n",
    "    l_score = []\n",
    "\n",
    "    for epoch in range(0,epochs):\n",
    "        model.train()\n",
    "        y_hat = model(X)\n",
    "        l = loss(y_hat,y)\n",
    "\n",
    "        optimizer.zero_grad()\n",
    "\n",
    "        l.backward()\n",
    "        optimizer.step()\n",
    "\n",
    "        # Training Accuracy\n",
    "        score_train.append(accuracy(model(X),y)/len(y))\n",
    "\n",
    "        # Loss graph\n",
    "        l_score.append(l.item())\n",
    "\n",
    "        # # Test Accuracy\n",
    "        # torch.no_grad()\n",
    "        # model.eval()\n",
    "        # score_test.append(accuracy(model(X_test),y_test)/len(y_test))\n",
    "\n",
    "    return score_train,l_score"
   ],
   "metadata": {
    "collapsed": false
   }
  },
  {
   "cell_type": "code",
   "execution_count": 574,
   "outputs": [],
   "source": [
    "epochs = 100\n",
    "s1,loss = train_model(model,X,y,X_test,y_test,accuracy,epochs)"
   ],
   "metadata": {
    "collapsed": false
   }
  },
  {
   "cell_type": "code",
   "execution_count": 564,
   "outputs": [
    {
     "data": {
      "text/plain": "[0.078125,\n 0.09765625,\n 0.09375,\n 0.078125,\n 0.12109375,\n 0.09375,\n 0.10546875,\n 0.06640625,\n 0.0859375,\n 0.05859375,\n 0.1171875,\n 0.09765625,\n 0.08203125,\n 0.109375,\n 0.09765625,\n 0.10546875,\n 0.10546875,\n 0.08984375,\n 0.11328125,\n 0.1171875,\n 0.10546875,\n 0.109375,\n 0.109375,\n 0.1484375,\n 0.12890625,\n 0.14453125,\n 0.10546875,\n 0.10546875,\n 0.14453125,\n 0.1171875,\n 0.1640625,\n 0.1796875,\n 0.1484375,\n 0.1796875,\n 0.16796875,\n 0.21484375,\n 0.21875,\n 0.2578125,\n 0.23828125,\n 0.26171875,\n 0.27734375,\n 0.2890625,\n 0.30859375,\n 0.34765625,\n 0.28125,\n 0.37109375,\n 0.375,\n 0.37109375,\n 0.34765625,\n 0.39453125,\n 0.40234375,\n 0.35546875,\n 0.3984375,\n 0.375,\n 0.39453125,\n 0.421875,\n 0.40234375,\n 0.41796875,\n 0.4140625,\n 0.40625,\n 0.45703125,\n 0.4375,\n 0.4296875,\n 0.4609375,\n 0.46484375,\n 0.46484375,\n 0.44140625,\n 0.4609375,\n 0.5078125,\n 0.48046875,\n 0.4453125,\n 0.48828125,\n 0.50390625,\n 0.51953125,\n 0.50390625,\n 0.49609375,\n 0.51171875,\n 0.515625,\n 0.4765625,\n 0.4609375,\n 0.4921875,\n 0.5078125,\n 0.49609375,\n 0.49609375,\n 0.51171875,\n 0.515625,\n 0.515625,\n 0.48046875,\n 0.48828125,\n 0.48828125,\n 0.55859375,\n 0.57421875,\n 0.4921875,\n 0.51171875,\n 0.5078125,\n 0.54296875,\n 0.4921875,\n 0.484375,\n 0.50390625,\n 0.484375]"
     },
     "execution_count": 564,
     "metadata": {},
     "output_type": "execute_result"
    }
   ],
   "source": [
    "s1"
   ],
   "metadata": {
    "collapsed": false
   }
  },
  {
   "cell_type": "code",
   "execution_count": 565,
   "outputs": [
    {
     "data": {
      "text/plain": "Text(0, 0.5, 'Accuracy')"
     },
     "execution_count": 565,
     "metadata": {},
     "output_type": "execute_result"
    },
    {
     "data": {
      "text/plain": "<Figure size 640x480 with 1 Axes>",
      "image/png": "[encoded data removed]"
     },
     "metadata": {},
     "output_type": "display_data"
    }
   ],
   "source": [
    "sns.lineplot(x=range(0,epochs),y=s1,label='training accuracy')\n",
    "plt.xlabel('Epochs')\n",
    "plt.ylabel('Accuracy')"
   ],
   "metadata": {
    "collapsed": false
   }
  },
  {
   "cell_type": "code",
   "execution_count": 566,
   "outputs": [
    {
     "data": {
      "text/plain": "Text(0, 0.5, 'Accuracy')"
     },
     "execution_count": 566,
     "metadata": {},
     "output_type": "execute_result"
    },
    {
     "data": {
      "text/plain": "<Figure size 640x480 with 1 Axes>",
      "image/png": "[encoded data removed]"
     },
     "metadata": {},
     "output_type": "display_data"
    }
   ],
   "source": [
    "sns.lineplot(x=range(0,epochs),y=loss,label='loss')\n",
    "plt.xlabel('Epochs')\n",
    "plt.ylabel('Accuracy')"
   ],
   "metadata": {
    "collapsed": false
   }
  },
  {
   "cell_type": "code",
   "execution_count": null,
   "outputs": [],
   "source": [],
   "metadata": {
    "collapsed": false
   }
  }
 ],
 "metadata": {
  "kernelspec": {
   "display_name": "Python 3",
   "language": "python",
   "name": "python3"
  },
  "language_info": {
   "codemirror_mode": {
    "name": "ipython",
    "version": 2
   },
   "file_extension": ".py",
   "mimetype": "text/x-python",
   "name": "python",
   "nbconvert_exporter": "python",
   "pygments_lexer": "ipython2",
   "version": "2.7.6"
  }
 },
 "nbformat": 4,
 "nbformat_minor": 0
}
