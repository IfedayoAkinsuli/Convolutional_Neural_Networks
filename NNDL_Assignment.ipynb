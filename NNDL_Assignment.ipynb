{
 "cells": [
  {
   "cell_type": "markdown",
   "source": [
    "# Assignment"
   ],
   "metadata": {
    "collapsed": false
   }
  },
  {
   "cell_type": "markdown",
   "source": [
    "## Importing Libraries"
   ],
   "metadata": {
    "collapsed": false
   }
  },
  {
   "cell_type": "code",
   "execution_count": 9,
   "metadata": {
    "collapsed": true
   },
   "outputs": [],
   "source": [
    "import numpy as np\n",
    "import torch\n",
    "import torchvision\n",
    "import torchvision.datasets as datasets\n",
    "import matplotlib.pyplot as plt\n",
    "import seaborn as sns"
   ]
  },
  {
   "cell_type": "markdown",
   "source": [
    "## Loading the Datasets"
   ],
   "metadata": {
    "collapsed": false
   }
  },
  {
   "cell_type": "code",
   "execution_count": 10,
   "outputs": [
    {
     "name": "stdout",
     "output_type": "stream",
     "text": [
      "Files already downloaded and verified\n",
      "Files already downloaded and verified\n"
     ]
    }
   ],
   "source": [
    "cifar_dataset_train = datasets.CIFAR10(root='./data',train=True,download=True,transform=torchvision.transforms.ToTensor())\n",
    "\n",
    "cifar_dataset_test = datasets.CIFAR10(root='./data',train=False,download=True,transform=torchvision.transforms.ToTensor())"
   ],
   "metadata": {
    "collapsed": false
   }
  },
  {
   "cell_type": "markdown",
   "source": [
    "## Creating the training dataset"
   ],
   "metadata": {
    "collapsed": false
   }
  },
  {
   "cell_type": "code",
   "execution_count": 11,
   "outputs": [],
   "source": [
    "from torch.utils.data import DataLoader\n",
    "batch_size = 256\n",
    "\n",
    "train_iter = DataLoader(cifar_dataset_train,batch_size,shuffle=True)"
   ],
   "metadata": {
    "collapsed": false
   }
  },
  {
   "cell_type": "code",
   "execution_count": 12,
   "outputs": [],
   "source": [
    "X,y = next(iter(train_iter))"
   ],
   "metadata": {
    "collapsed": false
   }
  },
  {
   "cell_type": "markdown",
   "source": [
    "## Creating the test dataset"
   ],
   "metadata": {
    "collapsed": false
   }
  },
  {
   "cell_type": "code",
   "execution_count": 13,
   "outputs": [],
   "source": [
    "test_iter = DataLoader(cifar_dataset_test,batch_size,shuffle=True)"
   ],
   "metadata": {
    "collapsed": false
   }
  },
  {
   "cell_type": "code",
   "execution_count": 14,
   "outputs": [],
   "source": [
    "X_test,y_test = next(iter(test_iter))"
   ],
   "metadata": {
    "collapsed": false
   }
  },
  {
   "cell_type": "markdown",
   "source": [
    "## Analysing the CIFAR-10 data"
   ],
   "metadata": {
    "collapsed": false
   }
  },
  {
   "cell_type": "code",
   "execution_count": 15,
   "outputs": [
    {
     "name": "stdout",
     "output_type": "stream",
     "text": [
      "The dimensions of each input image is torch.Size([256, 3, 32, 32]) The number of input channels is 3\n",
      "The output labels are as follows tensor([6, 3, 1, 3, 8, 6, 5, 7, 9, 5, 9, 1, 8, 9, 2, 8, 2, 5, 3, 9, 3, 6, 3, 6,\n",
      "        5, 3, 1, 7, 6, 8, 5, 9, 1, 4, 1, 6, 4, 9, 3, 4, 7, 5, 9, 2, 4, 2, 9, 8,\n",
      "        1, 6, 1, 7, 6, 3, 7, 3, 0, 1, 8, 0, 3, 6, 5, 7, 9, 4, 3, 3, 3, 0, 9, 6,\n",
      "        0, 6, 0, 6, 1, 8, 9, 3, 7, 2, 7, 6, 8, 0, 3, 0, 1, 5, 3, 8, 6, 3, 2, 0,\n",
      "        0, 0, 1, 8, 0, 1, 2, 5, 4, 1, 5, 9, 9, 0, 5, 5, 8, 9, 4, 4, 3, 5, 1, 8,\n",
      "        6, 4, 5, 4, 5, 3, 1, 8, 8, 0, 9, 5, 0, 0, 0, 8, 1, 1, 2, 2, 6, 3, 5, 0,\n",
      "        1, 9, 1, 6, 0, 3, 4, 8, 5, 2, 6, 4, 6, 0, 0, 2, 7, 5, 0, 1, 6, 3, 9, 9,\n",
      "        5, 1, 6, 5, 9, 5, 6, 5, 4, 6, 4, 7, 2, 2, 1, 8, 2, 8, 7, 3, 5, 6, 8, 4,\n",
      "        6, 3, 2, 8, 6, 9, 5, 8, 9, 5, 2, 7, 4, 8, 8, 0, 2, 3, 5, 0, 4, 3, 5, 8,\n",
      "        4, 6, 5, 0, 1, 0, 4, 1, 9, 8, 4, 2, 2, 9, 6, 5, 8, 9, 4, 3, 9, 0, 2, 5,\n",
      "        8, 5, 3, 3, 3, 1, 5, 9, 8, 6, 3, 1, 3, 3, 6, 4])\n"
     ]
    }
   ],
   "source": [
    "print(f'The dimensions of each input image is {X.size()} The number of input channels is {X.size()[1]}')\n",
    "print(f'The output labels are as follows {y}')"
   ],
   "metadata": {
    "collapsed": false
   }
  },
  {
   "cell_type": "markdown",
   "source": [
    "## Example image"
   ],
   "metadata": {
    "collapsed": false
   }
  },
  {
   "cell_type": "code",
   "execution_count": 22,
   "outputs": [
    {
     "data": {
      "text/plain": "<matplotlib.image.AxesImage at 0x1b682ae7520>"
     },
     "execution_count": 22,
     "metadata": {},
     "output_type": "execute_result"
    },
    {
     "data": {
      "text/plain": "<Figure size 640x480 with 1 Axes>",
      "image/png": "[encoded data removed]"
     },
     "metadata": {},
     "output_type": "display_data"
    }
   ],
   "source": [
    "plt.imshow(X[1].T)"
   ],
   "metadata": {
    "collapsed": false
   }
  },
  {
   "cell_type": "markdown",
   "source": [
    "## CNN Architecture\n",
    "\n",
    "- The output features for the basic linear layer has match the number of convolutions\n",
    "- check if the input to the convolution should be in one or 2 dimensions"
   ],
   "metadata": {
    "collapsed": false
   }
  },
  {
   "cell_type": "code",
   "execution_count": null,
   "outputs": [],
   "source": [
    "class CNN(torch.nn.Module):\n",
    "    def __init__(self,num_inputs,num_channels,num_outputs):\n",
    "        super(CNN,self).__init__()\n",
    "        self.num_inputs = num_inputs\n",
    "        self.num_channels = num_channels\n",
    "        self.num_outputs = num_outputs\n",
    "\n",
    "        #Spatial/Global Pooling for input\n",
    "\n",
    "        # Design the base block Element\n",
    "        # Create an input linear layer for future combination\n",
    "        self.linear1 = torch.nn.Linear(num_inputs,out_features=2)\n",
    "        self.relu1 = torch.nn.ReLU()\n",
    "\n",
    "        self.conv1 = torch.nn.Conv2d(num_channels,out_channels=18,kernel_size=5,stride=1,padding=1)\n",
    "        self.relu2 = torch.nn.ReLU()\n",
    "\n",
    "        self.conv2 = torch.nn.Conv2d(num_channels,out_channels=36,kernel_size=5,stride=1,padding=1)\n",
    "        self.relu3 = torch.nn.ReLU()\n",
    "\n",
    "        #Linear combination of block components\n",
    "\n",
    "    def forward(self,x):\n",
    "        x ="
   ],
   "metadata": {
    "collapsed": false
   }
  }
 ],
 "metadata": {
  "kernelspec": {
   "display_name": "Python 3",
   "language": "python",
   "name": "python3"
  },
  "language_info": {
   "codemirror_mode": {
    "name": "ipython",
    "version": 2
   },
   "file_extension": ".py",
   "mimetype": "text/x-python",
   "name": "python",
   "nbconvert_exporter": "python",
   "pygments_lexer": "ipython2",
   "version": "2.7.6"
  }
 },
 "nbformat": 4,
 "nbformat_minor": 0
}
