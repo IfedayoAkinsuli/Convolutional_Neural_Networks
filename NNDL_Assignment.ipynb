{
 "cells": [
  {
   "cell_type": "markdown",
   "source": [
    "# Assignment"
   ],
   "metadata": {
    "collapsed": false
   }
  },
  {
   "cell_type": "markdown",
   "source": [
    "## Importing Libraries"
   ],
   "metadata": {
    "collapsed": false
   }
  },
  {
   "cell_type": "code",
   "execution_count": 711,
   "metadata": {
    "collapsed": true
   },
   "outputs": [],
   "source": [
    "import numpy as np\n",
    "import torch\n",
    "import torchvision\n",
    "import torchvision.datasets as datasets\n",
    "import matplotlib.pyplot as plt\n",
    "import seaborn as sns"
   ]
  },
  {
   "cell_type": "markdown",
   "source": [
    "## Loading the Datasets"
   ],
   "metadata": {
    "collapsed": false
   }
  },
  {
   "cell_type": "code",
   "execution_count": 712,
   "outputs": [
    {
     "name": "stdout",
     "output_type": "stream",
     "text": [
      "Files already downloaded and verified\n",
      "Files already downloaded and verified\n"
     ]
    }
   ],
   "source": [
    "cifar_dataset_train = datasets.CIFAR10(root='./data',train=True,download=True,transform=torchvision.transforms.ToTensor())\n",
    "\n",
    "cifar_dataset_test = datasets.CIFAR10(root='./data',train=False,download=True,transform=torchvision.transforms.ToTensor())"
   ],
   "metadata": {
    "collapsed": false
   }
  },
  {
   "cell_type": "markdown",
   "source": [
    "## Creating the training dataset"
   ],
   "metadata": {
    "collapsed": false
   }
  },
  {
   "cell_type": "code",
   "execution_count": 884,
   "outputs": [],
   "source": [
    "from torch.utils.data import DataLoader\n",
    "batch_size = 256\n",
    "\n",
    "train_iter = DataLoader(cifar_dataset_train,batch_size,shuffle=True)"
   ],
   "metadata": {
    "collapsed": false
   }
  },
  {
   "cell_type": "code",
   "execution_count": 885,
   "outputs": [],
   "source": [
    "X,y = next(iter(train_iter))"
   ],
   "metadata": {
    "collapsed": false
   }
  },
  {
   "cell_type": "markdown",
   "source": [
    "## Creating the test dataset"
   ],
   "metadata": {
    "collapsed": false
   }
  },
  {
   "cell_type": "code",
   "execution_count": 886,
   "outputs": [],
   "source": [
    "test_iter = DataLoader(cifar_dataset_test,batch_size,shuffle=True)"
   ],
   "metadata": {
    "collapsed": false
   }
  },
  {
   "cell_type": "code",
   "execution_count": 887,
   "outputs": [],
   "source": [
    "X_test,y_test = next(iter(test_iter))"
   ],
   "metadata": {
    "collapsed": false
   }
  },
  {
   "cell_type": "markdown",
   "source": [
    "## Analysing the CIFAR-10 data"
   ],
   "metadata": {
    "collapsed": false
   }
  },
  {
   "cell_type": "code",
   "execution_count": 888,
   "outputs": [
    {
     "name": "stdout",
     "output_type": "stream",
     "text": [
      "The dimensions of each input image is torch.Size([256, 3, 32, 32]) The number of input channels is 3\n",
      "The output labels are as follows tensor([2, 6, 1, 8, 1, 1, 4, 5, 8, 7, 0, 6, 9, 3, 8, 5, 1, 2, 2, 6, 1, 6, 0, 6,\n",
      "        3, 3, 2, 1, 6, 4, 8, 5, 9, 0, 9, 9, 1, 1, 1, 6, 7, 7, 7, 7, 7, 1, 8, 8,\n",
      "        1, 1, 6, 6, 8, 5, 3, 4, 4, 7, 9, 5, 8, 8, 2, 4, 3, 7, 1, 8, 9, 1, 6, 2,\n",
      "        2, 7, 5, 7, 6, 9, 7, 4, 1, 9, 0, 6, 7, 2, 0, 3, 5, 8, 6, 4, 8, 4, 2, 7,\n",
      "        3, 1, 1, 0, 5, 5, 0, 2, 3, 8, 6, 8, 4, 8, 6, 0, 8, 3, 7, 1, 2, 5, 4, 4,\n",
      "        6, 0, 5, 4, 6, 1, 0, 8, 3, 7, 8, 7, 3, 2, 3, 5, 7, 7, 3, 0, 9, 6, 6, 2,\n",
      "        2, 6, 0, 6, 2, 4, 5, 8, 9, 6, 6, 7, 8, 5, 0, 2, 0, 5, 5, 7, 0, 8, 3, 7,\n",
      "        1, 0, 2, 2, 3, 2, 2, 7, 6, 7, 7, 7, 8, 4, 1, 9, 6, 1, 8, 6, 4, 3, 6, 7,\n",
      "        7, 4, 0, 1, 4, 0, 6, 5, 7, 6, 6, 6, 5, 8, 1, 8, 5, 9, 4, 5, 6, 2, 6, 1,\n",
      "        0, 3, 5, 2, 5, 3, 9, 3, 6, 9, 4, 1, 0, 4, 4, 0, 1, 4, 2, 0, 5, 1, 0, 9,\n",
      "        7, 2, 2, 8, 6, 1, 5, 4, 6, 1, 5, 8, 1, 1, 6, 6])\n"
     ]
    }
   ],
   "source": [
    "print(f'The dimensions of each input image is {X.size()} The number of input channels is {X.size()[1]}')\n",
    "print(f'The output labels are as follows {y}')"
   ],
   "metadata": {
    "collapsed": false
   }
  },
  {
   "cell_type": "markdown",
   "source": [
    "## Example image"
   ],
   "metadata": {
    "collapsed": false
   }
  },
  {
   "cell_type": "code",
   "execution_count": 889,
   "outputs": [
    {
     "data": {
      "text/plain": "<matplotlib.image.AxesImage at 0x22e9336c6a0>"
     },
     "execution_count": 889,
     "metadata": {},
     "output_type": "execute_result"
    },
    {
     "data": {
      "text/plain": "<Figure size 640x480 with 1 Axes>",
      "image/svg+xml": "<?xml version=\"1.0\" encoding=\"utf-8\" standalone=\"no\"?>\n<!DOCTYPE svg PUBLIC \"-//W3C//DTD SVG 1.1//EN\"\n  \"http://www.w3.org/Graphics/SVG/1.1/DTD/svg11.dtd\">\n<svg xmlns:xlink=\"http://www.w3.org/1999/xlink\" width=\"298.633875pt\" height=\"296.657312pt\" viewBox=\"0 0 298.633875 296.657312\" xmlns=\"http://www.w3.org/2000/svg\" version=\"1.1\">\n <metadata>\n  <rdf:RDF xmlns:dc=\"http://purl.org/dc/elements/1.1/\" xmlns:cc=\"http://creativecommons.org/ns#\" xmlns:rdf=\"http://www.w3.org/1999/02/22-rdf-syntax-ns#\">\n   <cc:Work>\n    <dc:type rdf:resource=\"http://purl.org/dc/dcmitype/StillImage\"/>\n    <dc:date>2023-04-06T13:49:39.713869</dc:date>\n    <dc:format>image/svg+xml</dc:format>\n    <dc:creator>\n     <cc:Agent>\n      <dc:title>Matplotlib v3.7.1, https://matplotlib.org/</dc:title>\n     </cc:Agent>\n    </dc:creator>\n   </cc:Work>\n  </rdf:RDF>\n </metadata>\n <defs>\n  <style type=\"text/css\">*{stroke-linejoin: round; stroke-linecap: butt}</style>\n </defs>\n <g id=\"figure_1\">\n  <g id=\"patch_1\">\n   <path d=\"M 0 296.657312 \nL 298.633875 296.657312 \nL 298.633875 0 \nL 0 0 \nz\n\" style=\"fill: #ffffff\"/>\n  </g>\n  <g id=\"axes_1\">\n   <g id=\"patch_2\">\n    <path d=\"M 25.321875 273.312 \nL 291.433875 273.312 \nL 291.433875 7.2 \nL 25.321875 7.2 \nz\n\" style=\"fill: #eaeaf2\"/>\n   </g>\n   <g clip-path=\"url(#p5cfa7c3a3d)\">\n    <image xlink:href=\"data:image/png;base64,\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\" id=\"image491e1a3b9a\" transform=\"scale(1 -1) translate(0 -266.4)\" x=\"25.321875\" y=\"-6.912\" width=\"266.4\" height=\"266.4\"/>\n   </g>\n   <g id=\"matplotlib.axis_1\">\n    <g id=\"xtick_1\">\n     <g id=\"line2d_1\">\n      <path d=\"M 29.479875 273.312 \nL 29.479875 7.2 \n\" clip-path=\"url(#p5cfa7c3a3d)\" style=\"fill: none; stroke: #ffffff; stroke-width: 0.8; stroke-linecap: round\"/>\n     </g>\n     <g id=\"text_1\">\n      <!-- 0 -->\n      <g style=\"fill: #262626\" transform=\"translate(26.699406 287.469812) scale(0.1 -0.1)\">\n       <defs>\n        <path id=\"ArialMT-30\" d=\"M 266 2259 \nQ 266 3072 433 3567 \nQ 600 4063 929 4331 \nQ 1259 4600 1759 4600 \nQ 2128 4600 2406 4451 \nQ 2684 4303 2865 4023 \nQ 3047 3744 3150 3342 \nQ 3253 2941 3253 2259 \nQ 3253 1453 3087 958 \nQ 2922 463 2592 192 \nQ 2263 -78 1759 -78 \nQ 1097 -78 719 397 \nQ 266 969 266 2259 \nz\nM 844 2259 \nQ 844 1131 1108 757 \nQ 1372 384 1759 384 \nQ 2147 384 2411 759 \nQ 2675 1134 2675 2259 \nQ 2675 3391 2411 3762 \nQ 2147 4134 1753 4134 \nQ 1366 4134 1134 3806 \nQ 844 3388 844 2259 \nz\n\" transform=\"scale(0.015625)\"/>\n       </defs>\n       <use xlink:href=\"#ArialMT-30\"/>\n      </g>\n     </g>\n    </g>\n    <g id=\"xtick_2\">\n     <g id=\"line2d_2\">\n      <path d=\"M 71.059875 273.312 \nL 71.059875 7.2 \n\" clip-path=\"url(#p5cfa7c3a3d)\" style=\"fill: none; stroke: #ffffff; stroke-width: 0.8; stroke-linecap: round\"/>\n     </g>\n     <g id=\"text_2\">\n      <!-- 5 -->\n      <g style=\"fill: #262626\" transform=\"translate(68.279406 287.469812) scale(0.1 -0.1)\">\n       <defs>\n        <path id=\"ArialMT-35\" d=\"M 266 1200 \nL 856 1250 \nQ 922 819 1161 601 \nQ 1400 384 1738 384 \nQ 2144 384 2425 690 \nQ 2706 997 2706 1503 \nQ 2706 1984 2436 2262 \nQ 2166 2541 1728 2541 \nQ 1456 2541 1237 2417 \nQ 1019 2294 894 2097 \nL 366 2166 \nL 809 4519 \nL 3088 4519 \nL 3088 3981 \nL 1259 3981 \nL 1013 2750 \nQ 1425 3038 1878 3038 \nQ 2478 3038 2890 2622 \nQ 3303 2206 3303 1553 \nQ 3303 931 2941 478 \nQ 2500 -78 1738 -78 \nQ 1113 -78 717 272 \nQ 322 622 266 1200 \nz\n\" transform=\"scale(0.015625)\"/>\n       </defs>\n       <use xlink:href=\"#ArialMT-35\"/>\n      </g>\n     </g>\n    </g>\n    <g id=\"xtick_3\">\n     <g id=\"line2d_3\">\n      <path d=\"M 112.639875 273.312 \nL 112.639875 7.2 \n\" clip-path=\"url(#p5cfa7c3a3d)\" style=\"fill: none; stroke: #ffffff; stroke-width: 0.8; stroke-linecap: round\"/>\n     </g>\n     <g id=\"text_3\">\n      <!-- 10 -->\n      <g style=\"fill: #262626\" transform=\"translate(107.078938 287.469812) scale(0.1 -0.1)\">\n       <defs>\n        <path id=\"ArialMT-31\" d=\"M 2384 0 \nL 1822 0 \nL 1822 3584 \nQ 1619 3391 1289 3197 \nQ 959 3003 697 2906 \nL 697 3450 \nQ 1169 3672 1522 3987 \nQ 1875 4303 2022 4600 \nL 2384 4600 \nL 2384 0 \nz\n\" transform=\"scale(0.015625)\"/>\n       </defs>\n       <use xlink:href=\"#ArialMT-31\"/>\n       <use xlink:href=\"#ArialMT-30\" x=\"55.615234\"/>\n      </g>\n     </g>\n    </g>\n    <g id=\"xtick_4\">\n     <g id=\"line2d_4\">\n      <path d=\"M 154.219875 273.312 \nL 154.219875 7.2 \n\" clip-path=\"url(#p5cfa7c3a3d)\" style=\"fill: none; stroke: #ffffff; stroke-width: 0.8; stroke-linecap: round\"/>\n     </g>\n     <g id=\"text_4\">\n      <!-- 15 -->\n      <g style=\"fill: #262626\" transform=\"translate(148.658938 287.469812) scale(0.1 -0.1)\">\n       <use xlink:href=\"#ArialMT-31\"/>\n       <use xlink:href=\"#ArialMT-35\" x=\"55.615234\"/>\n      </g>\n     </g>\n    </g>\n    <g id=\"xtick_5\">\n     <g id=\"line2d_5\">\n      <path d=\"M 195.799875 273.312 \nL 195.799875 7.2 \n\" clip-path=\"url(#p5cfa7c3a3d)\" style=\"fill: none; stroke: #ffffff; stroke-width: 0.8; stroke-linecap: round\"/>\n     </g>\n     <g id=\"text_5\">\n      <!-- 20 -->\n      <g style=\"fill: #262626\" transform=\"translate(190.238937 287.469812) scale(0.1 -0.1)\">\n       <defs>\n        <path id=\"ArialMT-32\" d=\"M 3222 541 \nL 3222 0 \nL 194 0 \nQ 188 203 259 391 \nQ 375 700 629 1000 \nQ 884 1300 1366 1694 \nQ 2113 2306 2375 2664 \nQ 2638 3022 2638 3341 \nQ 2638 3675 2398 3904 \nQ 2159 4134 1775 4134 \nQ 1369 4134 1125 3890 \nQ 881 3647 878 3216 \nL 300 3275 \nQ 359 3922 746 4261 \nQ 1134 4600 1788 4600 \nQ 2447 4600 2831 4234 \nQ 3216 3869 3216 3328 \nQ 3216 3053 3103 2787 \nQ 2991 2522 2730 2228 \nQ 2469 1934 1863 1422 \nQ 1356 997 1212 845 \nQ 1069 694 975 541 \nL 3222 541 \nz\n\" transform=\"scale(0.015625)\"/>\n       </defs>\n       <use xlink:href=\"#ArialMT-32\"/>\n       <use xlink:href=\"#ArialMT-30\" x=\"55.615234\"/>\n      </g>\n     </g>\n    </g>\n    <g id=\"xtick_6\">\n     <g id=\"line2d_6\">\n      <path d=\"M 237.379875 273.312 \nL 237.379875 7.2 \n\" clip-path=\"url(#p5cfa7c3a3d)\" style=\"fill: none; stroke: #ffffff; stroke-width: 0.8; stroke-linecap: round\"/>\n     </g>\n     <g id=\"text_6\">\n      <!-- 25 -->\n      <g style=\"fill: #262626\" transform=\"translate(231.818937 287.469812) scale(0.1 -0.1)\">\n       <use xlink:href=\"#ArialMT-32\"/>\n       <use xlink:href=\"#ArialMT-35\" x=\"55.615234\"/>\n      </g>\n     </g>\n    </g>\n    <g id=\"xtick_7\">\n     <g id=\"line2d_7\">\n      <path d=\"M 278.959875 273.312 \nL 278.959875 7.2 \n\" clip-path=\"url(#p5cfa7c3a3d)\" style=\"fill: none; stroke: #ffffff; stroke-width: 0.8; stroke-linecap: round\"/>\n     </g>\n     <g id=\"text_7\">\n      <!-- 30 -->\n      <g style=\"fill: #262626\" transform=\"translate(273.398937 287.469812) scale(0.1 -0.1)\">\n       <defs>\n        <path id=\"ArialMT-33\" d=\"M 269 1209 \nL 831 1284 \nQ 928 806 1161 595 \nQ 1394 384 1728 384 \nQ 2125 384 2398 659 \nQ 2672 934 2672 1341 \nQ 2672 1728 2419 1979 \nQ 2166 2231 1775 2231 \nQ 1616 2231 1378 2169 \nL 1441 2663 \nQ 1497 2656 1531 2656 \nQ 1891 2656 2178 2843 \nQ 2466 3031 2466 3422 \nQ 2466 3731 2256 3934 \nQ 2047 4138 1716 4138 \nQ 1388 4138 1169 3931 \nQ 950 3725 888 3313 \nL 325 3413 \nQ 428 3978 793 4289 \nQ 1159 4600 1703 4600 \nQ 2078 4600 2393 4439 \nQ 2709 4278 2876 4000 \nQ 3044 3722 3044 3409 \nQ 3044 3113 2884 2869 \nQ 2725 2625 2413 2481 \nQ 2819 2388 3044 2092 \nQ 3269 1797 3269 1353 \nQ 3269 753 2831 336 \nQ 2394 -81 1725 -81 \nQ 1122 -81 723 278 \nQ 325 638 269 1209 \nz\n\" transform=\"scale(0.015625)\"/>\n       </defs>\n       <use xlink:href=\"#ArialMT-33\"/>\n       <use xlink:href=\"#ArialMT-30\" x=\"55.615234\"/>\n      </g>\n     </g>\n    </g>\n   </g>\n   <g id=\"matplotlib.axis_2\">\n    <g id=\"ytick_1\">\n     <g id=\"line2d_8\">\n      <path d=\"M 25.321875 11.358 \nL 291.433875 11.358 \n\" clip-path=\"url(#p5cfa7c3a3d)\" style=\"fill: none; stroke: #ffffff; stroke-width: 0.8; stroke-linecap: round\"/>\n     </g>\n     <g id=\"text_8\">\n      <!-- 0 -->\n      <g style=\"fill: #262626\" transform=\"translate(12.760938 14.936906) scale(0.1 -0.1)\">\n       <use xlink:href=\"#ArialMT-30\"/>\n      </g>\n     </g>\n    </g>\n    <g id=\"ytick_2\">\n     <g id=\"line2d_9\">\n      <path d=\"M 25.321875 52.938 \nL 291.433875 52.938 \n\" clip-path=\"url(#p5cfa7c3a3d)\" style=\"fill: none; stroke: #ffffff; stroke-width: 0.8; stroke-linecap: round\"/>\n     </g>\n     <g id=\"text_9\">\n      <!-- 5 -->\n      <g style=\"fill: #262626\" transform=\"translate(12.760938 56.516906) scale(0.1 -0.1)\">\n       <use xlink:href=\"#ArialMT-35\"/>\n      </g>\n     </g>\n    </g>\n    <g id=\"ytick_3\">\n     <g id=\"line2d_10\">\n      <path d=\"M 25.321875 94.518 \nL 291.433875 94.518 \n\" clip-path=\"url(#p5cfa7c3a3d)\" style=\"fill: none; stroke: #ffffff; stroke-width: 0.8; stroke-linecap: round\"/>\n     </g>\n     <g id=\"text_10\">\n      <!-- 10 -->\n      <g style=\"fill: #262626\" transform=\"translate(7.2 98.096906) scale(0.1 -0.1)\">\n       <use xlink:href=\"#ArialMT-31\"/>\n       <use xlink:href=\"#ArialMT-30\" x=\"55.615234\"/>\n      </g>\n     </g>\n    </g>\n    <g id=\"ytick_4\">\n     <g id=\"line2d_11\">\n      <path d=\"M 25.321875 136.098 \nL 291.433875 136.098 \n\" clip-path=\"url(#p5cfa7c3a3d)\" style=\"fill: none; stroke: #ffffff; stroke-width: 0.8; stroke-linecap: round\"/>\n     </g>\n     <g id=\"text_11\">\n      <!-- 15 -->\n      <g style=\"fill: #262626\" transform=\"translate(7.2 139.676906) scale(0.1 -0.1)\">\n       <use xlink:href=\"#ArialMT-31\"/>\n       <use xlink:href=\"#ArialMT-35\" x=\"55.615234\"/>\n      </g>\n     </g>\n    </g>\n    <g id=\"ytick_5\">\n     <g id=\"line2d_12\">\n      <path d=\"M 25.321875 177.678 \nL 291.433875 177.678 \n\" clip-path=\"url(#p5cfa7c3a3d)\" style=\"fill: none; stroke: #ffffff; stroke-width: 0.8; stroke-linecap: round\"/>\n     </g>\n     <g id=\"text_12\">\n      <!-- 20 -->\n      <g style=\"fill: #262626\" transform=\"translate(7.2 181.256906) scale(0.1 -0.1)\">\n       <use xlink:href=\"#ArialMT-32\"/>\n       <use xlink:href=\"#ArialMT-30\" x=\"55.615234\"/>\n      </g>\n     </g>\n    </g>\n    <g id=\"ytick_6\">\n     <g id=\"line2d_13\">\n      <path d=\"M 25.321875 219.258 \nL 291.433875 219.258 \n\" clip-path=\"url(#p5cfa7c3a3d)\" style=\"fill: none; stroke: #ffffff; stroke-width: 0.8; stroke-linecap: round\"/>\n     </g>\n     <g id=\"text_13\">\n      <!-- 25 -->\n      <g style=\"fill: #262626\" transform=\"translate(7.2 222.836906) scale(0.1 -0.1)\">\n       <use xlink:href=\"#ArialMT-32\"/>\n       <use xlink:href=\"#ArialMT-35\" x=\"55.615234\"/>\n      </g>\n     </g>\n    </g>\n    <g id=\"ytick_7\">\n     <g id=\"line2d_14\">\n      <path d=\"M 25.321875 260.838 \nL 291.433875 260.838 \n\" clip-path=\"url(#p5cfa7c3a3d)\" style=\"fill: none; stroke: #ffffff; stroke-width: 0.8; stroke-linecap: round\"/>\n     </g>\n     <g id=\"text_14\">\n      <!-- 30 -->\n      <g style=\"fill: #262626\" transform=\"translate(7.2 264.416906) scale(0.1 -0.1)\">\n       <use xlink:href=\"#ArialMT-33\"/>\n       <use xlink:href=\"#ArialMT-30\" x=\"55.615234\"/>\n      </g>\n     </g>\n    </g>\n   </g>\n   <g id=\"patch_3\">\n    <path d=\"M 25.321875 273.312 \nL 25.321875 7.2 \n\" style=\"fill: none; stroke: #ffffff; stroke-width: 0.8; stroke-linejoin: miter; stroke-linecap: square\"/>\n   </g>\n   <g id=\"patch_4\">\n    <path d=\"M 291.433875 273.312 \nL 291.433875 7.2 \n\" style=\"fill: none; stroke: #ffffff; stroke-width: 0.8; stroke-linejoin: miter; stroke-linecap: square\"/>\n   </g>\n   <g id=\"patch_5\">\n    <path d=\"M 25.321875 273.312 \nL 291.433875 273.312 \n\" style=\"fill: none; stroke: #ffffff; stroke-width: 0.8; stroke-linejoin: miter; stroke-linecap: square\"/>\n   </g>\n   <g id=\"patch_6\">\n    <path d=\"M 25.321875 7.2 \nL 291.433875 7.2 \n\" style=\"fill: none; stroke: #ffffff; stroke-width: 0.8; stroke-linejoin: miter; stroke-linecap: square\"/>\n   </g>\n  </g>\n </g>\n <defs>\n  <clipPath id=\"p5cfa7c3a3d\">\n   <rect x=\"25.321875\" y=\"7.2\" width=\"266.112\" height=\"266.112\"/>\n  </clipPath>\n </defs>\n</svg>\n"
     },
     "metadata": {},
     "output_type": "display_data"
    }
   ],
   "source": [
    "plt.imshow(X[1].T)"
   ],
   "metadata": {
    "collapsed": false
   }
  },
  {
   "cell_type": "markdown",
   "source": [
    "## CNN Architecture"
   ],
   "metadata": {
    "collapsed": false
   }
  },
  {
   "cell_type": "code",
   "execution_count": 1181,
   "outputs": [],
   "source": [
    "class CNN(torch.nn.Module):\n",
    "    def __init__(self,num_channels,num_outputs):\n",
    "        super(CNN,self).__init__()\n",
    "        self.num_channels = num_channels\n",
    "        self.num_outputs = num_outputs\n",
    "\n",
    "        #Spatial/Global Pooling for input-------------------------------------------------------\n",
    "        self.spatial_avg_pool1 = torch.nn.AdaptiveAvgPool2d((24,24))\n",
    "\n",
    "        # Design the base block Element---------------------------------------------------------\n",
    "        #Create an input linear layer for future combination\n",
    "\n",
    "        self.linear1 = torch.nn.Linear(in_features=1728,out_features=2)\n",
    "        self.relu1 = torch.nn.ReLU()\n",
    "\n",
    "        self.conv1 = torch.nn.Conv2d(num_channels,out_channels=18,kernel_size=5,stride=2,padding=1)\n",
    "        self.relu2 = torch.nn.ReLU()\n",
    "\n",
    "        self.conv2 = torch.nn.Conv2d(num_channels,out_channels=24,kernel_size=5,stride=2,padding=1)\n",
    "        self.relu3 = torch.nn.ReLU()\n",
    "\n",
    "        # Create the spatial average pooling layer for the inputs to the dense---------------------\n",
    "        self.spatial_avg_pool2 = torch.nn.AdaptiveAvgPool1d(1000)\n",
    "\n",
    "        # Create the dense,classification block----------------------------------------------------\n",
    "        # First FC linear layer\n",
    "        self.linear2 = torch.nn.Linear(in_features=1000,out_features=num_outputs)\n",
    "        self.relu4 = torch.nn.ReLU()\n",
    "\n",
    "        # Softmax application to get probabilities of classes\n",
    "        self.softmax = torch.nn.Softmax(dim=1)\n",
    "\n",
    "        #Initialize the weights and the bias for the linear layer\n",
    "        # First blocks linear layer\n",
    "        torch.nn.init.kaiming_normal_(self.linear1.weight,nonlinearity='relu')\n",
    "        torch.nn.init.zeros_(self.linear1.bias)\n",
    "        torch.nn.init.xavier_uniform_(self.conv1.weight)\n",
    "        torch.nn.init.xavier_uniform_(self.conv2.weight)\n",
    "\n",
    "        #Final linear layer\n",
    "        torch.nn.init.kaiming_normal_(self.linear2.weight,nonlinearity='relu')\n",
    "        torch.nn.init.zeros_(self.linear2.bias)\n",
    "\n",
    "        #Define the proportion of neurons to dropout\n",
    "        self.dropout = torch.nn.Dropout(0.25)\n",
    "\n",
    "    def forward(self,x):\n",
    "        # Applying average pooling to downsample the image from 32 -> 24\n",
    "        a = self.spatial_avg_pool1(x)\n",
    "\n",
    "        # First Block------------------------------------------------------\n",
    "        #Reshape the tensor to allow for matrix multiplication\n",
    "        a = a.view(a.size(0),-1)\n",
    "\n",
    "        a = self.linear1(a)\n",
    "        a = self.dropout(a)\n",
    "        a = self.relu1(a)\n",
    "\n",
    "        # Get outputs of each convolution ->RelU layer\n",
    "        o1 = self.conv1(x)\n",
    "        o1 = self.relu2(o1)\n",
    "\n",
    "        o2 = self.conv2(x)\n",
    "        o2 = self.relu3(o2)\n",
    "        # --------------------------------------------------------------------\n",
    "\n",
    "        #Combine the output of each convolutional layer\n",
    "        O = torch.cat([o1,o2],dim=1)\n",
    "\n",
    "        O = torch.matmul(a,O.view(2,-1))\n",
    "\n",
    "        # Apply spatial pooling before entering the dense layer------------\n",
    "        O_bn = self.spatial_avg_pool2(O)\n",
    "\n",
    "        # Move to the dense/classification block\n",
    "        output = self.linear2(O_bn.view(256,-1))\n",
    "        output = self.dropout(output)\n",
    "        output = self.relu4(output)\n",
    "\n",
    "        output = self.softmax(output)\n",
    "\n",
    "        return output"
   ],
   "metadata": {
    "collapsed": false
   }
  },
  {
   "cell_type": "code",
   "execution_count": 1182,
   "outputs": [
    {
     "name": "stdout",
     "output_type": "stream",
     "text": [
      "CNN(\n",
      "  (spatial_avg_pool1): AdaptiveAvgPool2d(output_size=(24, 24))\n",
      "  (linear1): Linear(in_features=1728, out_features=2, bias=True)\n",
      "  (relu1): ReLU()\n",
      "  (conv1): Conv2d(3, 18, kernel_size=(5, 5), stride=(2, 2), padding=(1, 1))\n",
      "  (relu2): ReLU()\n",
      "  (conv2): Conv2d(3, 24, kernel_size=(5, 5), stride=(2, 2), padding=(1, 1))\n",
      "  (relu3): ReLU()\n",
      "  (spatial_avg_pool2): AdaptiveAvgPool1d(output_size=1000)\n",
      "  (linear2): Linear(in_features=1000, out_features=10, bias=True)\n",
      "  (relu4): ReLU()\n",
      "  (softmax): Softmax(dim=1)\n",
      "  (dropout): Dropout(p=0.25, inplace=False)\n",
      ")\n"
     ]
    }
   ],
   "source": [
    "model = CNN(num_channels=3,num_outputs=10)\n",
    "print(model)"
   ],
   "metadata": {
    "collapsed": false
   }
  },
  {
   "cell_type": "code",
   "execution_count": 1183,
   "outputs": [
    {
     "data": {
      "text/plain": "tensor([0.1082, 0.0931, 0.0931, 0.1009, 0.0931, 0.0931, 0.1128, 0.1143, 0.0931,\n        0.0983], grad_fn=<SelectBackward0>)"
     },
     "execution_count": 1183,
     "metadata": {},
     "output_type": "execute_result"
    }
   ],
   "source": [
    "model(X)[0]"
   ],
   "metadata": {
    "collapsed": false
   }
  },
  {
   "cell_type": "markdown",
   "source": [
    "## Create the metric for calculating accuracy"
   ],
   "metadata": {
    "collapsed": false
   }
  },
  {
   "cell_type": "code",
   "execution_count": 1184,
   "outputs": [],
   "source": [
    "def accuracy(y_hat,y):\n",
    "    if len(y_hat.shape) > 1 and y_hat.shape[1] > 1:\n",
    "        y_hat = y_hat.argmax(axis=1)\n",
    "        cmp = (y_hat.type(y.dtype) == y)\n",
    "        return float(torch.sum(cmp))"
   ],
   "metadata": {
    "collapsed": false
   }
  },
  {
   "cell_type": "markdown",
   "source": [
    "## Create the model training system"
   ],
   "metadata": {
    "collapsed": false
   }
  },
  {
   "cell_type": "code",
   "execution_count": 1185,
   "outputs": [],
   "source": [
    "def train_model(model,X,y,X_test,y_test,accuracy,epochs):\n",
    "\n",
    "    # Create the loss component\n",
    "    loss = torch.nn.CrossEntropyLoss()\n",
    "\n",
    "    # Create the optimizer term\n",
    "    optimizer = torch.optim.Adam(model.parameters(), lr=0.00001)\n",
    "\n",
    "    score_train = []\n",
    "    score_test = []\n",
    "\n",
    "    for epoch in range(0,epochs,5):\n",
    "        model.train()\n",
    "        y_hat = model(X)\n",
    "        l = loss(y_hat,y)\n",
    "\n",
    "        optimizer.zero_grad()\n",
    "\n",
    "        l.backward()\n",
    "        optimizer.step()\n",
    "\n",
    "        # Training Accuracy\n",
    "        score_train.append(accuracy(model(X),y)/len(y))\n",
    "\n",
    "        # # Test Accuracy\n",
    "        # torch.no_grad()\n",
    "        # model.eval()\n",
    "        # score_test.append(accuracy(model(X_test),y_test)/len(y_test))\n",
    "\n",
    "    return score_train"
   ],
   "metadata": {
    "collapsed": false
   }
  },
  {
   "cell_type": "code",
   "execution_count": 1186,
   "outputs": [],
   "source": [
    "epochs = 100\n",
    "s1 = train_model(model,X,y,X_test,y_test,accuracy,epochs)"
   ],
   "metadata": {
    "collapsed": false
   }
  },
  {
   "cell_type": "code",
   "execution_count": 1180,
   "outputs": [
    {
     "data": {
      "text/plain": "[0.11328125,\n 0.12890625,\n 0.13671875,\n 0.1328125,\n 0.10546875,\n 0.10546875,\n 0.1328125,\n 0.11328125,\n 0.09765625,\n 0.11328125,\n 0.13671875,\n 0.09375,\n 0.1171875,\n 0.09375,\n 0.12109375,\n 0.1328125,\n 0.09765625,\n 0.109375,\n 0.10546875,\n 0.109375]"
     },
     "execution_count": 1180,
     "metadata": {},
     "output_type": "execute_result"
    }
   ],
   "source": [
    "s1"
   ],
   "metadata": {
    "collapsed": false
   }
  },
  {
   "cell_type": "code",
   "execution_count": 1171,
   "outputs": [
    {
     "data": {
      "text/plain": "Text(0, 0.5, 'Accuracy')"
     },
     "execution_count": 1171,
     "metadata": {},
     "output_type": "execute_result"
    },
    {
     "data": {
      "text/plain": "<Figure size 640x480 with 1 Axes>",
      "image/svg+xml": "<?xml version=\"1.0\" encoding=\"utf-8\" standalone=\"no\"?>\n<!DOCTYPE svg PUBLIC \"-//W3C//DTD SVG 1.1//EN\"\n  \"http://www.w3.org/Graphics/SVG/1.1/DTD/svg11.dtd\">\n<svg xmlns:xlink=\"http://www.w3.org/1999/xlink\" width=\"411.243437pt\" height=\"309.802625pt\" viewBox=\"0 0 411.243437 309.802625\" xmlns=\"http://www.w3.org/2000/svg\" version=\"1.1\">\n <metadata>\n  <rdf:RDF xmlns:dc=\"http://purl.org/dc/elements/1.1/\" xmlns:cc=\"http://creativecommons.org/ns#\" xmlns:rdf=\"http://www.w3.org/1999/02/22-rdf-syntax-ns#\">\n   <cc:Work>\n    <dc:type rdf:resource=\"http://purl.org/dc/dcmitype/StillImage\"/>\n    <dc:date>2023-04-06T15:08:56.044332</dc:date>\n    <dc:format>image/svg+xml</dc:format>\n    <dc:creator>\n     <cc:Agent>\n      <dc:title>Matplotlib v3.7.1, https://matplotlib.org/</dc:title>\n     </cc:Agent>\n    </dc:creator>\n   </cc:Work>\n  </rdf:RDF>\n </metadata>\n <defs>\n  <style type=\"text/css\">*{stroke-linejoin: round; stroke-linecap: butt}</style>\n </defs>\n <g id=\"figure_1\">\n  <g id=\"patch_1\">\n   <path d=\"M 0 309.802625 \nL 411.243437 309.802625 \nL 411.243437 0 \nL 0 0 \nz\n\" style=\"fill: #ffffff\"/>\n  </g>\n  <g id=\"axes_1\">\n   <g id=\"patch_2\">\n    <path d=\"M 46.923438 273.312 \nL 404.043437 273.312 \nL 404.043437 7.2 \nL 46.923438 7.2 \nz\n\" style=\"fill: #eaeaf2\"/>\n   </g>\n   <g id=\"matplotlib.axis_1\">\n    <g id=\"xtick_1\">\n     <g id=\"line2d_1\">\n      <path d=\"M 63.156165 273.312 \nL 63.156165 7.2 \n\" clip-path=\"url(#p318de47e59)\" style=\"fill: none; stroke: #ffffff; stroke-width: 0.8; stroke-linecap: round\"/>\n     </g>\n     <g id=\"text_1\">\n      <!-- 0 -->\n      <g style=\"fill: #262626\" transform=\"translate(60.375696 287.469812) scale(0.1 -0.1)\">\n       <defs>\n        <path id=\"ArialMT-30\" d=\"M 266 2259 \nQ 266 3072 433 3567 \nQ 600 4063 929 4331 \nQ 1259 4600 1759 4600 \nQ 2128 4600 2406 4451 \nQ 2684 4303 2865 4023 \nQ 3047 3744 3150 3342 \nQ 3253 2941 3253 2259 \nQ 3253 1453 3087 958 \nQ 2922 463 2592 192 \nQ 2263 -78 1759 -78 \nQ 1097 -78 719 397 \nQ 266 969 266 2259 \nz\nM 844 2259 \nQ 844 1131 1108 757 \nQ 1372 384 1759 384 \nQ 2147 384 2411 759 \nQ 2675 1134 2675 2259 \nQ 2675 3391 2411 3762 \nQ 2147 4134 1753 4134 \nQ 1366 4134 1134 3806 \nQ 844 3388 844 2259 \nz\n\" transform=\"scale(0.015625)\"/>\n       </defs>\n       <use xlink:href=\"#ArialMT-30\"/>\n      </g>\n     </g>\n    </g>\n    <g id=\"xtick_2\">\n     <g id=\"line2d_2\">\n      <path d=\"M 128.742942 273.312 \nL 128.742942 7.2 \n\" clip-path=\"url(#p318de47e59)\" style=\"fill: none; stroke: #ffffff; stroke-width: 0.8; stroke-linecap: round\"/>\n     </g>\n     <g id=\"text_2\">\n      <!-- 100 -->\n      <g style=\"fill: #262626\" transform=\"translate(120.401535 287.469812) scale(0.1 -0.1)\">\n       <defs>\n        <path id=\"ArialMT-31\" d=\"M 2384 0 \nL 1822 0 \nL 1822 3584 \nQ 1619 3391 1289 3197 \nQ 959 3003 697 2906 \nL 697 3450 \nQ 1169 3672 1522 3987 \nQ 1875 4303 2022 4600 \nL 2384 4600 \nL 2384 0 \nz\n\" transform=\"scale(0.015625)\"/>\n       </defs>\n       <use xlink:href=\"#ArialMT-31\"/>\n       <use xlink:href=\"#ArialMT-30\" x=\"55.615234\"/>\n       <use xlink:href=\"#ArialMT-30\" x=\"111.230469\"/>\n      </g>\n     </g>\n    </g>\n    <g id=\"xtick_3\">\n     <g id=\"line2d_3\">\n      <path d=\"M 194.329718 273.312 \nL 194.329718 7.2 \n\" clip-path=\"url(#p318de47e59)\" style=\"fill: none; stroke: #ffffff; stroke-width: 0.8; stroke-linecap: round\"/>\n     </g>\n     <g id=\"text_3\">\n      <!-- 200 -->\n      <g style=\"fill: #262626\" transform=\"translate(185.988312 287.469812) scale(0.1 -0.1)\">\n       <defs>\n        <path id=\"ArialMT-32\" d=\"M 3222 541 \nL 3222 0 \nL 194 0 \nQ 188 203 259 391 \nQ 375 700 629 1000 \nQ 884 1300 1366 1694 \nQ 2113 2306 2375 2664 \nQ 2638 3022 2638 3341 \nQ 2638 3675 2398 3904 \nQ 2159 4134 1775 4134 \nQ 1369 4134 1125 3890 \nQ 881 3647 878 3216 \nL 300 3275 \nQ 359 3922 746 4261 \nQ 1134 4600 1788 4600 \nQ 2447 4600 2831 4234 \nQ 3216 3869 3216 3328 \nQ 3216 3053 3103 2787 \nQ 2991 2522 2730 2228 \nQ 2469 1934 1863 1422 \nQ 1356 997 1212 845 \nQ 1069 694 975 541 \nL 3222 541 \nz\n\" transform=\"scale(0.015625)\"/>\n       </defs>\n       <use xlink:href=\"#ArialMT-32\"/>\n       <use xlink:href=\"#ArialMT-30\" x=\"55.615234\"/>\n       <use xlink:href=\"#ArialMT-30\" x=\"111.230469\"/>\n      </g>\n     </g>\n    </g>\n    <g id=\"xtick_4\">\n     <g id=\"line2d_4\">\n      <path d=\"M 259.916495 273.312 \nL 259.916495 7.2 \n\" clip-path=\"url(#p318de47e59)\" style=\"fill: none; stroke: #ffffff; stroke-width: 0.8; stroke-linecap: round\"/>\n     </g>\n     <g id=\"text_4\">\n      <!-- 300 -->\n      <g style=\"fill: #262626\" transform=\"translate(251.575089 287.469812) scale(0.1 -0.1)\">\n       <defs>\n        <path id=\"ArialMT-33\" d=\"M 269 1209 \nL 831 1284 \nQ 928 806 1161 595 \nQ 1394 384 1728 384 \nQ 2125 384 2398 659 \nQ 2672 934 2672 1341 \nQ 2672 1728 2419 1979 \nQ 2166 2231 1775 2231 \nQ 1616 2231 1378 2169 \nL 1441 2663 \nQ 1497 2656 1531 2656 \nQ 1891 2656 2178 2843 \nQ 2466 3031 2466 3422 \nQ 2466 3731 2256 3934 \nQ 2047 4138 1716 4138 \nQ 1388 4138 1169 3931 \nQ 950 3725 888 3313 \nL 325 3413 \nQ 428 3978 793 4289 \nQ 1159 4600 1703 4600 \nQ 2078 4600 2393 4439 \nQ 2709 4278 2876 4000 \nQ 3044 3722 3044 3409 \nQ 3044 3113 2884 2869 \nQ 2725 2625 2413 2481 \nQ 2819 2388 3044 2092 \nQ 3269 1797 3269 1353 \nQ 3269 753 2831 336 \nQ 2394 -81 1725 -81 \nQ 1122 -81 723 278 \nQ 325 638 269 1209 \nz\n\" transform=\"scale(0.015625)\"/>\n       </defs>\n       <use xlink:href=\"#ArialMT-33\"/>\n       <use xlink:href=\"#ArialMT-30\" x=\"55.615234\"/>\n       <use xlink:href=\"#ArialMT-30\" x=\"111.230469\"/>\n      </g>\n     </g>\n    </g>\n    <g id=\"xtick_5\">\n     <g id=\"line2d_5\">\n      <path d=\"M 325.503272 273.312 \nL 325.503272 7.2 \n\" clip-path=\"url(#p318de47e59)\" style=\"fill: none; stroke: #ffffff; stroke-width: 0.8; stroke-linecap: round\"/>\n     </g>\n     <g id=\"text_5\">\n      <!-- 400 -->\n      <g style=\"fill: #262626\" transform=\"translate(317.161866 287.469812) scale(0.1 -0.1)\">\n       <defs>\n        <path id=\"ArialMT-34\" d=\"M 2069 0 \nL 2069 1097 \nL 81 1097 \nL 81 1613 \nL 2172 4581 \nL 2631 4581 \nL 2631 1613 \nL 3250 1613 \nL 3250 1097 \nL 2631 1097 \nL 2631 0 \nL 2069 0 \nz\nM 2069 1613 \nL 2069 3678 \nL 634 1613 \nL 2069 1613 \nz\n\" transform=\"scale(0.015625)\"/>\n       </defs>\n       <use xlink:href=\"#ArialMT-34\"/>\n       <use xlink:href=\"#ArialMT-30\" x=\"55.615234\"/>\n       <use xlink:href=\"#ArialMT-30\" x=\"111.230469\"/>\n      </g>\n     </g>\n    </g>\n    <g id=\"xtick_6\">\n     <g id=\"line2d_6\">\n      <path d=\"M 391.090049 273.312 \nL 391.090049 7.2 \n\" clip-path=\"url(#p318de47e59)\" style=\"fill: none; stroke: #ffffff; stroke-width: 0.8; stroke-linecap: round\"/>\n     </g>\n     <g id=\"text_6\">\n      <!-- 500 -->\n      <g style=\"fill: #262626\" transform=\"translate(382.748643 287.469812) scale(0.1 -0.1)\">\n       <defs>\n        <path id=\"ArialMT-35\" d=\"M 266 1200 \nL 856 1250 \nQ 922 819 1161 601 \nQ 1400 384 1738 384 \nQ 2144 384 2425 690 \nQ 2706 997 2706 1503 \nQ 2706 1984 2436 2262 \nQ 2166 2541 1728 2541 \nQ 1456 2541 1237 2417 \nQ 1019 2294 894 2097 \nL 366 2166 \nL 809 4519 \nL 3088 4519 \nL 3088 3981 \nL 1259 3981 \nL 1013 2750 \nQ 1425 3038 1878 3038 \nQ 2478 3038 2890 2622 \nQ 3303 2206 3303 1553 \nQ 3303 931 2941 478 \nQ 2500 -78 1738 -78 \nQ 1113 -78 717 272 \nQ 322 622 266 1200 \nz\n\" transform=\"scale(0.015625)\"/>\n       </defs>\n       <use xlink:href=\"#ArialMT-35\"/>\n       <use xlink:href=\"#ArialMT-30\" x=\"55.615234\"/>\n       <use xlink:href=\"#ArialMT-30\" x=\"111.230469\"/>\n      </g>\n     </g>\n    </g>\n    <g id=\"text_7\">\n     <!-- Epochs -->\n     <g style=\"fill: #262626\" transform=\"translate(208.806875 300.615125) scale(0.1 -0.1)\">\n      <defs>\n       <path id=\"ArialMT-45\" d=\"M 506 0 \nL 506 4581 \nL 3819 4581 \nL 3819 4041 \nL 1113 4041 \nL 1113 2638 \nL 3647 2638 \nL 3647 2100 \nL 1113 2100 \nL 1113 541 \nL 3925 541 \nL 3925 0 \nL 506 0 \nz\n\" transform=\"scale(0.015625)\"/>\n       <path id=\"ArialMT-70\" d=\"M 422 -1272 \nL 422 3319 \nL 934 3319 \nL 934 2888 \nQ 1116 3141 1344 3267 \nQ 1572 3394 1897 3394 \nQ 2322 3394 2647 3175 \nQ 2972 2956 3137 2557 \nQ 3303 2159 3303 1684 \nQ 3303 1175 3120 767 \nQ 2938 359 2589 142 \nQ 2241 -75 1856 -75 \nQ 1575 -75 1351 44 \nQ 1128 163 984 344 \nL 984 -1272 \nL 422 -1272 \nz\nM 931 1641 \nQ 931 1000 1190 694 \nQ 1450 388 1819 388 \nQ 2194 388 2461 705 \nQ 2728 1022 2728 1688 \nQ 2728 2322 2467 2637 \nQ 2206 2953 1844 2953 \nQ 1484 2953 1207 2617 \nQ 931 2281 931 1641 \nz\n\" transform=\"scale(0.015625)\"/>\n       <path id=\"ArialMT-6f\" d=\"M 213 1659 \nQ 213 2581 725 3025 \nQ 1153 3394 1769 3394 \nQ 2453 3394 2887 2945 \nQ 3322 2497 3322 1706 \nQ 3322 1066 3130 698 \nQ 2938 331 2570 128 \nQ 2203 -75 1769 -75 \nQ 1072 -75 642 372 \nQ 213 819 213 1659 \nz\nM 791 1659 \nQ 791 1022 1069 705 \nQ 1347 388 1769 388 \nQ 2188 388 2466 706 \nQ 2744 1025 2744 1678 \nQ 2744 2294 2464 2611 \nQ 2184 2928 1769 2928 \nQ 1347 2928 1069 2612 \nQ 791 2297 791 1659 \nz\n\" transform=\"scale(0.015625)\"/>\n       <path id=\"ArialMT-63\" d=\"M 2588 1216 \nL 3141 1144 \nQ 3050 572 2676 248 \nQ 2303 -75 1759 -75 \nQ 1078 -75 664 370 \nQ 250 816 250 1647 \nQ 250 2184 428 2587 \nQ 606 2991 970 3192 \nQ 1334 3394 1763 3394 \nQ 2303 3394 2647 3120 \nQ 2991 2847 3088 2344 \nL 2541 2259 \nQ 2463 2594 2264 2762 \nQ 2066 2931 1784 2931 \nQ 1359 2931 1093 2626 \nQ 828 2322 828 1663 \nQ 828 994 1084 691 \nQ 1341 388 1753 388 \nQ 2084 388 2306 591 \nQ 2528 794 2588 1216 \nz\n\" transform=\"scale(0.015625)\"/>\n       <path id=\"ArialMT-68\" d=\"M 422 0 \nL 422 4581 \nL 984 4581 \nL 984 2938 \nQ 1378 3394 1978 3394 \nQ 2347 3394 2619 3248 \nQ 2891 3103 3008 2847 \nQ 3125 2591 3125 2103 \nL 3125 0 \nL 2563 0 \nL 2563 2103 \nQ 2563 2525 2380 2717 \nQ 2197 2909 1863 2909 \nQ 1613 2909 1392 2779 \nQ 1172 2650 1078 2428 \nQ 984 2206 984 1816 \nL 984 0 \nL 422 0 \nz\n\" transform=\"scale(0.015625)\"/>\n       <path id=\"ArialMT-73\" d=\"M 197 991 \nL 753 1078 \nQ 800 744 1014 566 \nQ 1228 388 1613 388 \nQ 2000 388 2187 545 \nQ 2375 703 2375 916 \nQ 2375 1106 2209 1216 \nQ 2094 1291 1634 1406 \nQ 1016 1563 777 1677 \nQ 538 1791 414 1992 \nQ 291 2194 291 2438 \nQ 291 2659 392 2848 \nQ 494 3038 669 3163 \nQ 800 3259 1026 3326 \nQ 1253 3394 1513 3394 \nQ 1903 3394 2198 3281 \nQ 2494 3169 2634 2976 \nQ 2775 2784 2828 2463 \nL 2278 2388 \nQ 2241 2644 2061 2787 \nQ 1881 2931 1553 2931 \nQ 1166 2931 1000 2803 \nQ 834 2675 834 2503 \nQ 834 2394 903 2306 \nQ 972 2216 1119 2156 \nQ 1203 2125 1616 2013 \nQ 2213 1853 2448 1751 \nQ 2684 1650 2818 1456 \nQ 2953 1263 2953 975 \nQ 2953 694 2789 445 \nQ 2625 197 2315 61 \nQ 2006 -75 1616 -75 \nQ 969 -75 630 194 \nQ 291 463 197 991 \nz\n\" transform=\"scale(0.015625)\"/>\n      </defs>\n      <use xlink:href=\"#ArialMT-45\"/>\n      <use xlink:href=\"#ArialMT-70\" x=\"66.699219\"/>\n      <use xlink:href=\"#ArialMT-6f\" x=\"122.314453\"/>\n      <use xlink:href=\"#ArialMT-63\" x=\"177.929688\"/>\n      <use xlink:href=\"#ArialMT-68\" x=\"227.929688\"/>\n      <use xlink:href=\"#ArialMT-73\" x=\"283.544922\"/>\n     </g>\n    </g>\n   </g>\n   <g id=\"matplotlib.axis_2\">\n    <g id=\"ytick_1\">\n     <g id=\"line2d_7\">\n      <path d=\"M 46.923438 260.57088 \nL 404.043437 260.57088 \n\" clip-path=\"url(#p318de47e59)\" style=\"fill: none; stroke: #ffffff; stroke-width: 0.8; stroke-linecap: round\"/>\n     </g>\n     <g id=\"text_8\">\n      <!-- 0.09 -->\n      <g style=\"fill: #262626\" transform=\"translate(20.4625 264.149786) scale(0.1 -0.1)\">\n       <defs>\n        <path id=\"ArialMT-2e\" d=\"M 581 0 \nL 581 641 \nL 1222 641 \nL 1222 0 \nL 581 0 \nz\n\" transform=\"scale(0.015625)\"/>\n        <path id=\"ArialMT-39\" d=\"M 350 1059 \nL 891 1109 \nQ 959 728 1153 556 \nQ 1347 384 1650 384 \nQ 1909 384 2104 503 \nQ 2300 622 2425 820 \nQ 2550 1019 2634 1356 \nQ 2719 1694 2719 2044 \nQ 2719 2081 2716 2156 \nQ 2547 1888 2255 1720 \nQ 1963 1553 1622 1553 \nQ 1053 1553 659 1965 \nQ 266 2378 266 3053 \nQ 266 3750 677 4175 \nQ 1088 4600 1706 4600 \nQ 2153 4600 2523 4359 \nQ 2894 4119 3086 3673 \nQ 3278 3228 3278 2384 \nQ 3278 1506 3087 986 \nQ 2897 466 2520 194 \nQ 2144 -78 1638 -78 \nQ 1100 -78 759 220 \nQ 419 519 350 1059 \nz\nM 2653 3081 \nQ 2653 3566 2395 3850 \nQ 2138 4134 1775 4134 \nQ 1400 4134 1122 3828 \nQ 844 3522 844 3034 \nQ 844 2597 1108 2323 \nQ 1372 2050 1759 2050 \nQ 2150 2050 2401 2323 \nQ 2653 2597 2653 3081 \nz\n\" transform=\"scale(0.015625)\"/>\n       </defs>\n       <use xlink:href=\"#ArialMT-30\"/>\n       <use xlink:href=\"#ArialMT-2e\" x=\"55.615234\"/>\n       <use xlink:href=\"#ArialMT-30\" x=\"83.398438\"/>\n       <use xlink:href=\"#ArialMT-39\" x=\"139.013672\"/>\n      </g>\n     </g>\n    </g>\n    <g id=\"ytick_2\">\n     <g id=\"line2d_8\">\n      <path d=\"M 46.923438 219.2832 \nL 404.043437 219.2832 \n\" clip-path=\"url(#p318de47e59)\" style=\"fill: none; stroke: #ffffff; stroke-width: 0.8; stroke-linecap: round\"/>\n     </g>\n     <g id=\"text_9\">\n      <!-- 0.10 -->\n      <g style=\"fill: #262626\" transform=\"translate(20.4625 222.862106) scale(0.1 -0.1)\">\n       <use xlink:href=\"#ArialMT-30\"/>\n       <use xlink:href=\"#ArialMT-2e\" x=\"55.615234\"/>\n       <use xlink:href=\"#ArialMT-31\" x=\"83.398438\"/>\n       <use xlink:href=\"#ArialMT-30\" x=\"139.013672\"/>\n      </g>\n     </g>\n    </g>\n    <g id=\"ytick_3\">\n     <g id=\"line2d_9\">\n      <path d=\"M 46.923438 177.99552 \nL 404.043437 177.99552 \n\" clip-path=\"url(#p318de47e59)\" style=\"fill: none; stroke: #ffffff; stroke-width: 0.8; stroke-linecap: round\"/>\n     </g>\n     <g id=\"text_10\">\n      <!-- 0.11 -->\n      <g style=\"fill: #262626\" transform=\"translate(21.2 181.574426) scale(0.1 -0.1)\">\n       <use xlink:href=\"#ArialMT-30\"/>\n       <use xlink:href=\"#ArialMT-2e\" x=\"55.615234\"/>\n       <use xlink:href=\"#ArialMT-31\" x=\"83.398438\"/>\n       <use xlink:href=\"#ArialMT-31\" x=\"131.638672\"/>\n      </g>\n     </g>\n    </g>\n    <g id=\"ytick_4\">\n     <g id=\"line2d_10\">\n      <path d=\"M 46.923438 136.70784 \nL 404.043437 136.70784 \n\" clip-path=\"url(#p318de47e59)\" style=\"fill: none; stroke: #ffffff; stroke-width: 0.8; stroke-linecap: round\"/>\n     </g>\n     <g id=\"text_11\">\n      <!-- 0.12 -->\n      <g style=\"fill: #262626\" transform=\"translate(20.4625 140.286746) scale(0.1 -0.1)\">\n       <use xlink:href=\"#ArialMT-30\"/>\n       <use xlink:href=\"#ArialMT-2e\" x=\"55.615234\"/>\n       <use xlink:href=\"#ArialMT-31\" x=\"83.398438\"/>\n       <use xlink:href=\"#ArialMT-32\" x=\"139.013672\"/>\n      </g>\n     </g>\n    </g>\n    <g id=\"ytick_5\">\n     <g id=\"line2d_11\">\n      <path d=\"M 46.923438 95.42016 \nL 404.043437 95.42016 \n\" clip-path=\"url(#p318de47e59)\" style=\"fill: none; stroke: #ffffff; stroke-width: 0.8; stroke-linecap: round\"/>\n     </g>\n     <g id=\"text_12\">\n      <!-- 0.13 -->\n      <g style=\"fill: #262626\" transform=\"translate(20.4625 98.999066) scale(0.1 -0.1)\">\n       <use xlink:href=\"#ArialMT-30\"/>\n       <use xlink:href=\"#ArialMT-2e\" x=\"55.615234\"/>\n       <use xlink:href=\"#ArialMT-31\" x=\"83.398438\"/>\n       <use xlink:href=\"#ArialMT-33\" x=\"139.013672\"/>\n      </g>\n     </g>\n    </g>\n    <g id=\"ytick_6\">\n     <g id=\"line2d_12\">\n      <path d=\"M 46.923438 54.13248 \nL 404.043437 54.13248 \n\" clip-path=\"url(#p318de47e59)\" style=\"fill: none; stroke: #ffffff; stroke-width: 0.8; stroke-linecap: round\"/>\n     </g>\n     <g id=\"text_13\">\n      <!-- 0.14 -->\n      <g style=\"fill: #262626\" transform=\"translate(20.4625 57.711386) scale(0.1 -0.1)\">\n       <use xlink:href=\"#ArialMT-30\"/>\n       <use xlink:href=\"#ArialMT-2e\" x=\"55.615234\"/>\n       <use xlink:href=\"#ArialMT-31\" x=\"83.398438\"/>\n       <use xlink:href=\"#ArialMT-34\" x=\"139.013672\"/>\n      </g>\n     </g>\n    </g>\n    <g id=\"ytick_7\">\n     <g id=\"line2d_13\">\n      <path d=\"M 46.923438 12.8448 \nL 404.043437 12.8448 \n\" clip-path=\"url(#p318de47e59)\" style=\"fill: none; stroke: #ffffff; stroke-width: 0.8; stroke-linecap: round\"/>\n     </g>\n     <g id=\"text_14\">\n      <!-- 0.15 -->\n      <g style=\"fill: #262626\" transform=\"translate(20.4625 16.423706) scale(0.1 -0.1)\">\n       <use xlink:href=\"#ArialMT-30\"/>\n       <use xlink:href=\"#ArialMT-2e\" x=\"55.615234\"/>\n       <use xlink:href=\"#ArialMT-31\" x=\"83.398438\"/>\n       <use xlink:href=\"#ArialMT-35\" x=\"139.013672\"/>\n      </g>\n     </g>\n    </g>\n    <g id=\"text_15\">\n     <!-- Accuracy -->\n     <g style=\"fill: #262626\" transform=\"translate(14.357813 160.816937) rotate(-90) scale(0.1 -0.1)\">\n      <defs>\n       <path id=\"ArialMT-41\" d=\"M -9 0 \nL 1750 4581 \nL 2403 4581 \nL 4278 0 \nL 3588 0 \nL 3053 1388 \nL 1138 1388 \nL 634 0 \nL -9 0 \nz\nM 1313 1881 \nL 2866 1881 \nL 2388 3150 \nQ 2169 3728 2063 4100 \nQ 1975 3659 1816 3225 \nL 1313 1881 \nz\n\" transform=\"scale(0.015625)\"/>\n       <path id=\"ArialMT-75\" d=\"M 2597 0 \nL 2597 488 \nQ 2209 -75 1544 -75 \nQ 1250 -75 995 37 \nQ 741 150 617 320 \nQ 494 491 444 738 \nQ 409 903 409 1263 \nL 409 3319 \nL 972 3319 \nL 972 1478 \nQ 972 1038 1006 884 \nQ 1059 663 1231 536 \nQ 1403 409 1656 409 \nQ 1909 409 2131 539 \nQ 2353 669 2445 892 \nQ 2538 1116 2538 1541 \nL 2538 3319 \nL 3100 3319 \nL 3100 0 \nL 2597 0 \nz\n\" transform=\"scale(0.015625)\"/>\n       <path id=\"ArialMT-72\" d=\"M 416 0 \nL 416 3319 \nL 922 3319 \nL 922 2816 \nQ 1116 3169 1280 3281 \nQ 1444 3394 1641 3394 \nQ 1925 3394 2219 3213 \nL 2025 2691 \nQ 1819 2813 1613 2813 \nQ 1428 2813 1281 2702 \nQ 1134 2591 1072 2394 \nQ 978 2094 978 1738 \nL 978 0 \nL 416 0 \nz\n\" transform=\"scale(0.015625)\"/>\n       <path id=\"ArialMT-61\" d=\"M 2588 409 \nQ 2275 144 1986 34 \nQ 1697 -75 1366 -75 \nQ 819 -75 525 192 \nQ 231 459 231 875 \nQ 231 1119 342 1320 \nQ 453 1522 633 1644 \nQ 813 1766 1038 1828 \nQ 1203 1872 1538 1913 \nQ 2219 1994 2541 2106 \nQ 2544 2222 2544 2253 \nQ 2544 2597 2384 2738 \nQ 2169 2928 1744 2928 \nQ 1347 2928 1158 2789 \nQ 969 2650 878 2297 \nL 328 2372 \nQ 403 2725 575 2942 \nQ 747 3159 1072 3276 \nQ 1397 3394 1825 3394 \nQ 2250 3394 2515 3294 \nQ 2781 3194 2906 3042 \nQ 3031 2891 3081 2659 \nQ 3109 2516 3109 2141 \nL 3109 1391 \nQ 3109 606 3145 398 \nQ 3181 191 3288 0 \nL 2700 0 \nQ 2613 175 2588 409 \nz\nM 2541 1666 \nQ 2234 1541 1622 1453 \nQ 1275 1403 1131 1340 \nQ 988 1278 909 1158 \nQ 831 1038 831 891 \nQ 831 666 1001 516 \nQ 1172 366 1500 366 \nQ 1825 366 2078 508 \nQ 2331 650 2450 897 \nQ 2541 1088 2541 1459 \nL 2541 1666 \nz\n\" transform=\"scale(0.015625)\"/>\n       <path id=\"ArialMT-79\" d=\"M 397 -1278 \nL 334 -750 \nQ 519 -800 656 -800 \nQ 844 -800 956 -737 \nQ 1069 -675 1141 -563 \nQ 1194 -478 1313 -144 \nQ 1328 -97 1363 -6 \nL 103 3319 \nL 709 3319 \nL 1400 1397 \nQ 1534 1031 1641 628 \nQ 1738 1016 1872 1384 \nL 2581 3319 \nL 3144 3319 \nL 1881 -56 \nQ 1678 -603 1566 -809 \nQ 1416 -1088 1222 -1217 \nQ 1028 -1347 759 -1347 \nQ 597 -1347 397 -1278 \nz\n\" transform=\"scale(0.015625)\"/>\n      </defs>\n      <use xlink:href=\"#ArialMT-41\"/>\n      <use xlink:href=\"#ArialMT-63\" x=\"66.699219\"/>\n      <use xlink:href=\"#ArialMT-63\" x=\"116.699219\"/>\n      <use xlink:href=\"#ArialMT-75\" x=\"166.699219\"/>\n      <use xlink:href=\"#ArialMT-72\" x=\"222.314453\"/>\n      <use xlink:href=\"#ArialMT-61\" x=\"255.615234\"/>\n      <use xlink:href=\"#ArialMT-63\" x=\"311.230469\"/>\n      <use xlink:href=\"#ArialMT-79\" x=\"361.230469\"/>\n     </g>\n    </g>\n   </g>\n   <g id=\"PolyCollection_1\"/>\n   <g id=\"line2d_14\">\n    <path d=\"M 63.156165 83.808 \nL 66.435504 148.32 \nL 69.714842 196.704 \nL 72.994181 180.576 \nL 76.27352 116.064 \nL 79.552859 132.192 \nL 82.832198 99.936 \nL 86.111537 164.448 \nL 89.390876 196.704 \nL 92.670214 228.96 \nL 95.949553 164.448 \nL 99.228892 99.936 \nL 102.508231 164.448 \nL 105.78757 180.576 \nL 109.066909 116.064 \nL 112.346247 180.576 \nL 115.625586 164.448 \nL 118.904925 164.448 \nL 122.184264 180.576 \nL 125.463603 228.96 \nL 128.742942 148.32 \nL 132.02228 164.448 \nL 135.301619 132.192 \nL 138.580958 99.936 \nL 141.860297 51.552 \nL 145.139636 116.064 \nL 148.418975 83.808 \nL 151.698314 132.192 \nL 154.977652 99.936 \nL 158.256991 116.064 \nL 161.53633 116.064 \nL 164.815669 148.32 \nL 168.095008 196.704 \nL 171.374347 228.96 \nL 174.653685 180.576 \nL 177.933024 116.064 \nL 181.212363 180.576 \nL 184.491702 132.192 \nL 187.771041 116.064 \nL 191.05038 35.424 \nL 194.329718 51.552 \nL 197.609057 67.68 \nL 200.888396 261.216 \nL 204.167735 83.808 \nL 207.447074 83.808 \nL 210.726413 83.808 \nL 214.005752 164.448 \nL 217.28509 116.064 \nL 220.564429 164.448 \nL 223.843768 116.064 \nL 227.123107 148.32 \nL 230.402446 148.32 \nL 233.681785 116.064 \nL 236.961123 99.936 \nL 240.240462 67.68 \nL 243.519801 196.704 \nL 246.79914 196.704 \nL 250.078479 132.192 \nL 253.357818 132.192 \nL 256.637157 132.192 \nL 259.916495 99.936 \nL 263.195834 19.296 \nL 266.475173 35.424 \nL 269.754512 196.704 \nL 273.033851 51.552 \nL 276.31319 19.296 \nL 279.592528 83.808 \nL 282.871867 148.32 \nL 286.151206 132.192 \nL 289.430545 83.808 \nL 292.709884 148.32 \nL 295.989223 148.32 \nL 299.268561 196.704 \nL 302.5479 99.936 \nL 305.827239 132.192 \nL 309.106578 67.68 \nL 312.385917 180.576 \nL 315.665256 116.064 \nL 318.944595 196.704 \nL 322.223933 164.448 \nL 325.503272 164.448 \nL 328.782611 83.808 \nL 332.06195 83.808 \nL 335.341289 180.576 \nL 338.620628 132.192 \nL 341.899966 148.32 \nL 345.179305 116.064 \nL 348.458644 148.32 \nL 351.737983 148.32 \nL 355.017322 180.576 \nL 358.296661 132.192 \nL 361.575999 132.192 \nL 364.855338 132.192 \nL 368.134677 148.32 \nL 371.414016 180.576 \nL 374.693355 132.192 \nL 377.972694 116.064 \nL 381.252033 196.704 \nL 384.531371 148.32 \nL 387.81071 83.808 \n\" clip-path=\"url(#p318de47e59)\" style=\"fill: none; stroke: #1f77b4; stroke-width: 1.5; stroke-linecap: round\"/>\n   </g>\n   <g id=\"patch_3\">\n    <path d=\"M 46.923438 273.312 \nL 46.923438 7.2 \n\" style=\"fill: none; stroke: #ffffff; stroke-width: 0.8; stroke-linejoin: miter; stroke-linecap: square\"/>\n   </g>\n   <g id=\"patch_4\">\n    <path d=\"M 404.043437 273.312 \nL 404.043437 7.2 \n\" style=\"fill: none; stroke: #ffffff; stroke-width: 0.8; stroke-linejoin: miter; stroke-linecap: square\"/>\n   </g>\n   <g id=\"patch_5\">\n    <path d=\"M 46.923438 273.312 \nL 404.043438 273.312 \n\" style=\"fill: none; stroke: #ffffff; stroke-width: 0.8; stroke-linejoin: miter; stroke-linecap: square\"/>\n   </g>\n   <g id=\"patch_6\">\n    <path d=\"M 46.923438 7.2 \nL 404.043438 7.2 \n\" style=\"fill: none; stroke: #ffffff; stroke-width: 0.8; stroke-linejoin: miter; stroke-linecap: square\"/>\n   </g>\n   <g id=\"legend_1\">\n    <g id=\"patch_7\">\n     <path d=\"M 289.4575 29.4625 \nL 397.043437 29.4625 \nQ 399.043437 29.4625 399.043437 27.4625 \nL 399.043437 14.2 \nQ 399.043437 12.2 397.043437 12.2 \nL 289.4575 12.2 \nQ 287.4575 12.2 287.4575 14.2 \nL 287.4575 27.4625 \nQ 287.4575 29.4625 289.4575 29.4625 \nz\n\" style=\"fill: #eaeaf2; opacity: 0.8; stroke: #cccccc; stroke-linejoin: miter\"/>\n    </g>\n    <g id=\"line2d_15\">\n     <path d=\"M 291.4575 19.857812 \nL 301.4575 19.857812 \nL 311.4575 19.857812 \n\" style=\"fill: none; stroke: #1f77b4; stroke-width: 1.5; stroke-linecap: round\"/>\n    </g>\n    <g id=\"text_16\">\n     <!-- training accuracy -->\n     <g style=\"fill: #262626\" transform=\"translate(319.4575 23.357812) scale(0.1 -0.1)\">\n      <defs>\n       <path id=\"ArialMT-74\" d=\"M 1650 503 \nL 1731 6 \nQ 1494 -44 1306 -44 \nQ 1000 -44 831 53 \nQ 663 150 594 308 \nQ 525 466 525 972 \nL 525 2881 \nL 113 2881 \nL 113 3319 \nL 525 3319 \nL 525 4141 \nL 1084 4478 \nL 1084 3319 \nL 1650 3319 \nL 1650 2881 \nL 1084 2881 \nL 1084 941 \nQ 1084 700 1114 631 \nQ 1144 563 1211 522 \nQ 1278 481 1403 481 \nQ 1497 481 1650 503 \nz\n\" transform=\"scale(0.015625)\"/>\n       <path id=\"ArialMT-69\" d=\"M 425 3934 \nL 425 4581 \nL 988 4581 \nL 988 3934 \nL 425 3934 \nz\nM 425 0 \nL 425 3319 \nL 988 3319 \nL 988 0 \nL 425 0 \nz\n\" transform=\"scale(0.015625)\"/>\n       <path id=\"ArialMT-6e\" d=\"M 422 0 \nL 422 3319 \nL 928 3319 \nL 928 2847 \nQ 1294 3394 1984 3394 \nQ 2284 3394 2536 3286 \nQ 2788 3178 2913 3003 \nQ 3038 2828 3088 2588 \nQ 3119 2431 3119 2041 \nL 3119 0 \nL 2556 0 \nL 2556 2019 \nQ 2556 2363 2490 2533 \nQ 2425 2703 2258 2804 \nQ 2091 2906 1866 2906 \nQ 1506 2906 1245 2678 \nQ 984 2450 984 1813 \nL 984 0 \nL 422 0 \nz\n\" transform=\"scale(0.015625)\"/>\n       <path id=\"ArialMT-67\" d=\"M 319 -275 \nL 866 -356 \nQ 900 -609 1056 -725 \nQ 1266 -881 1628 -881 \nQ 2019 -881 2231 -725 \nQ 2444 -569 2519 -288 \nQ 2563 -116 2559 434 \nQ 2191 0 1641 0 \nQ 956 0 581 494 \nQ 206 988 206 1678 \nQ 206 2153 378 2554 \nQ 550 2956 876 3175 \nQ 1203 3394 1644 3394 \nQ 2231 3394 2613 2919 \nL 2613 3319 \nL 3131 3319 \nL 3131 450 \nQ 3131 -325 2973 -648 \nQ 2816 -972 2473 -1159 \nQ 2131 -1347 1631 -1347 \nQ 1038 -1347 672 -1080 \nQ 306 -813 319 -275 \nz\nM 784 1719 \nQ 784 1066 1043 766 \nQ 1303 466 1694 466 \nQ 2081 466 2343 764 \nQ 2606 1063 2606 1700 \nQ 2606 2309 2336 2618 \nQ 2066 2928 1684 2928 \nQ 1309 2928 1046 2623 \nQ 784 2319 784 1719 \nz\n\" transform=\"scale(0.015625)\"/>\n       <path id=\"ArialMT-20\" transform=\"scale(0.015625)\"/>\n      </defs>\n      <use xlink:href=\"#ArialMT-74\"/>\n      <use xlink:href=\"#ArialMT-72\" x=\"27.783203\"/>\n      <use xlink:href=\"#ArialMT-61\" x=\"61.083984\"/>\n      <use xlink:href=\"#ArialMT-69\" x=\"116.699219\"/>\n      <use xlink:href=\"#ArialMT-6e\" x=\"138.916016\"/>\n      <use xlink:href=\"#ArialMT-69\" x=\"194.53125\"/>\n      <use xlink:href=\"#ArialMT-6e\" x=\"216.748047\"/>\n      <use xlink:href=\"#ArialMT-67\" x=\"272.363281\"/>\n      <use xlink:href=\"#ArialMT-20\" x=\"327.978516\"/>\n      <use xlink:href=\"#ArialMT-61\" x=\"355.761719\"/>\n      <use xlink:href=\"#ArialMT-63\" x=\"411.376953\"/>\n      <use xlink:href=\"#ArialMT-63\" x=\"461.376953\"/>\n      <use xlink:href=\"#ArialMT-75\" x=\"511.376953\"/>\n      <use xlink:href=\"#ArialMT-72\" x=\"566.992188\"/>\n      <use xlink:href=\"#ArialMT-61\" x=\"600.292969\"/>\n      <use xlink:href=\"#ArialMT-63\" x=\"655.908203\"/>\n      <use xlink:href=\"#ArialMT-79\" x=\"705.908203\"/>\n     </g>\n    </g>\n   </g>\n  </g>\n </g>\n <defs>\n  <clipPath id=\"p318de47e59\">\n   <rect x=\"46.923438\" y=\"7.2\" width=\"357.12\" height=\"266.112\"/>\n  </clipPath>\n </defs>\n</svg>\n"
     },
     "metadata": {},
     "output_type": "display_data"
    }
   ],
   "source": [
    "sns.lineplot(x=range(0,epochs,5),y=s1,label='training accuracy')\n",
    "#sns.lineplot(x=epochs,y=s2,label='test accuracy')\n",
    "plt.xlabel('Epochs')\n",
    "plt.ylabel('Accuracy')"
   ],
   "metadata": {
    "collapsed": false
   }
  },
  {
   "cell_type": "code",
   "execution_count": 726,
   "outputs": [],
   "source": [],
   "metadata": {
    "collapsed": false
   }
  }
 ],
 "metadata": {
  "kernelspec": {
   "display_name": "Python 3",
   "language": "python",
   "name": "python3"
  },
  "language_info": {
   "codemirror_mode": {
    "name": "ipython",
    "version": 2
   },
   "file_extension": ".py",
   "mimetype": "text/x-python",
   "name": "python",
   "nbconvert_exporter": "python",
   "pygments_lexer": "ipython2",
   "version": "2.7.6"
  }
 },
 "nbformat": 4,
 "nbformat_minor": 0
}
