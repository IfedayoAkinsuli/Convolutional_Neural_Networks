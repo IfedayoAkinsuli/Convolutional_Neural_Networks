{
 "cells": [
  {
   "cell_type": "markdown",
   "source": [
    "# Assignment"
   ],
   "metadata": {
    "collapsed": false
   }
  },
  {
   "cell_type": "markdown",
   "source": [
    "## Importing Libraries"
   ],
   "metadata": {
    "collapsed": false
   }
  },
  {
   "cell_type": "code",
   "execution_count": 1,
   "metadata": {
    "collapsed": true
   },
   "outputs": [],
   "source": [
    "import numpy as np\n",
    "import torch\n",
    "import torchvision\n",
    "import torchvision.datasets as datasets\n",
    "import matplotlib.pyplot as plt\n",
    "import seaborn as sns"
   ]
  },
  {
   "cell_type": "markdown",
   "source": [
    "## Loading the Datasets"
   ],
   "metadata": {
    "collapsed": false
   }
  },
  {
   "cell_type": "code",
   "execution_count": 2,
   "outputs": [
    {
     "name": "stdout",
     "output_type": "stream",
     "text": [
      "Files already downloaded and verified\n",
      "Files already downloaded and verified\n"
     ]
    }
   ],
   "source": [
    "cifar_dataset_train = datasets.CIFAR10(root='./data',train=True,download=True,transform=torchvision.transforms.ToTensor())\n",
    "\n",
    "cifar_dataset_test = datasets.CIFAR10(root='./data',train=False,download=True,transform=torchvision.transforms.ToTensor())"
   ],
   "metadata": {
    "collapsed": false
   }
  },
  {
   "cell_type": "markdown",
   "source": [
    "## Creating the training dataset"
   ],
   "metadata": {
    "collapsed": false
   }
  },
  {
   "cell_type": "code",
   "execution_count": 3,
   "outputs": [],
   "source": [
    "from torch.utils.data import DataLoader\n",
    "batch_size = 256\n",
    "\n",
    "train_iter = DataLoader(cifar_dataset_train,batch_size,shuffle=True)"
   ],
   "metadata": {
    "collapsed": false
   }
  },
  {
   "cell_type": "code",
   "execution_count": 4,
   "outputs": [],
   "source": [
    "X,y = next(iter(train_iter))"
   ],
   "metadata": {
    "collapsed": false
   }
  },
  {
   "cell_type": "markdown",
   "source": [
    "## Creating the test dataset"
   ],
   "metadata": {
    "collapsed": false
   }
  },
  {
   "cell_type": "code",
   "execution_count": 5,
   "outputs": [],
   "source": [
    "test_iter = DataLoader(cifar_dataset_test,batch_size,shuffle=True)"
   ],
   "metadata": {
    "collapsed": false
   }
  },
  {
   "cell_type": "code",
   "execution_count": 6,
   "outputs": [],
   "source": [
    "X_test,y_test = next(iter(test_iter))"
   ],
   "metadata": {
    "collapsed": false
   }
  },
  {
   "cell_type": "markdown",
   "source": [
    "## Analysing the CIFAR-10 data"
   ],
   "metadata": {
    "collapsed": false
   }
  },
  {
   "cell_type": "code",
   "execution_count": 7,
   "outputs": [
    {
     "name": "stdout",
     "output_type": "stream",
     "text": [
      "The dimensions of each input image is torch.Size([256, 3, 32, 32]) The number of input channels is 3\n",
      "The output labels are as follows tensor([4, 2, 8, 1, 3, 0, 3, 1, 6, 2, 8, 6, 9, 9, 4, 8, 1, 2, 6, 7, 1, 5, 1, 8,\n",
      "        3, 6, 1, 5, 7, 6, 0, 5, 7, 3, 3, 0, 6, 5, 9, 7, 2, 2, 4, 5, 1, 6, 8, 8,\n",
      "        2, 6, 3, 0, 3, 0, 8, 0, 5, 9, 7, 7, 5, 2, 5, 4, 2, 7, 5, 7, 5, 6, 5, 9,\n",
      "        7, 0, 8, 2, 1, 8, 3, 0, 4, 1, 4, 2, 4, 6, 0, 4, 5, 4, 8, 7, 9, 6, 6, 5,\n",
      "        3, 4, 3, 8, 9, 1, 4, 7, 8, 3, 2, 1, 9, 8, 6, 0, 7, 8, 5, 6, 6, 2, 3, 9,\n",
      "        8, 9, 9, 3, 2, 9, 4, 2, 2, 6, 3, 7, 1, 9, 0, 7, 0, 6, 5, 5, 3, 4, 3, 4,\n",
      "        1, 4, 2, 3, 1, 1, 2, 1, 4, 0, 4, 3, 9, 4, 6, 8, 3, 8, 4, 6, 0, 6, 5, 1,\n",
      "        0, 5, 8, 8, 4, 5, 0, 0, 4, 1, 2, 2, 3, 0, 0, 0, 4, 8, 8, 6, 6, 0, 6, 7,\n",
      "        1, 5, 5, 3, 8, 8, 9, 2, 3, 2, 0, 8, 8, 0, 5, 1, 7, 6, 2, 6, 1, 2, 5, 6,\n",
      "        4, 7, 9, 4, 5, 3, 2, 5, 1, 9, 5, 4, 7, 9, 8, 0, 6, 9, 9, 8, 2, 5, 8, 3,\n",
      "        1, 8, 5, 4, 7, 2, 0, 8, 2, 7, 9, 9, 4, 2, 4, 6])\n"
     ]
    }
   ],
   "source": [
    "print(f'The dimensions of each input image is {X.size()} The number of input channels is {X.size()[1]}')\n",
    "print(f'The output labels are as follows {y}')"
   ],
   "metadata": {
    "collapsed": false
   }
  },
  {
   "cell_type": "markdown",
   "source": [
    "## Example image"
   ],
   "metadata": {
    "collapsed": false
   }
  },
  {
   "cell_type": "code",
   "execution_count": 8,
   "outputs": [
    {
     "name": "stderr",
     "output_type": "stream",
     "text": [
      "C:\\Users\\ifeda\\AppData\\Local\\Temp\\ipykernel_12884\\591414796.py:1: UserWarning: The use of `x.T` on tensors of dimension other than 2 to reverse their shape is deprecated and it will throw an error in a future release. Consider `x.mT` to transpose batches of matrices or `x.permute(*torch.arange(x.ndim - 1, -1, -1))` to reverse the dimensions of a tensor. (Triggered internally at ..\\aten\\src\\ATen\\native\\TensorShape.cpp:3575.)\n",
      "  plt.imshow(X[1].T)\n"
     ]
    },
    {
     "data": {
      "text/plain": "<matplotlib.image.AxesImage at 0x161a2c87d00>"
     },
     "execution_count": 8,
     "metadata": {},
     "output_type": "execute_result"
    },
    {
     "data": {
      "text/plain": "<Figure size 640x480 with 1 Axes>",
      "image/png": "[encoded data removed]"
     },
     "metadata": {},
     "output_type": "display_data"
    }
   ],
   "source": [
    "plt.imshow(X[1].T)"
   ],
   "metadata": {
    "collapsed": false
   }
  },
  {
   "cell_type": "markdown",
   "source": [
    "## CNN Architecture\n",
    "\n",
    "- The output features for the basic linear layer has match the number of convolutions\n",
    "- check if the input to the convolution should be in one or 2 dimensions"
   ],
   "metadata": {
    "collapsed": false
   }
  },
  {
   "cell_type": "code",
   "execution_count": 149,
   "outputs": [],
   "source": [
    "class CNN(torch.nn.Module):\n",
    "    def __init__(self,num_inputs,num_channels,num_outputs):\n",
    "        super(CNN,self).__init__()\n",
    "        self.num_inputs = num_inputs\n",
    "        self.num_channels = num_channels\n",
    "        self.num_outputs = num_outputs\n",
    "\n",
    "        #Spatial/Global Pooling for input\n",
    "        self.spatial_avg_pool = torch.nn.AdaptiveAvgPool2d((12,12))\n",
    "\n",
    "        # Design the base block Element\n",
    "        # Create an input linear layer for future combination\n",
    "        self.linear1 = torch.nn.Linear(num_inputs,out_features=2)\n",
    "        self.relu1 = torch.nn.ReLU()\n",
    "\n",
    "        self.conv1 = torch.nn.Conv2d(num_channels,out_channels=6,kernel_size=5,stride=1,padding=1)\n",
    "        self.relu2 = torch.nn.ReLU()\n",
    "\n",
    "        self.conv2 = torch.nn.Conv2d(num_channels,out_channels=12,kernel_size=5,stride=1,padding=1)\n",
    "        self.relu3 = torch.nn.ReLU()\n",
    "\n",
    "        #Create the dense layer creating a FC linear layer to the output\n",
    "\n",
    "\n",
    "    def forward(self,x):\n",
    "        # Applying average pooling to downsample the image from 32 ->12\n",
    "        a = self.spatial_avg_pool(x)\n",
    "\n",
    "        #Reshape the tensor to allow for matrix multiplication\n",
    "        a = a.view(a.size(0),-1)\n",
    "\n",
    "        a = self.linear1(a)\n",
    "        a = self.relu1(a)\n",
    "\n",
    "        # Get outputs of each convolution ->RelU layer\n",
    "        o1 = self.conv1(x)\n",
    "        o1 = self.relu2(o1)\n",
    "\n",
    "        o2 = self.conv2(x)\n",
    "        o2 = self.relu3(o2)\n",
    "\n",
    "        O = torch.cat([o1,o2],dim=1)\n",
    "\n",
    "        output = torch.matmul(O.view(-1,2),a.T)\n",
    "\n",
    "        return output"
   ],
   "metadata": {
    "collapsed": false
   }
  },
  {
   "cell_type": "code",
   "execution_count": 150,
   "outputs": [
    {
     "name": "stdout",
     "output_type": "stream",
     "text": [
      "CNN(\n",
      "  (spatial_avg_pool): AdaptiveAvgPool2d(output_size=(12, 12))\n",
      "  (linear1): Linear(in_features=432, out_features=2, bias=True)\n",
      "  (relu1): ReLU()\n",
      "  (conv1): Conv2d(3, 6, kernel_size=(5, 5), stride=(1, 1), padding=(1, 1))\n",
      "  (relu2): ReLU()\n",
      "  (conv2): Conv2d(3, 12, kernel_size=(5, 5), stride=(1, 1), padding=(1, 1))\n",
      "  (relu3): ReLU()\n",
      ")\n"
     ]
    }
   ],
   "source": [
    "model = CNN(num_inputs=432,num_channels=3,num_outputs=10)\n",
    "print(model)"
   ],
   "metadata": {
    "collapsed": false
   }
  },
  {
   "cell_type": "code",
   "execution_count": 152,
   "outputs": [
    {
     "data": {
      "text/plain": "torch.Size([2073600, 256])"
     },
     "execution_count": 152,
     "metadata": {},
     "output_type": "execute_result"
    }
   ],
   "source": [
    "model(X).size()"
   ],
   "metadata": {
    "collapsed": false
   }
  },
  {
   "cell_type": "code",
   "execution_count": 139,
   "outputs": [
    {
     "data": {
      "text/plain": "256"
     },
     "execution_count": 139,
     "metadata": {},
     "output_type": "execute_result"
    }
   ],
   "source": [
    "X.size(0)"
   ],
   "metadata": {
    "collapsed": false
   }
  },
  {
   "cell_type": "code",
   "execution_count": 140,
   "outputs": [
    {
     "data": {
      "text/plain": "torch.Size([256, 432])"
     },
     "execution_count": 140,
     "metadata": {},
     "output_type": "execute_result"
    }
   ],
   "source": [
    "test_pool = torch.nn.AdaptiveAvgPool2d((12,12))\n",
    "t = test_pool(X)\n",
    "t = t.view(t.size(0),-1)\n",
    "t.size()"
   ],
   "metadata": {
    "collapsed": false
   }
  },
  {
   "cell_type": "code",
   "execution_count": 132,
   "outputs": [],
   "source": [
    "l = torch.nn.Linear(in_features=432,out_features=2)\n",
    "b =l(t)\n",
    "r = torch.nn.ReLU()\n",
    "b = r(b)"
   ],
   "metadata": {
    "collapsed": false
   }
  },
  {
   "cell_type": "code",
   "execution_count": 133,
   "outputs": [
    {
     "data": {
      "text/plain": "torch.Size([256, 2])"
     },
     "execution_count": 133,
     "metadata": {},
     "output_type": "execute_result"
    }
   ],
   "source": [
    "b.size()"
   ],
   "metadata": {
    "collapsed": false
   }
  },
  {
   "cell_type": "code",
   "execution_count": 107,
   "outputs": [
    {
     "data": {
      "text/plain": "torch.Size([256, 18, 30, 30])"
     },
     "execution_count": 107,
     "metadata": {},
     "output_type": "execute_result"
    }
   ],
   "source": [
    "a = model(X)\n",
    "a.size()"
   ],
   "metadata": {
    "collapsed": false
   }
  },
  {
   "cell_type": "code",
   "execution_count": 136,
   "outputs": [
    {
     "data": {
      "text/plain": "torch.Size([2073600, 256])"
     },
     "execution_count": 136,
     "metadata": {},
     "output_type": "execute_result"
    }
   ],
   "source": [
    "torch.matmul(a.view(-1,2),b.T).size()"
   ],
   "metadata": {
    "collapsed": false
   }
  },
  {
   "cell_type": "code",
   "execution_count": null,
   "outputs": [],
   "source": [],
   "metadata": {
    "collapsed": false
   }
  }
 ],
 "metadata": {
  "kernelspec": {
   "display_name": "Python 3",
   "language": "python",
   "name": "python3"
  },
  "language_info": {
   "codemirror_mode": {
    "name": "ipython",
    "version": 2
   },
   "file_extension": ".py",
   "mimetype": "text/x-python",
   "name": "python",
   "nbconvert_exporter": "python",
   "pygments_lexer": "ipython2",
   "version": "2.7.6"
  }
 },
 "nbformat": 4,
 "nbformat_minor": 0
}
