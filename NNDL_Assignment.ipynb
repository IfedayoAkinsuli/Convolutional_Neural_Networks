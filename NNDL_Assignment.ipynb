{
 "cells": [
  {
   "cell_type": "markdown",
   "source": [
    "# Assignment"
   ],
   "metadata": {
    "collapsed": false,
    "id": "epRhXmLlslvQ"
   }
  },
  {
   "cell_type": "markdown",
   "source": [
    "## Importing Libraries"
   ],
   "metadata": {
    "collapsed": false,
    "id": "2Q7dQjRUslvR"
   }
  },
  {
   "cell_type": "code",
   "execution_count": 1,
   "metadata": {
    "collapsed": true,
    "colab": {
     "base_uri": "https://localhost:8080/"
    },
    "id": "Yq5f3eB-slvR",
    "outputId": "01a32054-8d99-4cf8-93f2-ae34af28f028"
   },
   "outputs": [],
   "source": [
    "import numpy as np\n",
    "import torch\n",
    "import torchvision.transforms as transforms\n",
    "import torchvision.datasets as datasets\n",
    "import matplotlib.pyplot as plt\n",
    "import seaborn as sns\n",
    "\n",
    "#!pip install torch-directml\n",
    "import torch_directml\n",
    "dml = torch_directml.device()\n",
    "\n",
    "# device = torch.device('cuda' if torch.cuda.is_available() else 'cpu')\n",
    "# print(f'Currently using {device}')"
   ]
  },
  {
   "cell_type": "markdown",
   "source": [
    "## Loading the Datasets"
   ],
   "metadata": {
    "collapsed": false,
    "id": "Ml0kqeymslvS"
   }
  },
  {
   "cell_type": "code",
   "execution_count": 2,
   "outputs": [
    {
     "name": "stdout",
     "output_type": "stream",
     "text": [
      "Files already downloaded and verified\n",
      "Files already downloaded and verified\n"
     ]
    }
   ],
   "source": [
    "transform = transforms.Compose([transforms.ToTensor(),transforms.Normalize((0.5,0.5,0.5),(0.5,0.5,0.5))])\n",
    "\n",
    "cifar_dataset_train = datasets.CIFAR10(root='./data',train=True,download=True,transform=transform)\n",
    "\n",
    "cifar_dataset_test = datasets.CIFAR10(root='./data',train=False,download=True,transform=transform)"
   ],
   "metadata": {
    "colab": {
     "base_uri": "https://localhost:8080/"
    },
    "id": "UqOxjSxyslvS",
    "outputId": "44ba3019-6347-4414-b9f0-c9f5b5bcb032"
   }
  },
  {
   "cell_type": "code",
   "execution_count": 3,
   "outputs": [],
   "source": [
    "classes = ()"
   ],
   "metadata": {
    "id": "BWLKBMW3slvS"
   }
  },
  {
   "cell_type": "markdown",
   "source": [
    "## Creating the training dataset"
   ],
   "metadata": {
    "collapsed": false,
    "id": "Sug-3heZslvS"
   }
  },
  {
   "cell_type": "code",
   "execution_count": 4,
   "outputs": [],
   "source": [
    "from torch.utils.data import DataLoader\n",
    "batch_size = 100\n",
    "\n",
    "train_iter = DataLoader(cifar_dataset_train,batch_size,shuffle=True,num_workers=2)"
   ],
   "metadata": {
    "id": "38fr7TBjslvT"
   }
  },
  {
   "cell_type": "code",
   "execution_count": 5,
   "outputs": [],
   "source": [
    "X,y = next(iter(train_iter))"
   ],
   "metadata": {
    "id": "8ODbrIknslvT"
   }
  },
  {
   "cell_type": "markdown",
   "source": [
    "## Creating the test dataset"
   ],
   "metadata": {
    "collapsed": false,
    "id": "XgomQRfSslvT"
   }
  },
  {
   "cell_type": "code",
   "execution_count": 6,
   "outputs": [],
   "source": [
    "test_iter = DataLoader(cifar_dataset_test,batch_size,shuffle=False,num_workers=2)"
   ],
   "metadata": {
    "id": "Q8wCTpzSslvT"
   }
  },
  {
   "cell_type": "code",
   "execution_count": 7,
   "outputs": [],
   "source": [
    "X_test,y_test = next(iter(test_iter))"
   ],
   "metadata": {
    "id": "Pc8ps4HaslvT"
   }
  },
  {
   "cell_type": "markdown",
   "source": [
    "## Analysing the CIFAR-10 data"
   ],
   "metadata": {
    "collapsed": false,
    "id": "5KiBr87TslvT"
   }
  },
  {
   "cell_type": "code",
   "execution_count": 8,
   "outputs": [
    {
     "name": "stdout",
     "output_type": "stream",
     "text": [
      "The dimensions of each input image is torch.Size([100, 3, 32, 32]) The number of input channels is 3\n",
      "The output labels are as follows tensor([3, 6, 4, 6, 7, 0, 8, 8, 5, 9, 3, 0, 7, 5, 1, 2, 9, 5, 9, 7, 3, 3, 0, 7,\n",
      "        4, 1, 3, 0, 2, 1, 6, 4, 0, 0, 9, 5, 9, 8, 6, 7, 2, 1, 9, 5, 3, 1, 1, 1,\n",
      "        0, 4, 1, 6, 3, 7, 2, 3, 6, 9, 2, 9, 7, 1, 8, 6, 9, 9, 2, 6, 6, 1, 3, 5,\n",
      "        6, 4, 4, 2, 4, 5, 6, 1, 0, 6, 2, 1, 4, 9, 7, 5, 9, 4, 4, 7, 0, 4, 5, 0,\n",
      "        9, 7, 4, 5])\n"
     ]
    }
   ],
   "source": [
    "print(f'The dimensions of each input image is {X.size()} The number of input channels is {X.size()[1]}')\n",
    "print(f'The output labels are as follows {y}')"
   ],
   "metadata": {
    "colab": {
     "base_uri": "https://localhost:8080/"
    },
    "id": "CL5PpDjxslvU",
    "outputId": "2d8e8bcb-e1cd-4547-b910-a24b2d0c2ce2"
   }
  },
  {
   "cell_type": "markdown",
   "source": [
    "## Example image"
   ],
   "metadata": {
    "collapsed": false,
    "id": "Uq9N_P-cslvU"
   }
  },
  {
   "cell_type": "markdown",
   "source": [
    "## CNN Architecture"
   ],
   "metadata": {
    "collapsed": false,
    "id": "1Vs0Z9DEslvU"
   }
  },
  {
   "cell_type": "code",
   "execution_count": 9,
   "outputs": [],
   "source": [
    "class Block(torch.nn.Module):\n",
    "    def __init__(self,input_channels,output_channels,strides,features,out_features,use_1x1conv=False):\n",
    "        super(Block,self).__init__()\n",
    "        self.output_channels = output_channels\n",
    "\n",
    "        self.b1 = torch.nn.Sequential(\n",
    "            torch.nn.Conv2d(in_channels=input_channels,out_channels=output_channels,kernel_size=3,stride=strides,padding=1),\n",
    "            torch.nn.BatchNorm2d(output_channels),\n",
    "            torch.nn.ReLU(),\n",
    "        )\n",
    "\n",
    "        self.b2 = torch.nn.Sequential(\n",
    "            torch.nn.Conv2d(in_channels=input_channels,out_channels=output_channels,kernel_size=5,stride=strides,padding=2),\n",
    "            torch.nn.BatchNorm2d(output_channels),\n",
    "            torch.nn.ReLU(),\n",
    "        )\n",
    "\n",
    "        self.linear = torch.nn.Sequential(\n",
    "            torch.nn.AdaptiveAvgPool2d((8,8)),\n",
    "            torch.nn.Flatten(),\n",
    "            torch.nn.Linear(in_features=features,out_features=out_features),\n",
    "            torch.nn.ReLU(),\n",
    "            torch.nn.Dropout(0)\n",
    "        )\n",
    "\n",
    "        if use_1x1conv:\n",
    "            self.conv = torch.nn.Conv2d(input_channels,output_channels,kernel_size=1,stride=strides)\n",
    "\n",
    "        else:\n",
    "            self.conv = None\n",
    "\n",
    "    def forward(self,x):\n",
    "\n",
    "        b1 = self.b1(x)\n",
    "        b2 = self.b2(x)\n",
    "\n",
    "        linear = self.linear(x)\n",
    "\n",
    "        o1 = (linear[:,0].view(100,-1) * b1.view(100,-1))\n",
    "        o2 = (linear[:,1].view(100,-1) * b2.view(100,-1))\n",
    "\n",
    "        out = (o1+o2).view(100,self.output_channels,x.size(2),-1)\n",
    "\n",
    "        if self.conv:\n",
    "            x = self.conv(x)\n",
    "\n",
    "        out = torch.nn.functional.relu(x + out)\n",
    "\n",
    "        return out"
   ],
   "metadata": {
    "collapsed": false
   }
  },
  {
   "cell_type": "code",
   "execution_count": 10,
   "outputs": [],
   "source": [
    "class CNN(torch.nn.Module):\n",
    "    def __init__(self,num_classes):\n",
    "        super(CNN,self).__init__()\n",
    "\n",
    "        self.stem = torch.nn.Sequential(\n",
    "            torch.nn.Conv2d(in_channels=3,out_channels=3,kernel_size=11,stride=1,padding=0),\n",
    "            torch.nn.BatchNorm2d(3),\n",
    "            torch.nn.ReLU(),\n",
    "        )\n",
    "\n",
    "        self.block1 = Block(input_channels=3,output_channels=64,features=192,out_features=2,strides=1,use_1x1conv=True)\n",
    "        self.block2 = Block(input_channels=64,output_channels=128,features=4096,out_features=2,strides=1,use_1x1conv=True)\n",
    "\n",
    "        self.last = torch.nn.Sequential(torch.nn.AdaptiveAvgPool2d((8,8)),\n",
    "                                        torch.nn.Flatten(),\n",
    "                                        torch.nn.Linear(in_features=8192,out_features=100),\n",
    "                                        torch.nn.ReLU(),\n",
    "                                        torch.nn.Dropout(0)\n",
    "                                        )\n",
    "\n",
    "        self.linear = torch.nn.Sequential(\n",
    "            torch.nn.Linear(in_features=100,out_features=num_classes),\n",
    "            torch.nn.ReLU(),\n",
    "            torch.nn.Dropout(0),\n",
    "            torch.nn.Softmax(dim=1)\n",
    "        )\n",
    "\n",
    "    def forward(self,x):\n",
    "\n",
    "        output = self.stem(x)\n",
    "\n",
    "        output = self.block1(output)\n",
    "        output = self.block2(output)\n",
    "\n",
    "        output = self.last(output)\n",
    "\n",
    "        output = self.linear(output)\n",
    "\n",
    "        return output"
   ],
   "metadata": {
    "id": "hq8Agyq82mt_"
   }
  },
  {
   "cell_type": "code",
   "execution_count": 11,
   "outputs": [
    {
     "name": "stdout",
     "output_type": "stream",
     "text": [
      "CNN(\n",
      "  (stem): Sequential(\n",
      "    (0): Conv2d(3, 3, kernel_size=(11, 11), stride=(1, 1))\n",
      "    (1): BatchNorm2d(3, eps=1e-05, momentum=0.1, affine=True, track_running_stats=True)\n",
      "    (2): ReLU()\n",
      "  )\n",
      "  (block1): Block(\n",
      "    (b1): Sequential(\n",
      "      (0): Conv2d(3, 64, kernel_size=(3, 3), stride=(1, 1), padding=(1, 1))\n",
      "      (1): BatchNorm2d(64, eps=1e-05, momentum=0.1, affine=True, track_running_stats=True)\n",
      "      (2): ReLU()\n",
      "    )\n",
      "    (b2): Sequential(\n",
      "      (0): Conv2d(3, 64, kernel_size=(5, 5), stride=(1, 1), padding=(2, 2))\n",
      "      (1): BatchNorm2d(64, eps=1e-05, momentum=0.1, affine=True, track_running_stats=True)\n",
      "      (2): ReLU()\n",
      "    )\n",
      "    (linear): Sequential(\n",
      "      (0): AdaptiveAvgPool2d(output_size=(8, 8))\n",
      "      (1): Flatten(start_dim=1, end_dim=-1)\n",
      "      (2): Linear(in_features=192, out_features=2, bias=True)\n",
      "      (3): ReLU()\n",
      "      (4): Dropout(p=0, inplace=False)\n",
      "    )\n",
      "    (conv): Conv2d(3, 64, kernel_size=(1, 1), stride=(1, 1))\n",
      "  )\n",
      "  (block2): Block(\n",
      "    (b1): Sequential(\n",
      "      (0): Conv2d(64, 128, kernel_size=(3, 3), stride=(1, 1), padding=(1, 1))\n",
      "      (1): BatchNorm2d(128, eps=1e-05, momentum=0.1, affine=True, track_running_stats=True)\n",
      "      (2): ReLU()\n",
      "    )\n",
      "    (b2): Sequential(\n",
      "      (0): Conv2d(64, 128, kernel_size=(5, 5), stride=(1, 1), padding=(2, 2))\n",
      "      (1): BatchNorm2d(128, eps=1e-05, momentum=0.1, affine=True, track_running_stats=True)\n",
      "      (2): ReLU()\n",
      "    )\n",
      "    (linear): Sequential(\n",
      "      (0): AdaptiveAvgPool2d(output_size=(8, 8))\n",
      "      (1): Flatten(start_dim=1, end_dim=-1)\n",
      "      (2): Linear(in_features=4096, out_features=2, bias=True)\n",
      "      (3): ReLU()\n",
      "      (4): Dropout(p=0, inplace=False)\n",
      "    )\n",
      "    (conv): Conv2d(64, 128, kernel_size=(1, 1), stride=(1, 1))\n",
      "  )\n",
      "  (last): Sequential(\n",
      "    (0): AdaptiveAvgPool2d(output_size=(8, 8))\n",
      "    (1): Flatten(start_dim=1, end_dim=-1)\n",
      "    (2): Linear(in_features=8192, out_features=100, bias=True)\n",
      "    (3): ReLU()\n",
      "    (4): Dropout(p=0, inplace=False)\n",
      "  )\n",
      "  (linear): Sequential(\n",
      "    (0): Linear(in_features=100, out_features=10, bias=True)\n",
      "    (1): ReLU()\n",
      "    (2): Dropout(p=0, inplace=False)\n",
      "    (3): Softmax(dim=1)\n",
      "  )\n",
      ")\n"
     ]
    }
   ],
   "source": [
    "model = CNN(num_classes=10).to(dml)\n",
    "print(model)"
   ],
   "metadata": {
    "colab": {
     "base_uri": "https://localhost:8080/"
    },
    "id": "xZRGh003slvV",
    "outputId": "be0dc2e1-0040-4b50-dae9-982511f01675"
   }
  },
  {
   "cell_type": "code",
   "execution_count": 12,
   "outputs": [],
   "source": [
    "#model(X).size()"
   ],
   "metadata": {
    "id": "KluZjCil2muB"
   }
  },
  {
   "cell_type": "markdown",
   "source": [
    "## Create Loss and Optimization"
   ],
   "metadata": {
    "collapsed": false,
    "id": "WVs9iHBAslvV"
   }
  },
  {
   "cell_type": "code",
   "execution_count": 13,
   "outputs": [],
   "source": [
    "loss = torch.nn.CrossEntropyLoss()\n",
    "\n",
    "# Create the optimizer term\n",
    "optimizer = torch.optim.SGD(model.parameters(), lr=0.005,weight_decay=0.005,momentum=0.9)"
   ],
   "metadata": {
    "id": "0eGRAdxGslvV"
   }
  },
  {
   "cell_type": "markdown",
   "source": [
    "## Calculate Loss, and Validation Accuracy"
   ],
   "metadata": {
    "collapsed": false,
    "id": "JpjEne9_slvV"
   }
  },
  {
   "cell_type": "code",
   "execution_count": 14,
   "outputs": [],
   "source": [
    "def train_test_model(model,train_iter,test_iter,epochs,optimizer,loss):\n",
    "    for epoch in range(epochs): # Initialize the epochs\n",
    "\n",
    "        l_score = []\n",
    "\n",
    "        for i,(X,y) in enumerate(train_iter):\n",
    "\n",
    "            X = X.to(dml)\n",
    "            y = y.to(dml)\n",
    "\n",
    "            optimizer.zero_grad()\n",
    "\n",
    "            #model.train()\n",
    "            y_hat = model(X)\n",
    "            l = loss(y_hat,y)\n",
    "            l.backward()\n",
    "            optimizer.step()\n",
    "\n",
    "        print(f'Epoch [{epoch + 1}/{epochs}], Loss: {l.item():.4f}')\n",
    "\n",
    "        with torch.no_grad():\n",
    "            correct = 0\n",
    "            total = 0\n",
    "            for data in test_iter:\n",
    "                X_test,y_test = data\n",
    "                X_test = X_test.to(dml)\n",
    "                y_test = y_test.to(dml)\n",
    "\n",
    "                y_hat = model(X_test)\n",
    "\n",
    "                _, predicted = torch.max(y_hat.data,1)\n",
    "                total += y_test.size(0)\n",
    "                correct += (predicted == y_test).sum().item()\n",
    "\n",
    "            print(f'Accuracy of the network on the test images is : {100 * correct // total} percent')\n",
    "\n",
    "    return"
   ],
   "metadata": {
    "id": "lKFyZbtVslvV"
   }
  },
  {
   "cell_type": "code",
   "execution_count": null,
   "outputs": [],
   "source": [
    "epochs = 30\n",
    "train_test_model(model,train_iter,test_iter,epochs,optimizer,loss)"
   ],
   "metadata": {
    "colab": {
     "base_uri": "https://localhost:8080/",
     "height": 339
    },
    "id": "tE_ka-CLslvW",
    "outputId": "f5012cf4-93f8-4dec-d3da-ff10311dc452",
    "pycharm": {
     "is_executing": true
    }
   }
  },
  {
   "cell_type": "code",
   "source": [],
   "metadata": {
    "id": "yJm5KqoLwVZ9"
   },
   "execution_count": null,
   "outputs": []
  }
 ],
 "metadata": {
  "kernelspec": {
   "display_name": "Python 3",
   "language": "python",
   "name": "python3"
  },
  "language_info": {
   "codemirror_mode": {
    "name": "ipython",
    "version": 2
   },
   "file_extension": ".py",
   "mimetype": "text/x-python",
   "name": "python",
   "nbconvert_exporter": "python",
   "pygments_lexer": "ipython2",
   "version": "2.7.6"
  },
  "colab": {
   "provenance": [],
   "gpuType": "T4"
  },
  "accelerator": "GPU",
  "gpuClass": "standard"
 },
 "nbformat": 4,
 "nbformat_minor": 0
}
