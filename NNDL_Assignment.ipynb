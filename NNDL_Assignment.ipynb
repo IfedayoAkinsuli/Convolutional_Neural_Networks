{
 "cells": [
  {
   "cell_type": "markdown",
   "source": [
    "# Assignment"
   ],
   "metadata": {
    "collapsed": false
   }
  },
  {
   "cell_type": "markdown",
   "source": [
    "## Importing Libraries"
   ],
   "metadata": {
    "collapsed": false
   }
  },
  {
   "cell_type": "code",
   "execution_count": 1,
   "metadata": {
    "collapsed": true
   },
   "outputs": [],
   "source": [
    "import numpy as np\n",
    "import torch\n",
    "import torchvision.transforms as transforms\n",
    "import torchvision.datasets as datasets\n",
    "import matplotlib.pyplot as plt\n",
    "import seaborn as sns\n",
    "import my_utils as mu"
   ]
  },
  {
   "cell_type": "markdown",
   "source": [
    "## Loading the Datasets"
   ],
   "metadata": {
    "collapsed": false
   }
  },
  {
   "cell_type": "code",
   "execution_count": 4,
   "outputs": [
    {
     "name": "stdout",
     "output_type": "stream",
     "text": [
      "Files already downloaded and verified\n",
      "Files already downloaded and verified\n"
     ]
    }
   ],
   "source": [
    "transform = transforms.Compose([transforms.ToTensor(),transforms.Normalize((0.5,0.5,0.5),(0.5,0.5,0.5))])\n",
    "\n",
    "cifar_dataset_train = datasets.CIFAR10(root='./data',train=True,download=True,transform=transform)\n",
    "\n",
    "cifar_dataset_test = datasets.CIFAR10(root='./data',train=False,download=True,transform=transform)"
   ],
   "metadata": {
    "collapsed": false
   }
  },
  {
   "cell_type": "code",
   "execution_count": 11,
   "outputs": [],
   "source": [
    "classes = ()"
   ],
   "metadata": {
    "collapsed": false
   }
  },
  {
   "cell_type": "markdown",
   "source": [
    "## Creating the training dataset"
   ],
   "metadata": {
    "collapsed": false
   }
  },
  {
   "cell_type": "code",
   "execution_count": 12,
   "outputs": [],
   "source": [
    "from torch.utils.data import DataLoader\n",
    "batch_size = 100\n",
    "\n",
    "train_iter = DataLoader(cifar_dataset_train,batch_size,shuffle=True,num_workers=2)"
   ],
   "metadata": {
    "collapsed": false
   }
  },
  {
   "cell_type": "code",
   "execution_count": 13,
   "outputs": [],
   "source": [
    "X,y = next(iter(train_iter))"
   ],
   "metadata": {
    "collapsed": false
   }
  },
  {
   "cell_type": "markdown",
   "source": [
    "## Creating the test dataset"
   ],
   "metadata": {
    "collapsed": false
   }
  },
  {
   "cell_type": "code",
   "execution_count": 14,
   "outputs": [],
   "source": [
    "test_iter = DataLoader(cifar_dataset_test,batch_size,shuffle=False,num_workers=2)"
   ],
   "metadata": {
    "collapsed": false
   }
  },
  {
   "cell_type": "code",
   "execution_count": 15,
   "outputs": [],
   "source": [
    "X_test,y_test = next(iter(test_iter))"
   ],
   "metadata": {
    "collapsed": false
   }
  },
  {
   "cell_type": "markdown",
   "source": [
    "## Analysing the CIFAR-10 data"
   ],
   "metadata": {
    "collapsed": false
   }
  },
  {
   "cell_type": "code",
   "execution_count": 16,
   "outputs": [
    {
     "name": "stdout",
     "output_type": "stream",
     "text": [
      "The dimensions of each input image is torch.Size([100, 3, 32, 32]) The number of input channels is 3\n",
      "The output labels are as follows tensor([1, 8, 9, 0, 0, 0, 9, 7, 1, 0, 2, 0, 5, 8, 8, 1, 2, 2, 9, 9, 5, 8, 0, 4,\n",
      "        4, 9, 8, 2, 2, 7, 9, 5, 9, 6, 3, 0, 6, 6, 4, 3, 9, 2, 5, 7, 3, 7, 6, 3,\n",
      "        3, 4, 4, 6, 3, 7, 4, 9, 6, 5, 4, 2, 9, 7, 1, 4, 0, 6, 4, 8, 8, 5, 8, 8,\n",
      "        2, 5, 4, 8, 8, 6, 4, 8, 8, 1, 4, 3, 0, 2, 8, 8, 6, 9, 4, 0, 4, 6, 3, 8,\n",
      "        9, 3, 6, 4])\n"
     ]
    }
   ],
   "source": [
    "print(f'The dimensions of each input image is {X.size()} The number of input channels is {X.size()[1]}')\n",
    "print(f'The output labels are as follows {y}')"
   ],
   "metadata": {
    "collapsed": false
   }
  },
  {
   "cell_type": "markdown",
   "source": [
    "## Example image"
   ],
   "metadata": {
    "collapsed": false
   }
  },
  {
   "cell_type": "code",
   "execution_count": 17,
   "outputs": [
    {
     "name": "stderr",
     "output_type": "stream",
     "text": [
      "Clipping input data to the valid range for imshow with RGB data ([0..1] for floats or [0..255] for integers).\n"
     ]
    },
    {
     "data": {
      "text/plain": "<matplotlib.image.AxesImage at 0x21c69688310>"
     },
     "execution_count": 17,
     "metadata": {},
     "output_type": "execute_result"
    },
    {
     "data": {
      "text/plain": "<Figure size 640x480 with 1 Axes>",
      "image/png": "[encoded data removed]"
     },
     "metadata": {},
     "output_type": "display_data"
    }
   ],
   "source": [
    "plt.imshow(X[0].T)"
   ],
   "metadata": {
    "collapsed": false
   }
  },
  {
   "cell_type": "markdown",
   "source": [
    "## CNN Architecture"
   ],
   "metadata": {
    "collapsed": false
   }
  },
  {
   "cell_type": "code",
   "execution_count": 18,
   "outputs": [],
   "source": [
    "class CNN(torch.nn.Module):\n",
    "    def __init__(self,num_channels,num_outputs):\n",
    "        super(CNN,self).__init__()\n",
    "        self.num_channels = num_channels\n",
    "        self.num_outputs = num_outputs\n",
    "\n",
    "        self.batch_norm_input = torch.nn.BatchNorm2d(3)\n",
    "\n",
    "        #Spatial/Global Pooling for input-------------------------------------------------------\n",
    "        self.spatial_avg_pool1 = torch.nn.AvgPool2d(kernel_size=24,stride=1)\n",
    "\n",
    "        # Design the base block Element---------------------------------------------------------\n",
    "        #Create an input linear layer for future combination\n",
    "        self.initial_block_linear = torch.nn.Sequential(\n",
    "            torch.nn.Linear(in_features=24300,out_features=3),\n",
    "            torch.nn.ReLU(),\n",
    "            torch.nn.Dropout(0)\n",
    "        )\n",
    "\n",
    "        self.initial_block_conv = torch.nn.Sequential(\n",
    "            torch.nn.Conv2d(num_channels,out_channels=10,kernel_size=3,stride=1,padding=1),\n",
    "            torch.nn.BatchNorm2d(10),\n",
    "            torch.nn.ReLU()\n",
    "\n",
    "        )\n",
    "\n",
    "        self.second_block_conv = torch.nn.Sequential(\n",
    "            torch.nn.Conv2d(num_channels,out_channels=10,kernel_size=4,stride=1,padding=1),\n",
    "            torch.nn.BatchNorm2d(10),\n",
    "            torch.nn.ReLU()\n",
    "        )\n",
    "\n",
    "        self.third_block_conv = torch.nn.Sequential(\n",
    "            torch.nn.Conv2d(num_channels,out_channels=10,kernel_size=5,stride=3,padding=1),\n",
    "            torch.nn.BatchNorm2d(10),\n",
    "            torch.nn.ReLU()\n",
    "        )\n",
    "\n",
    "        # Create the spatial average pooling layer for the inputs to the dense---------------------\n",
    "        self.spatial_avg_pool2 = torch.nn.AdaptiveAvgPool1d((9612))\n",
    "\n",
    "        # Create the dense,classification block----------------------------------------------------\n",
    "        # First FC linear layer\n",
    "        self.initial_fc = torch.nn.Sequential(\n",
    "            torch.nn.Linear(in_features=9612,out_features=6948),\n",
    "            torch.nn.ReLU(),\n",
    "            torch.nn.Dropout(0)\n",
    "        )\n",
    "\n",
    "        # Create the final layer leading into softmax\n",
    "        self.final_fc = torch.nn.Sequential(\n",
    "            torch.nn.Linear(in_features=6948,out_features=num_outputs),\n",
    "            torch.nn.ReLU(),\n",
    "            torch.nn.Dropout(0),\n",
    "            torch.nn.Softmax(dim=1)\n",
    "        )\n",
    "\n",
    "    def forward(self,x):\n",
    "        x = self.batch_norm_input(x)\n",
    "        # Applying average pooling to down sample the image from 32 -> 24\n",
    "        a = self.spatial_avg_pool1(x)\n",
    "\n",
    "        # First Block------------------------------------------------------\n",
    "        #Reshape the tensor to allow for matrix multiplication\n",
    "        a = torch.flatten(a)\n",
    "        a = self.initial_block_linear(a)\n",
    "\n",
    "        # Get outputs of each convolution ->RelU layer\n",
    "        o1 = self.initial_block_conv(x)\n",
    "        o2 = self.second_block_conv(x)\n",
    "        o3 = self.third_block_conv(x)\n",
    "\n",
    "        O = torch.concat((o1.view(100,-1),o2.view(100,-1),o3.view(100,-1)),dim=1)\n",
    "\n",
    "        # Prepare the outputs for the second block\n",
    "        O = torch.matmul(a,O.view(3,-1))\n",
    "\n",
    "        # Apply spatial pooling before entering the dense layer------------\n",
    "        O_bn = self.spatial_avg_pool2(O.view(100,-1))\n",
    "\n",
    "        # Move to the dense/classification block\n",
    "        output = self.initial_fc(O_bn.view(100,-1))\n",
    "\n",
    "        output = self.final_fc(output)\n",
    "\n",
    "        return output"
   ],
   "metadata": {
    "collapsed": false
   }
  },
  {
   "cell_type": "code",
   "execution_count": 19,
   "outputs": [
    {
     "name": "stdout",
     "output_type": "stream",
     "text": [
      "CNN(\n",
      "  (batch_norm_input): BatchNorm2d(3, eps=1e-05, momentum=0.1, affine=True, track_running_stats=True)\n",
      "  (spatial_avg_pool1): AvgPool2d(kernel_size=24, stride=1, padding=0)\n",
      "  (initial_block_linear): Sequential(\n",
      "    (0): Linear(in_features=24300, out_features=3, bias=True)\n",
      "    (1): ReLU()\n",
      "    (2): Dropout(p=0, inplace=False)\n",
      "  )\n",
      "  (initial_block_conv): Sequential(\n",
      "    (0): Conv2d(3, 10, kernel_size=(3, 3), stride=(1, 1), padding=(1, 1))\n",
      "    (1): BatchNorm2d(10, eps=1e-05, momentum=0.1, affine=True, track_running_stats=True)\n",
      "    (2): ReLU()\n",
      "  )\n",
      "  (second_block_conv): Sequential(\n",
      "    (0): Conv2d(3, 10, kernel_size=(4, 4), stride=(1, 1), padding=(1, 1))\n",
      "    (1): BatchNorm2d(10, eps=1e-05, momentum=0.1, affine=True, track_running_stats=True)\n",
      "    (2): ReLU()\n",
      "  )\n",
      "  (third_block_conv): Sequential(\n",
      "    (0): Conv2d(3, 10, kernel_size=(5, 5), stride=(3, 3), padding=(1, 1))\n",
      "    (1): BatchNorm2d(10, eps=1e-05, momentum=0.1, affine=True, track_running_stats=True)\n",
      "    (2): ReLU()\n",
      "  )\n",
      "  (spatial_avg_pool2): AdaptiveAvgPool1d(output_size=9612)\n",
      "  (initial_fc): Sequential(\n",
      "    (0): Linear(in_features=9612, out_features=6948, bias=True)\n",
      "    (1): ReLU()\n",
      "    (2): Dropout(p=0, inplace=False)\n",
      "  )\n",
      "  (final_fc): Sequential(\n",
      "    (0): Linear(in_features=6948, out_features=10, bias=True)\n",
      "    (1): ReLU()\n",
      "    (2): Dropout(p=0, inplace=False)\n",
      "    (3): Softmax(dim=1)\n",
      "  )\n",
      ")\n"
     ]
    }
   ],
   "source": [
    "model = CNN(num_channels=3,num_outputs=10)\n",
    "print(model)"
   ],
   "metadata": {
    "collapsed": false
   }
  },
  {
   "cell_type": "code",
   "execution_count": 20,
   "outputs": [
    {
     "data": {
      "text/plain": "torch.Size([100, 10])"
     },
     "execution_count": 20,
     "metadata": {},
     "output_type": "execute_result"
    }
   ],
   "source": [
    "model(X).size()"
   ],
   "metadata": {
    "collapsed": false
   }
  },
  {
   "cell_type": "markdown",
   "source": [
    "## Create Loss and Optimization"
   ],
   "metadata": {
    "collapsed": false
   }
  },
  {
   "cell_type": "code",
   "execution_count": 21,
   "outputs": [],
   "source": [
    "loss = torch.nn.CrossEntropyLoss()\n",
    "\n",
    "# Create the optimizer term\n",
    "optimizer = torch.optim.SGD(model.parameters(), lr=0.005,weight_decay=0.005,momentum=0.9)"
   ],
   "metadata": {
    "collapsed": false
   }
  },
  {
   "cell_type": "markdown",
   "source": [
    "## Create the metric for calculating accuracy"
   ],
   "metadata": {
    "collapsed": false
   }
  },
  {
   "cell_type": "markdown",
   "source": [
    "## ---------------------------------"
   ],
   "metadata": {
    "collapsed": false
   }
  },
  {
   "cell_type": "code",
   "execution_count": 31,
   "outputs": [],
   "source": [
    "def train_model(model,train_iter,epochs,optimizer,loss):\n",
    "    for epoch in range(epochs): # Initialize the epochs\n",
    "\n",
    "        running_loss = 0.0\n",
    "        l = []\n",
    "\n",
    "        for i,data in enumerate(train_iter,0):\n",
    "\n",
    "            X,y = data\n",
    "\n",
    "            optimizer.zero_grad()\n",
    "\n",
    "            #model.train()\n",
    "            y_hat = model(X)\n",
    "            l = loss(y_hat,y)\n",
    "            l.backward()\n",
    "            optimizer.step()\n",
    "\n",
    "            running_loss += l.item()\n",
    "            if i% 2000 ==1999: # Prints every 2000 mini-batches\n",
    "                print(f'[{epoch + 1},{i + 1:5d}] loss:{running_loss/2000:.3f}')\n",
    "                l.append(running_loss/2000)\n",
    "                running_loss = 0.0\n",
    "\n",
    "    return"
   ],
   "metadata": {
    "collapsed": false
   }
  },
  {
   "cell_type": "code",
   "execution_count": 33,
   "outputs": [
    {
     "ename": "KeyboardInterrupt",
     "evalue": "",
     "output_type": "error",
     "traceback": [
      "\u001B[1;31m---------------------------------------------------------------------------\u001B[0m",
      "\u001B[1;31mKeyboardInterrupt\u001B[0m                         Traceback (most recent call last)",
      "Cell \u001B[1;32mIn[33], line 2\u001B[0m\n\u001B[0;32m      1\u001B[0m epochs \u001B[38;5;241m=\u001B[39m \u001B[38;5;241m5\u001B[39m\n\u001B[1;32m----> 2\u001B[0m \u001B[43mtrain_model\u001B[49m\u001B[43m(\u001B[49m\u001B[43mmodel\u001B[49m\u001B[43m,\u001B[49m\u001B[43mtrain_iter\u001B[49m\u001B[43m,\u001B[49m\u001B[43mepochs\u001B[49m\u001B[43m,\u001B[49m\u001B[43moptimizer\u001B[49m\u001B[43m,\u001B[49m\u001B[43mloss\u001B[49m\u001B[43m)\u001B[49m\n",
      "Cell \u001B[1;32mIn[31], line 17\u001B[0m, in \u001B[0;36mtrain_model\u001B[1;34m(model, train_iter, epochs, optimizer, loss)\u001B[0m\n\u001B[0;32m     15\u001B[0m l \u001B[38;5;241m=\u001B[39m loss(y_hat,y)\n\u001B[0;32m     16\u001B[0m l\u001B[38;5;241m.\u001B[39mbackward()\n\u001B[1;32m---> 17\u001B[0m \u001B[43moptimizer\u001B[49m\u001B[38;5;241;43m.\u001B[39;49m\u001B[43mstep\u001B[49m\u001B[43m(\u001B[49m\u001B[43m)\u001B[49m\n\u001B[0;32m     19\u001B[0m running_loss \u001B[38;5;241m+\u001B[39m\u001B[38;5;241m=\u001B[39m l\u001B[38;5;241m.\u001B[39mitem()\n\u001B[0;32m     20\u001B[0m \u001B[38;5;28;01mif\u001B[39;00m i\u001B[38;5;241m%\u001B[39m \u001B[38;5;241m2000\u001B[39m \u001B[38;5;241m==\u001B[39m\u001B[38;5;241m1999\u001B[39m: \u001B[38;5;66;03m# Prints every 2000 mini-batches\u001B[39;00m\n",
      "File \u001B[1;32m~\\PycharmProjects\\Convolutional Neural Networks\\venv\\lib\\site-packages\\torch\\optim\\optimizer.py:280\u001B[0m, in \u001B[0;36mOptimizer.profile_hook_step.<locals>.wrapper\u001B[1;34m(*args, **kwargs)\u001B[0m\n\u001B[0;32m    276\u001B[0m         \u001B[38;5;28;01melse\u001B[39;00m:\n\u001B[0;32m    277\u001B[0m             \u001B[38;5;28;01mraise\u001B[39;00m \u001B[38;5;167;01mRuntimeError\u001B[39;00m(\u001B[38;5;124mf\u001B[39m\u001B[38;5;124m\"\u001B[39m\u001B[38;5;132;01m{\u001B[39;00mfunc\u001B[38;5;132;01m}\u001B[39;00m\u001B[38;5;124m must return None or a tuple of (new_args, new_kwargs),\u001B[39m\u001B[38;5;124m\"\u001B[39m\n\u001B[0;32m    278\u001B[0m                                \u001B[38;5;124mf\u001B[39m\u001B[38;5;124m\"\u001B[39m\u001B[38;5;124mbut got \u001B[39m\u001B[38;5;132;01m{\u001B[39;00mresult\u001B[38;5;132;01m}\u001B[39;00m\u001B[38;5;124m.\u001B[39m\u001B[38;5;124m\"\u001B[39m)\n\u001B[1;32m--> 280\u001B[0m out \u001B[38;5;241m=\u001B[39m func(\u001B[38;5;241m*\u001B[39margs, \u001B[38;5;241m*\u001B[39m\u001B[38;5;241m*\u001B[39mkwargs)\n\u001B[0;32m    281\u001B[0m \u001B[38;5;28mself\u001B[39m\u001B[38;5;241m.\u001B[39m_optimizer_step_code()\n\u001B[0;32m    283\u001B[0m \u001B[38;5;66;03m# call optimizer step post hooks\u001B[39;00m\n",
      "File \u001B[1;32m~\\PycharmProjects\\Convolutional Neural Networks\\venv\\lib\\site-packages\\torch\\optim\\optimizer.py:33\u001B[0m, in \u001B[0;36m_use_grad_for_differentiable.<locals>._use_grad\u001B[1;34m(self, *args, **kwargs)\u001B[0m\n\u001B[0;32m     31\u001B[0m \u001B[38;5;28;01mtry\u001B[39;00m:\n\u001B[0;32m     32\u001B[0m     torch\u001B[38;5;241m.\u001B[39mset_grad_enabled(\u001B[38;5;28mself\u001B[39m\u001B[38;5;241m.\u001B[39mdefaults[\u001B[38;5;124m'\u001B[39m\u001B[38;5;124mdifferentiable\u001B[39m\u001B[38;5;124m'\u001B[39m])\n\u001B[1;32m---> 33\u001B[0m     ret \u001B[38;5;241m=\u001B[39m func(\u001B[38;5;28mself\u001B[39m, \u001B[38;5;241m*\u001B[39margs, \u001B[38;5;241m*\u001B[39m\u001B[38;5;241m*\u001B[39mkwargs)\n\u001B[0;32m     34\u001B[0m \u001B[38;5;28;01mfinally\u001B[39;00m:\n\u001B[0;32m     35\u001B[0m     torch\u001B[38;5;241m.\u001B[39mset_grad_enabled(prev_grad)\n",
      "File \u001B[1;32m~\\PycharmProjects\\Convolutional Neural Networks\\venv\\lib\\site-packages\\torch\\optim\\sgd.py:76\u001B[0m, in \u001B[0;36mSGD.step\u001B[1;34m(self, closure)\u001B[0m\n\u001B[0;32m     72\u001B[0m momentum_buffer_list \u001B[38;5;241m=\u001B[39m []\n\u001B[0;32m     74\u001B[0m has_sparse_grad \u001B[38;5;241m=\u001B[39m \u001B[38;5;28mself\u001B[39m\u001B[38;5;241m.\u001B[39m_init_group(group, params_with_grad, d_p_list, momentum_buffer_list)\n\u001B[1;32m---> 76\u001B[0m \u001B[43msgd\u001B[49m\u001B[43m(\u001B[49m\u001B[43mparams_with_grad\u001B[49m\u001B[43m,\u001B[49m\n\u001B[0;32m     77\u001B[0m \u001B[43m    \u001B[49m\u001B[43md_p_list\u001B[49m\u001B[43m,\u001B[49m\n\u001B[0;32m     78\u001B[0m \u001B[43m    \u001B[49m\u001B[43mmomentum_buffer_list\u001B[49m\u001B[43m,\u001B[49m\n\u001B[0;32m     79\u001B[0m \u001B[43m    \u001B[49m\u001B[43mweight_decay\u001B[49m\u001B[38;5;241;43m=\u001B[39;49m\u001B[43mgroup\u001B[49m\u001B[43m[\u001B[49m\u001B[38;5;124;43m'\u001B[39;49m\u001B[38;5;124;43mweight_decay\u001B[39;49m\u001B[38;5;124;43m'\u001B[39;49m\u001B[43m]\u001B[49m\u001B[43m,\u001B[49m\n\u001B[0;32m     80\u001B[0m \u001B[43m    \u001B[49m\u001B[43mmomentum\u001B[49m\u001B[38;5;241;43m=\u001B[39;49m\u001B[43mgroup\u001B[49m\u001B[43m[\u001B[49m\u001B[38;5;124;43m'\u001B[39;49m\u001B[38;5;124;43mmomentum\u001B[39;49m\u001B[38;5;124;43m'\u001B[39;49m\u001B[43m]\u001B[49m\u001B[43m,\u001B[49m\n\u001B[0;32m     81\u001B[0m \u001B[43m    \u001B[49m\u001B[43mlr\u001B[49m\u001B[38;5;241;43m=\u001B[39;49m\u001B[43mgroup\u001B[49m\u001B[43m[\u001B[49m\u001B[38;5;124;43m'\u001B[39;49m\u001B[38;5;124;43mlr\u001B[39;49m\u001B[38;5;124;43m'\u001B[39;49m\u001B[43m]\u001B[49m\u001B[43m,\u001B[49m\n\u001B[0;32m     82\u001B[0m \u001B[43m    \u001B[49m\u001B[43mdampening\u001B[49m\u001B[38;5;241;43m=\u001B[39;49m\u001B[43mgroup\u001B[49m\u001B[43m[\u001B[49m\u001B[38;5;124;43m'\u001B[39;49m\u001B[38;5;124;43mdampening\u001B[39;49m\u001B[38;5;124;43m'\u001B[39;49m\u001B[43m]\u001B[49m\u001B[43m,\u001B[49m\n\u001B[0;32m     83\u001B[0m \u001B[43m    \u001B[49m\u001B[43mnesterov\u001B[49m\u001B[38;5;241;43m=\u001B[39;49m\u001B[43mgroup\u001B[49m\u001B[43m[\u001B[49m\u001B[38;5;124;43m'\u001B[39;49m\u001B[38;5;124;43mnesterov\u001B[39;49m\u001B[38;5;124;43m'\u001B[39;49m\u001B[43m]\u001B[49m\u001B[43m,\u001B[49m\n\u001B[0;32m     84\u001B[0m \u001B[43m    \u001B[49m\u001B[43mmaximize\u001B[49m\u001B[38;5;241;43m=\u001B[39;49m\u001B[43mgroup\u001B[49m\u001B[43m[\u001B[49m\u001B[38;5;124;43m'\u001B[39;49m\u001B[38;5;124;43mmaximize\u001B[39;49m\u001B[38;5;124;43m'\u001B[39;49m\u001B[43m]\u001B[49m\u001B[43m,\u001B[49m\n\u001B[0;32m     85\u001B[0m \u001B[43m    \u001B[49m\u001B[43mhas_sparse_grad\u001B[49m\u001B[38;5;241;43m=\u001B[39;49m\u001B[43mhas_sparse_grad\u001B[49m\u001B[43m,\u001B[49m\n\u001B[0;32m     86\u001B[0m \u001B[43m    \u001B[49m\u001B[43mforeach\u001B[49m\u001B[38;5;241;43m=\u001B[39;49m\u001B[43mgroup\u001B[49m\u001B[43m[\u001B[49m\u001B[38;5;124;43m'\u001B[39;49m\u001B[38;5;124;43mforeach\u001B[39;49m\u001B[38;5;124;43m'\u001B[39;49m\u001B[43m]\u001B[49m\u001B[43m)\u001B[49m\n\u001B[0;32m     88\u001B[0m \u001B[38;5;66;03m# update momentum_buffers in state\u001B[39;00m\n\u001B[0;32m     89\u001B[0m \u001B[38;5;28;01mfor\u001B[39;00m p, momentum_buffer \u001B[38;5;129;01min\u001B[39;00m \u001B[38;5;28mzip\u001B[39m(params_with_grad, momentum_buffer_list):\n",
      "File \u001B[1;32m~\\PycharmProjects\\Convolutional Neural Networks\\venv\\lib\\site-packages\\torch\\optim\\sgd.py:222\u001B[0m, in \u001B[0;36msgd\u001B[1;34m(params, d_p_list, momentum_buffer_list, has_sparse_grad, foreach, weight_decay, momentum, lr, dampening, nesterov, maximize)\u001B[0m\n\u001B[0;32m    219\u001B[0m \u001B[38;5;28;01melse\u001B[39;00m:\n\u001B[0;32m    220\u001B[0m     func \u001B[38;5;241m=\u001B[39m _single_tensor_sgd\n\u001B[1;32m--> 222\u001B[0m \u001B[43mfunc\u001B[49m\u001B[43m(\u001B[49m\u001B[43mparams\u001B[49m\u001B[43m,\u001B[49m\n\u001B[0;32m    223\u001B[0m \u001B[43m     \u001B[49m\u001B[43md_p_list\u001B[49m\u001B[43m,\u001B[49m\n\u001B[0;32m    224\u001B[0m \u001B[43m     \u001B[49m\u001B[43mmomentum_buffer_list\u001B[49m\u001B[43m,\u001B[49m\n\u001B[0;32m    225\u001B[0m \u001B[43m     \u001B[49m\u001B[43mweight_decay\u001B[49m\u001B[38;5;241;43m=\u001B[39;49m\u001B[43mweight_decay\u001B[49m\u001B[43m,\u001B[49m\n\u001B[0;32m    226\u001B[0m \u001B[43m     \u001B[49m\u001B[43mmomentum\u001B[49m\u001B[38;5;241;43m=\u001B[39;49m\u001B[43mmomentum\u001B[49m\u001B[43m,\u001B[49m\n\u001B[0;32m    227\u001B[0m \u001B[43m     \u001B[49m\u001B[43mlr\u001B[49m\u001B[38;5;241;43m=\u001B[39;49m\u001B[43mlr\u001B[49m\u001B[43m,\u001B[49m\n\u001B[0;32m    228\u001B[0m \u001B[43m     \u001B[49m\u001B[43mdampening\u001B[49m\u001B[38;5;241;43m=\u001B[39;49m\u001B[43mdampening\u001B[49m\u001B[43m,\u001B[49m\n\u001B[0;32m    229\u001B[0m \u001B[43m     \u001B[49m\u001B[43mnesterov\u001B[49m\u001B[38;5;241;43m=\u001B[39;49m\u001B[43mnesterov\u001B[49m\u001B[43m,\u001B[49m\n\u001B[0;32m    230\u001B[0m \u001B[43m     \u001B[49m\u001B[43mhas_sparse_grad\u001B[49m\u001B[38;5;241;43m=\u001B[39;49m\u001B[43mhas_sparse_grad\u001B[49m\u001B[43m,\u001B[49m\n\u001B[0;32m    231\u001B[0m \u001B[43m     \u001B[49m\u001B[43mmaximize\u001B[49m\u001B[38;5;241;43m=\u001B[39;49m\u001B[43mmaximize\u001B[49m\u001B[43m)\u001B[49m\n",
      "File \u001B[1;32m~\\PycharmProjects\\Convolutional Neural Networks\\venv\\lib\\site-packages\\torch\\optim\\sgd.py:249\u001B[0m, in \u001B[0;36m_single_tensor_sgd\u001B[1;34m(params, d_p_list, momentum_buffer_list, weight_decay, momentum, lr, dampening, nesterov, maximize, has_sparse_grad)\u001B[0m\n\u001B[0;32m    246\u001B[0m d_p \u001B[38;5;241m=\u001B[39m d_p_list[i] \u001B[38;5;28;01mif\u001B[39;00m \u001B[38;5;129;01mnot\u001B[39;00m maximize \u001B[38;5;28;01melse\u001B[39;00m \u001B[38;5;241m-\u001B[39md_p_list[i]\n\u001B[0;32m    248\u001B[0m \u001B[38;5;28;01mif\u001B[39;00m weight_decay \u001B[38;5;241m!=\u001B[39m \u001B[38;5;241m0\u001B[39m:\n\u001B[1;32m--> 249\u001B[0m     d_p \u001B[38;5;241m=\u001B[39m \u001B[43md_p\u001B[49m\u001B[38;5;241;43m.\u001B[39;49m\u001B[43madd\u001B[49m\u001B[43m(\u001B[49m\u001B[43mparam\u001B[49m\u001B[43m,\u001B[49m\u001B[43m \u001B[49m\u001B[43malpha\u001B[49m\u001B[38;5;241;43m=\u001B[39;49m\u001B[43mweight_decay\u001B[49m\u001B[43m)\u001B[49m\n\u001B[0;32m    251\u001B[0m \u001B[38;5;28;01mif\u001B[39;00m momentum \u001B[38;5;241m!=\u001B[39m \u001B[38;5;241m0\u001B[39m:\n\u001B[0;32m    252\u001B[0m     buf \u001B[38;5;241m=\u001B[39m momentum_buffer_list[i]\n",
      "\u001B[1;31mKeyboardInterrupt\u001B[0m: "
     ]
    }
   ],
   "source": [
    "epochs = 5\n",
    "train_model(model,train_iter,epochs,optimizer,loss)"
   ],
   "metadata": {
    "collapsed": false
   }
  },
  {
   "cell_type": "code",
   "execution_count": 35,
   "outputs": [],
   "source": [
    "def test_model(model,test_iter):\n",
    "    correct = 0\n",
    "    total = 0\n",
    "\n",
    "    with torch.no_grad():\n",
    "        for data in test_iter:\n",
    "            X_test,y_test = data\n",
    "\n",
    "            y_hat = model(X_test)\n",
    "\n",
    "            _, predicted = torch.max(y_hat.data,1)\n",
    "            total += y_test.size(0)\n",
    "            correct += (predicted == y_test).sum().item()\n",
    "\n",
    "    print(f'Accuracy of the network on the test images is : {100 * correct // total} percent')\n",
    "\n",
    "    return"
   ],
   "metadata": {
    "collapsed": false
   }
  },
  {
   "cell_type": "code",
   "execution_count": 36,
   "outputs": [
    {
     "name": "stdout",
     "output_type": "stream",
     "text": [
      "Accuracy of the network on the test images is : 10\n"
     ]
    }
   ],
   "source": [
    "test_model(model,test_iter)"
   ],
   "metadata": {
    "collapsed": false
   }
  }
 ],
 "metadata": {
  "kernelspec": {
   "display_name": "Python 3",
   "language": "python",
   "name": "python3"
  },
  "language_info": {
   "codemirror_mode": {
    "name": "ipython",
    "version": 2
   },
   "file_extension": ".py",
   "mimetype": "text/x-python",
   "name": "python",
   "nbconvert_exporter": "python",
   "pygments_lexer": "ipython2",
   "version": "2.7.6"
  }
 },
 "nbformat": 4,
 "nbformat_minor": 0
}
