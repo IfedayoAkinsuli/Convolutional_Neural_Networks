{
 "cells": [
  {
   "cell_type": "markdown",
   "source": [
    "# Assignment"
   ],
   "metadata": {
    "collapsed": false
   }
  },
  {
   "cell_type": "markdown",
   "source": [
    "## Importing Libraries"
   ],
   "metadata": {
    "collapsed": false
   }
  },
  {
   "cell_type": "code",
   "execution_count": 1,
   "metadata": {
    "collapsed": true
   },
   "outputs": [],
   "source": [
    "import numpy as np\n",
    "import torch\n",
    "import torchvision\n",
    "import torchvision.datasets as datasets\n",
    "import matplotlib.pyplot as plt\n",
    "import seaborn as sns"
   ]
  },
  {
   "cell_type": "markdown",
   "source": [
    "## Loading the Datasets"
   ],
   "metadata": {
    "collapsed": false
   }
  },
  {
   "cell_type": "code",
   "execution_count": 2,
   "outputs": [
    {
     "name": "stdout",
     "output_type": "stream",
     "text": [
      "Files already downloaded and verified\n",
      "Files already downloaded and verified\n"
     ]
    }
   ],
   "source": [
    "cifar_dataset_train = datasets.CIFAR10(root='./data',train=True,download=True,transform=torchvision.transforms.ToTensor())\n",
    "\n",
    "cifar_dataset_test = datasets.CIFAR10(root='./data',train=False,download=True,transform=torchvision.transforms.ToTensor())"
   ],
   "metadata": {
    "collapsed": false
   }
  },
  {
   "cell_type": "markdown",
   "source": [
    "## Creating the training dataset"
   ],
   "metadata": {
    "collapsed": false
   }
  },
  {
   "cell_type": "code",
   "execution_count": 3,
   "outputs": [],
   "source": [
    "from torch.utils.data import DataLoader\n",
    "batch_size = 100\n",
    "\n",
    "train_iter = DataLoader(cifar_dataset_train,batch_size,shuffle=True)"
   ],
   "metadata": {
    "collapsed": false
   }
  },
  {
   "cell_type": "code",
   "execution_count": 4,
   "outputs": [],
   "source": [
    "X,y = next(iter(train_iter))"
   ],
   "metadata": {
    "collapsed": false
   }
  },
  {
   "cell_type": "markdown",
   "source": [
    "## Creating the test dataset"
   ],
   "metadata": {
    "collapsed": false
   }
  },
  {
   "cell_type": "code",
   "execution_count": 5,
   "outputs": [],
   "source": [
    "test_iter = DataLoader(cifar_dataset_test,batch_size,shuffle=True)"
   ],
   "metadata": {
    "collapsed": false
   }
  },
  {
   "cell_type": "code",
   "execution_count": 6,
   "outputs": [],
   "source": [
    "X_test,y_test = next(iter(test_iter))"
   ],
   "metadata": {
    "collapsed": false
   }
  },
  {
   "cell_type": "markdown",
   "source": [
    "## Analysing the CIFAR-10 data"
   ],
   "metadata": {
    "collapsed": false
   }
  },
  {
   "cell_type": "code",
   "execution_count": 7,
   "outputs": [
    {
     "name": "stdout",
     "output_type": "stream",
     "text": [
      "The dimensions of each input image is torch.Size([100, 3, 32, 32]) The number of input channels is 3\n",
      "The output labels are as follows tensor([6, 0, 4, 6, 2, 8, 9, 2, 0, 7, 3, 7, 5, 8, 0, 7, 6, 8, 3, 2, 7, 2, 7, 0,\n",
      "        2, 7, 5, 1, 1, 6, 1, 3, 9, 7, 4, 0, 2, 3, 2, 2, 9, 7, 4, 7, 5, 1, 8, 4,\n",
      "        6, 2, 0, 9, 9, 2, 0, 5, 0, 6, 2, 0, 8, 5, 8, 1, 8, 0, 0, 8, 7, 7, 1, 9,\n",
      "        9, 6, 6, 6, 9, 2, 3, 5, 0, 7, 0, 1, 5, 5, 5, 8, 9, 6, 0, 5, 1, 7, 5, 4,\n",
      "        5, 5, 4, 5])\n"
     ]
    }
   ],
   "source": [
    "print(f'The dimensions of each input image is {X.size()} The number of input channels is {X.size()[1]}')\n",
    "print(f'The output labels are as follows {y}')"
   ],
   "metadata": {
    "collapsed": false
   }
  },
  {
   "cell_type": "markdown",
   "source": [
    "## Example image"
   ],
   "metadata": {
    "collapsed": false
   }
  },
  {
   "cell_type": "code",
   "execution_count": 8,
   "outputs": [
    {
     "name": "stderr",
     "output_type": "stream",
     "text": [
      "C:\\Users\\ifeda\\AppData\\Local\\Temp\\ipykernel_20712\\591414796.py:1: UserWarning: The use of `x.T` on tensors of dimension other than 2 to reverse their shape is deprecated and it will throw an error in a future release. Consider `x.mT` to transpose batches of matrices or `x.permute(*torch.arange(x.ndim - 1, -1, -1))` to reverse the dimensions of a tensor. (Triggered internally at ..\\aten\\src\\ATen\\native\\TensorShape.cpp:3575.)\n",
      "  plt.imshow(X[1].T)\n"
     ]
    },
    {
     "data": {
      "text/plain": "<matplotlib.image.AxesImage at 0x19024570430>"
     },
     "execution_count": 8,
     "metadata": {},
     "output_type": "execute_result"
    },
    {
     "data": {
      "text/plain": "<Figure size 640x480 with 1 Axes>",
      "image/png": "[encoded data removed]"
     },
     "metadata": {},
     "output_type": "display_data"
    }
   ],
   "source": [
    "plt.imshow(X[1].T)"
   ],
   "metadata": {
    "collapsed": false
   }
  },
  {
   "cell_type": "markdown",
   "source": [
    "## CNN Architecture"
   ],
   "metadata": {
    "collapsed": false
   }
  },
  {
   "cell_type": "code",
   "execution_count": 316,
   "outputs": [],
   "source": [
    "class CNN(torch.nn.Module):\n",
    "    def __init__(self,num_channels,num_outputs):\n",
    "        super(CNN,self).__init__()\n",
    "        self.num_channels = num_channels\n",
    "        self.num_outputs = num_outputs\n",
    "\n",
    "        #Spatial/Global Pooling for input-------------------------------------------------------\n",
    "        self.spatial_avg_pool1 = torch.nn.AdaptiveAvgPool2d((24,24))\n",
    "\n",
    "        # Design the base block Element---------------------------------------------------------\n",
    "        #Create an input linear layer for future combination\n",
    "\n",
    "        self.linear1 = torch.nn.Linear(in_features=1728,out_features=1)\n",
    "        self.relu1 = torch.nn.ReLU()\n",
    "\n",
    "        self.conv1 = torch.nn.Conv2d(num_channels,out_channels=96,kernel_size=11,stride=4)\n",
    "\n",
    "        # Design the second block element---------------------------------------------------------\n",
    "\n",
    "        self.linear2 = torch.nn.Linear(in_features=345600,out_features=1)\n",
    "        self.relu2 = torch.nn.ReLU()\n",
    "\n",
    "        self.conv2 = torch.nn.Conv2d(in_channels=1350,out_channels=384,kernel_size=5,stride=4)\n",
    "\n",
    "        # Design the Third block element---------------------------------------------------------\n",
    "\n",
    "        self.linear3 = torch.nn.Linear(in_features=345600,out_features=1)\n",
    "        self.relu3 = torch.nn.ReLU()\n",
    "\n",
    "        self.conv3 = torch.nn.Conv2d(in_channels=5400,out_channels=584,kernel_size=3,stride=4)\n",
    "\n",
    "        # Design the Third block element---------------------------------------------------------\n",
    "\n",
    "        self.linear4 = torch.nn.Linear(in_features=233600,out_features=1)\n",
    "        self.relu4 = torch.nn.ReLU()\n",
    "\n",
    "        self.conv4 = torch.nn.Conv2d(in_channels=14600,out_channels=584,kernel_size=3,stride=4)\n",
    "\n",
    "        # Create the spatial average pooling layer for the inputs to the dense---------------------\n",
    "        self.spatial_avg_pool2 = torch.nn.AdaptiveAvgPool1d(4096)\n",
    "\n",
    "        # Create the dense,classification block----------------------------------------------------\n",
    "        # First FC linear layer\n",
    "        self.linear5 = torch.nn.Linear(in_features=4096,out_features=num_outputs)\n",
    "        self.relu6 = torch.nn.ReLU()\n",
    "\n",
    "        # Softmax application to get probabilities of classes\n",
    "        self.softmax = torch.nn.Softmax(dim=1)\n",
    "\n",
    "        # #Initialize the weights and the bias for the linear layer\n",
    "        # # First blocks linear layer\n",
    "        # torch.nn.init.kaiming_normal_(self.linear1.weight,nonlinearity='relu')\n",
    "        # torch.nn.init.zeros_(self.linear1.bias)\n",
    "        #\n",
    "        # torch.nn.init.xavier_uniform_(self.conv1.weight)\n",
    "        #\n",
    "        # #Final linear layer\n",
    "        # torch.nn.init.kaiming_normal_(self.linear3.weight,nonlinearity='relu')\n",
    "        # torch.nn.init.zeros_(self.linear2.bias)\n",
    "\n",
    "        #Define the proportion of neurons to dropout\n",
    "        self.dropout = torch.nn.Dropout(0.3)\n",
    "\n",
    "    def forward(self,x):\n",
    "        # Applying average pooling to downsample the image from 32 -> 24\n",
    "        a = self.spatial_avg_pool1(x)\n",
    "\n",
    "        # First Block------------------------------------------------------\n",
    "        #Reshape the tensor to allow for matrix multiplication\n",
    "        a = a.view(a.size(0),-1)\n",
    "\n",
    "        a = self.linear1(a)\n",
    "        a = self.dropout(a)\n",
    "        a = self.relu1(a)\n",
    "\n",
    "        # Get outputs of each convolution ->RelU layer\n",
    "        o1 = self.conv1(x)\n",
    "\n",
    "        # Prepare the outputs for the second block\n",
    "        O = torch.matmul(a,o1.view(1,-1))\n",
    "\n",
    "        # Second Block--------------------------------------------------------\n",
    "        a2 = O.view(O.size(0),-1)\n",
    "\n",
    "        a2 = self.linear2(a2)\n",
    "        a2 = self.dropout(a2)\n",
    "        a2 = self.relu2(a2)\n",
    "\n",
    "        o2 = self.conv2(O.view(O.size(0),-1,16,16))\n",
    "\n",
    "        O = torch.matmul(a2,o2.view(1,-1))\n",
    "\n",
    "        # --------------------------------------------------------------------\n",
    "        # Third Block--------------------------------------------------------\n",
    "        a3 = O.view(O.size(0),-1)\n",
    "\n",
    "        a3 = self.linear3(a3)\n",
    "        a3 = self.dropout(a3)\n",
    "        a3 = self.relu3(a3)\n",
    "\n",
    "        o3 = self.conv3(O.view(O.size(0),-1,8,8))\n",
    "\n",
    "        O = torch.matmul(a3,o3.view(1,-1))\n",
    "\n",
    "        # --------------------------------------------------------------------\n",
    "        # Third Block--------------------------------------------------------\n",
    "        a4 = O.view(O.size(0),-1)\n",
    "\n",
    "        a4 = self.linear4(a4)\n",
    "        a4 = self.dropout(a4)\n",
    "        a4 = self.relu4(a4)\n",
    "\n",
    "        o4 = self.conv4(O.view(O.size(0),-1,4,4))\n",
    "\n",
    "        O = torch.matmul(a4,o4.view(1,-1))\n",
    "\n",
    "        # --------------------------------------------------------------------\n",
    "\n",
    "        # Apply spatial pooling before entering the dense layer------------\n",
    "        O_bn = self.spatial_avg_pool2(O.view(100,-1))\n",
    "\n",
    "        # Move to the dense/classification block\n",
    "        output = self.linear5(O_bn.view(100,-1))\n",
    "        output = self.dropout(output)\n",
    "        output = self.relu6(output)\n",
    "\n",
    "        output = self.softmax(output)\n",
    "\n",
    "        return O"
   ],
   "metadata": {
    "collapsed": false
   }
  },
  {
   "cell_type": "code",
   "execution_count": 317,
   "outputs": [
    {
     "name": "stdout",
     "output_type": "stream",
     "text": [
      "CNN(\n",
      "  (spatial_avg_pool1): AdaptiveAvgPool2d(output_size=(24, 24))\n",
      "  (linear1): Linear(in_features=1728, out_features=1, bias=True)\n",
      "  (relu1): ReLU()\n",
      "  (conv1): Conv2d(3, 96, kernel_size=(11, 11), stride=(4, 4))\n",
      "  (linear2): Linear(in_features=345600, out_features=1, bias=True)\n",
      "  (relu2): ReLU()\n",
      "  (conv2): Conv2d(1350, 384, kernel_size=(5, 5), stride=(4, 4))\n",
      "  (linear3): Linear(in_features=345600, out_features=1, bias=True)\n",
      "  (relu3): ReLU()\n",
      "  (conv3): Conv2d(5400, 584, kernel_size=(3, 3), stride=(4, 4))\n",
      "  (linear4): Linear(in_features=233600, out_features=1, bias=True)\n",
      "  (relu4): ReLU()\n",
      "  (conv4): Conv2d(14600, 584, kernel_size=(3, 3), stride=(4, 4))\n",
      "  (spatial_avg_pool2): AdaptiveAvgPool1d(output_size=4096)\n",
      "  (linear5): Linear(in_features=4096, out_features=10, bias=True)\n",
      "  (relu6): ReLU()\n",
      "  (softmax): Softmax(dim=1)\n",
      "  (dropout): Dropout(p=0.3, inplace=False)\n",
      ")\n"
     ]
    }
   ],
   "source": [
    "model = CNN(num_channels=3,num_outputs=10)\n",
    "print(model)"
   ],
   "metadata": {
    "collapsed": false
   }
  },
  {
   "cell_type": "code",
   "execution_count": 318,
   "outputs": [
    {
     "data": {
      "text/plain": "torch.Size([100, 58400])"
     },
     "execution_count": 318,
     "metadata": {},
     "output_type": "execute_result"
    }
   ],
   "source": [
    "model(X).size()"
   ],
   "metadata": {
    "collapsed": false
   }
  },
  {
   "cell_type": "markdown",
   "source": [
    "## Create the metric for calculating accuracy"
   ],
   "metadata": {
    "collapsed": false
   }
  },
  {
   "cell_type": "code",
   "execution_count": 319,
   "outputs": [],
   "source": [
    "def accuracy(y_hat,y):\n",
    "    if len(y_hat.shape) > 1 and y_hat.shape[1] > 1:\n",
    "        y_hat = y_hat.argmax(axis=1)\n",
    "        cmp = (y_hat.type(y.dtype) == y)\n",
    "        return float(torch.sum(cmp))"
   ],
   "metadata": {
    "collapsed": false
   }
  },
  {
   "cell_type": "markdown",
   "source": [
    "## Create the model training system"
   ],
   "metadata": {
    "collapsed": false
   }
  },
  {
   "cell_type": "code",
   "execution_count": 323,
   "outputs": [],
   "source": [
    "def train_model(model,X,y,X_test,y_test,accuracy,epochs):\n",
    "\n",
    "    # Create the loss component\n",
    "    loss = torch.nn.CrossEntropyLoss()\n",
    "\n",
    "    # Create the optimizer term\n",
    "    optimizer = torch.optim.Adam(model.parameters(), lr=0.001)\n",
    "\n",
    "    score_train = []\n",
    "    score_test = []\n",
    "\n",
    "    for epoch in range(epochs):\n",
    "        model.train()\n",
    "        y_hat = model(X)\n",
    "        l = loss(y_hat,y)\n",
    "\n",
    "        optimizer.zero_grad()\n",
    "\n",
    "        l.backward()\n",
    "        optimizer.step()\n",
    "\n",
    "        # Training Accuracy\n",
    "        score_train.append(accuracy(model(X),y)/len(y))\n",
    "\n",
    "        # # Test Accuracy\n",
    "        # torch.no_grad()\n",
    "        # model.eval()\n",
    "        # score_test.append(accuracy(model(X_test),y_test)/len(y_test))\n",
    "\n",
    "    return score_train"
   ],
   "metadata": {
    "collapsed": false
   }
  },
  {
   "cell_type": "code",
   "execution_count": 324,
   "outputs": [],
   "source": [
    "epochs = 10\n",
    "s1 = train_model(model,X,y,X_test,y_test,accuracy,epochs)"
   ],
   "metadata": {
    "collapsed": false
   }
  },
  {
   "cell_type": "code",
   "execution_count": 325,
   "outputs": [
    {
     "data": {
      "text/plain": "[0.14, 0.14, 0.14, 0.14, 0.14, 0.14, 0.14, 0.14, 0.14, 0.14]"
     },
     "execution_count": 325,
     "metadata": {},
     "output_type": "execute_result"
    }
   ],
   "source": [
    "s1"
   ],
   "metadata": {
    "collapsed": false
   }
  },
  {
   "cell_type": "code",
   "execution_count": 294,
   "outputs": [
    {
     "data": {
      "text/plain": "Text(0, 0.5, 'Accuracy')"
     },
     "execution_count": 294,
     "metadata": {},
     "output_type": "execute_result"
    },
    {
     "data": {
      "text/plain": "<Figure size 640x480 with 1 Axes>",
      "image/png": "[encoded data removed]"
     },
     "metadata": {},
     "output_type": "display_data"
    }
   ],
   "source": [
    "sns.lineplot(x=range(epochs),y=s1,label='training accuracy')\n",
    "#sns.lineplot(x=epochs,y=s2,label='test accuracy')\n",
    "plt.xlabel('Epochs')\n",
    "plt.ylabel('Accuracy')"
   ],
   "metadata": {
    "collapsed": false
   }
  },
  {
   "cell_type": "code",
   "execution_count": 16,
   "outputs": [],
   "source": [],
   "metadata": {
    "collapsed": false
   }
  }
 ],
 "metadata": {
  "kernelspec": {
   "display_name": "Python 3",
   "language": "python",
   "name": "python3"
  },
  "language_info": {
   "codemirror_mode": {
    "name": "ipython",
    "version": 2
   },
   "file_extension": ".py",
   "mimetype": "text/x-python",
   "name": "python",
   "nbconvert_exporter": "python",
   "pygments_lexer": "ipython2",
   "version": "2.7.6"
  }
 },
 "nbformat": 4,
 "nbformat_minor": 0
}
