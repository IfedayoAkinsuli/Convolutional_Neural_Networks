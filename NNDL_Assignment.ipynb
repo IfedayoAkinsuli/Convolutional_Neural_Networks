{
 "cells": [
  {
   "cell_type": "markdown",
   "source": [
    "# Assignment"
   ],
   "metadata": {
    "collapsed": false
   }
  },
  {
   "cell_type": "markdown",
   "source": [
    "## Importing Libraries"
   ],
   "metadata": {
    "collapsed": false
   }
  },
  {
   "cell_type": "code",
   "execution_count": 1,
   "metadata": {
    "collapsed": true
   },
   "outputs": [],
   "source": [
    "import numpy as np\n",
    "import torch\n",
    "import torchvision\n",
    "import torchvision.datasets as datasets\n",
    "import matplotlib.pyplot as plt\n",
    "import seaborn as sns"
   ]
  },
  {
   "cell_type": "markdown",
   "source": [
    "## Loading the Datasets"
   ],
   "metadata": {
    "collapsed": false
   }
  },
  {
   "cell_type": "code",
   "execution_count": 2,
   "outputs": [
    {
     "name": "stdout",
     "output_type": "stream",
     "text": [
      "Files already downloaded and verified\n",
      "Files already downloaded and verified\n"
     ]
    }
   ],
   "source": [
    "cifar_dataset_train = datasets.CIFAR10(root='./data',train=True,download=True,transform=torchvision.transforms.ToTensor())\n",
    "\n",
    "cifar_dataset_test = datasets.CIFAR10(root='./data',train=False,download=True,transform=torchvision.transforms.ToTensor())"
   ],
   "metadata": {
    "collapsed": false
   }
  },
  {
   "cell_type": "markdown",
   "source": [
    "## Creating the training dataset"
   ],
   "metadata": {
    "collapsed": false
   }
  },
  {
   "cell_type": "code",
   "execution_count": 3,
   "outputs": [],
   "source": [
    "from torch.utils.data import DataLoader\n",
    "batch_size = 256\n",
    "\n",
    "train_iter = DataLoader(cifar_dataset_train,batch_size,shuffle=True)"
   ],
   "metadata": {
    "collapsed": false
   }
  },
  {
   "cell_type": "code",
   "execution_count": 4,
   "outputs": [],
   "source": [
    "X,y = next(iter(train_iter))"
   ],
   "metadata": {
    "collapsed": false
   }
  },
  {
   "cell_type": "markdown",
   "source": [
    "## Creating the test dataset"
   ],
   "metadata": {
    "collapsed": false
   }
  },
  {
   "cell_type": "code",
   "execution_count": 5,
   "outputs": [],
   "source": [
    "test_iter = DataLoader(cifar_dataset_test,batch_size,shuffle=True)"
   ],
   "metadata": {
    "collapsed": false
   }
  },
  {
   "cell_type": "code",
   "execution_count": 6,
   "outputs": [],
   "source": [
    "X_test,y_test = next(iter(test_iter))"
   ],
   "metadata": {
    "collapsed": false
   }
  },
  {
   "cell_type": "markdown",
   "source": [
    "## Analysing the CIFAR-10 data"
   ],
   "metadata": {
    "collapsed": false
   }
  },
  {
   "cell_type": "code",
   "execution_count": 7,
   "outputs": [
    {
     "name": "stdout",
     "output_type": "stream",
     "text": [
      "The dimensions of each input image is torch.Size([256, 3, 32, 32]) The number of input channels is 3\n",
      "The output labels are as follows tensor([4, 5, 6, 1, 9, 7, 0, 7, 8, 7, 6, 1, 1, 2, 3, 9, 7, 1, 0, 1, 8, 5, 5, 8,\n",
      "        8, 4, 0, 4, 7, 3, 1, 5, 9, 7, 6, 5, 5, 4, 5, 0, 1, 7, 9, 4, 9, 2, 1, 0,\n",
      "        9, 9, 3, 3, 1, 1, 3, 6, 5, 1, 0, 9, 7, 5, 6, 3, 0, 8, 4, 7, 4, 7, 4, 0,\n",
      "        3, 0, 3, 6, 9, 8, 5, 7, 1, 5, 1, 0, 1, 5, 1, 0, 9, 0, 8, 6, 9, 8, 4, 9,\n",
      "        6, 7, 6, 5, 0, 9, 6, 8, 1, 9, 9, 1, 2, 0, 9, 9, 8, 7, 0, 8, 9, 9, 8, 2,\n",
      "        6, 9, 1, 4, 6, 6, 9, 0, 0, 4, 7, 7, 8, 5, 6, 3, 1, 6, 7, 4, 1, 6, 3, 8,\n",
      "        2, 1, 0, 8, 0, 0, 7, 4, 8, 1, 1, 3, 6, 5, 6, 0, 3, 6, 5, 9, 8, 7, 2, 5,\n",
      "        3, 5, 4, 8, 7, 0, 8, 9, 7, 1, 2, 9, 6, 8, 9, 1, 6, 4, 2, 3, 8, 9, 8, 9,\n",
      "        2, 4, 6, 2, 6, 9, 5, 2, 4, 2, 8, 9, 5, 7, 1, 0, 8, 5, 2, 9, 4, 9, 9, 8,\n",
      "        4, 5, 9, 5, 2, 7, 8, 3, 6, 4, 3, 9, 2, 9, 0, 5, 2, 9, 5, 6, 4, 3, 9, 2,\n",
      "        2, 9, 5, 2, 4, 5, 5, 9, 7, 2, 6, 4, 1, 2, 2, 5])\n"
     ]
    }
   ],
   "source": [
    "print(f'The dimensions of each input image is {X.size()} The number of input channels is {X.size()[1]}')\n",
    "print(f'The output labels are as follows {y}')"
   ],
   "metadata": {
    "collapsed": false
   }
  },
  {
   "cell_type": "markdown",
   "source": [
    "## Example image"
   ],
   "metadata": {
    "collapsed": false
   }
  },
  {
   "cell_type": "code",
   "execution_count": 44,
   "outputs": [
    {
     "data": {
      "text/plain": "<matplotlib.image.AxesImage at 0x1f843c5b850>"
     },
     "execution_count": 44,
     "metadata": {},
     "output_type": "execute_result"
    },
    {
     "data": {
      "text/plain": "<Figure size 640x480 with 1 Axes>",
      "image/png": "[encoded data removed]"
     },
     "metadata": {},
     "output_type": "display_data"
    }
   ],
   "source": [
    "plt.imshow(X[1].T)"
   ],
   "metadata": {
    "collapsed": false
   }
  },
  {
   "cell_type": "markdown",
   "source": [
    "## CNN Architecture\n",
    "\n",
    "- The output features for the basic linear layer has match the number of convolutions\n",
    "- check if the input to the convolution should be in one or 2 dimensions"
   ],
   "metadata": {
    "collapsed": false
   }
  },
  {
   "cell_type": "code",
   "execution_count": 63,
   "outputs": [],
   "source": [
    "class CNN(torch.nn.Module):\n",
    "    def __init__(self,num_channels,num_outputs):\n",
    "        super(CNN,self).__init__()\n",
    "        self.num_channels = num_channels\n",
    "        self.num_outputs = num_outputs\n",
    "\n",
    "        #Spatial/Global Pooling for input\n",
    "        self.spatial_avg_pool = torch.nn.AdaptiveAvgPool2d((24,24))\n",
    "\n",
    "        # Design the base block Element\n",
    "        # Create an input linear layer for future combination\n",
    "        self.linear1 = torch.nn.Linear(in_features=1728,out_features=2)\n",
    "        self.relu1 = torch.nn.ReLU()\n",
    "\n",
    "        self.conv1 = torch.nn.Conv2d(num_channels,out_channels=4,kernel_size=5,stride=1,padding=1)\n",
    "        self.relu2 = torch.nn.ReLU()\n",
    "\n",
    "        self.conv2 = torch.nn.Conv2d(num_channels,out_channels=6,kernel_size=5,stride=1,padding=1)\n",
    "        self.relu3 = torch.nn.ReLU()\n",
    "\n",
    "        #Create the dense,classification block creating a FC linear layer to the output\n",
    "        self.linear2 = torch.nn.Linear(in_features=1152000,out_features=num_outputs)\n",
    "        self.relu4 = torch.nn.ReLU()\n",
    "        self.softmax = torch.nn.Softmax(dim=1)\n",
    "\n",
    "        #Define the proportion of neurons to dropout\n",
    "        self.dropout = torch.nn.Dropout(0.25)\n",
    "\n",
    "    def forward(self,x):\n",
    "        # Applying average pooling to downsample the image from 32 ->12\n",
    "        a = self.spatial_avg_pool(x)\n",
    "\n",
    "        #Reshape the tensor to allow for matrix multiplication\n",
    "        a = a.view(a.size(0),-1)\n",
    "\n",
    "        a = self.linear1(a)\n",
    "        a = self.dropout(a)\n",
    "        a = self.relu1(a)\n",
    "\n",
    "        # Get outputs of each convolution ->RelU layer\n",
    "        o1 = self.conv1(x)\n",
    "        o1 = self.relu2(o1)\n",
    "\n",
    "        o2 = self.conv2(x)\n",
    "        o2 = self.relu3(o2)\n",
    "\n",
    "        # Combine the output of each convolutional layer\n",
    "        O = torch.cat([o1,o2],dim=1)\n",
    "\n",
    "        # Multiply the matrices to get the output in the correct form\n",
    "        O_b1 = torch.matmul(O.view(-1,2),a.T) #Output of block 1\n",
    "\n",
    "        # Move to the dense/classification block\n",
    "        output = self.linear2(O_b1.view(256,-1))\n",
    "        output = self.dropout(output)\n",
    "        output = self.relu4(output)\n",
    "        output = self.softmax(output)\n",
    "\n",
    "        return output"
   ],
   "metadata": {
    "collapsed": false
   }
  },
  {
   "cell_type": "code",
   "execution_count": 64,
   "outputs": [
    {
     "name": "stdout",
     "output_type": "stream",
     "text": [
      "CNN(\n",
      "  (spatial_avg_pool): AdaptiveAvgPool2d(output_size=(24, 24))\n",
      "  (linear1): Linear(in_features=1728, out_features=2, bias=True)\n",
      "  (relu1): ReLU()\n",
      "  (conv1): Conv2d(3, 4, kernel_size=(5, 5), stride=(1, 1), padding=(1, 1))\n",
      "  (relu2): ReLU()\n",
      "  (conv2): Conv2d(3, 6, kernel_size=(5, 5), stride=(1, 1), padding=(1, 1))\n",
      "  (relu3): ReLU()\n",
      "  (linear2): Linear(in_features=1152000, out_features=10, bias=True)\n",
      "  (relu4): ReLU()\n",
      "  (softmax): Softmax(dim=1)\n",
      "  (dropout): Dropout(p=0.25, inplace=False)\n",
      ")\n"
     ]
    }
   ],
   "source": [
    "model = CNN(num_channels=3,num_outputs=10)\n",
    "print(model)"
   ],
   "metadata": {
    "collapsed": false
   }
  },
  {
   "cell_type": "code",
   "execution_count": 65,
   "outputs": [
    {
     "data": {
      "text/plain": "tensor([0.0977, 0.0977, 0.0977, 0.0977, 0.0977, 0.0987, 0.0985, 0.1136, 0.1031,\n        0.0977], grad_fn=<SelectBackward0>)"
     },
     "execution_count": 65,
     "metadata": {},
     "output_type": "execute_result"
    }
   ],
   "source": [
    "model(X)[0]"
   ],
   "metadata": {
    "collapsed": false
   }
  },
  {
   "cell_type": "code",
   "execution_count": 50,
   "outputs": [
    {
     "data": {
      "text/plain": "256"
     },
     "execution_count": 50,
     "metadata": {},
     "output_type": "execute_result"
    }
   ],
   "source": [
    "X.size(0)"
   ],
   "metadata": {
    "collapsed": false
   }
  },
  {
   "cell_type": "code",
   "execution_count": 51,
   "outputs": [
    {
     "data": {
      "text/plain": "torch.Size([256, 432])"
     },
     "execution_count": 51,
     "metadata": {},
     "output_type": "execute_result"
    }
   ],
   "source": [
    "test_pool = torch.nn.AdaptiveAvgPool2d((12,12))\n",
    "t = test_pool(X)\n",
    "t = t.view(t.size(0),-1)\n",
    "t.size()"
   ],
   "metadata": {
    "collapsed": false
   }
  },
  {
   "cell_type": "code",
   "execution_count": 52,
   "outputs": [],
   "source": [
    "l = torch.nn.Linear(in_features=432,out_features=2)\n",
    "b =l(t)\n",
    "r = torch.nn.ReLU()\n",
    "b = r(b)"
   ],
   "metadata": {
    "collapsed": false
   }
  },
  {
   "cell_type": "code",
   "execution_count": 53,
   "outputs": [
    {
     "data": {
      "text/plain": "torch.Size([256, 2])"
     },
     "execution_count": 53,
     "metadata": {},
     "output_type": "execute_result"
    }
   ],
   "source": [
    "b.size()"
   ],
   "metadata": {
    "collapsed": false
   }
  },
  {
   "cell_type": "code",
   "execution_count": 54,
   "outputs": [
    {
     "data": {
      "text/plain": "torch.Size([256, 10])"
     },
     "execution_count": 54,
     "metadata": {},
     "output_type": "execute_result"
    }
   ],
   "source": [
    "a = model(X)\n",
    "a.size()"
   ],
   "metadata": {
    "collapsed": false
   }
  },
  {
   "cell_type": "code",
   "execution_count": 55,
   "outputs": [
    {
     "data": {
      "text/plain": "torch.Size([1280, 256])"
     },
     "execution_count": 55,
     "metadata": {},
     "output_type": "execute_result"
    }
   ],
   "source": [
    "torch.matmul(a.view(-1,2),b.T).size()"
   ],
   "metadata": {
    "collapsed": false
   }
  },
  {
   "cell_type": "markdown",
   "source": [
    "## Create the metric for calculating accuracy"
   ],
   "metadata": {
    "collapsed": false
   }
  },
  {
   "cell_type": "code",
   "execution_count": 56,
   "outputs": [],
   "source": [
    "def accuracy(y_hat,y):\n",
    "    if len(y_hat.shape) > 1 and y_hat.shape[1] > 1:\n",
    "        y_hat = y_hat.argmax(axis=1)\n",
    "        cmp = (y_hat.type(y.dtype) == y)\n",
    "        return float(torch.sum(cmp))"
   ],
   "metadata": {
    "collapsed": false
   }
  },
  {
   "cell_type": "markdown",
   "source": [
    "## Create the model training system"
   ],
   "metadata": {
    "collapsed": false
   }
  },
  {
   "cell_type": "code",
   "execution_count": 66,
   "outputs": [],
   "source": [
    "def train_model(model,X,y,X_test,y_test,accuracy,epochs):\n",
    "\n",
    "    # Create the loss component\n",
    "    loss = torch.nn.CrossEntropyLoss()\n",
    "\n",
    "    # Create the optimizer term\n",
    "    optimizer = torch.optim.Adam(model.parameters(), lr=0.0001)\n",
    "\n",
    "    score_train = []\n",
    "    score_test = []\n",
    "\n",
    "    for num_epochs in epochs:\n",
    "        for epoch in range(num_epochs):\n",
    "            model.train()\n",
    "            y_hat = model(X)\n",
    "            l = loss(y_hat,y)\n",
    "\n",
    "            optimizer.zero_grad()\n",
    "\n",
    "            l.backward()\n",
    "            optimizer.step()\n",
    "\n",
    "        # Training Accuracy\n",
    "        score_train.append(accuracy(model(X),y)/len(y))\n",
    "\n",
    "        # # Test Accuracy\n",
    "        # torch.no_grad()\n",
    "        # model.eval()\n",
    "        # score_test.append(accuracy(model(X_test),y_test)/len(y_test))\n",
    "\n",
    "    return score_train"
   ],
   "metadata": {
    "collapsed": false
   }
  },
  {
   "cell_type": "code",
   "execution_count": 71,
   "outputs": [],
   "source": [
    "epochs = range(0,20)\n",
    "s1 = train_model(model,X,y,X_test,y_test,accuracy,epochs)"
   ],
   "metadata": {
    "collapsed": false
   }
  },
  {
   "cell_type": "code",
   "execution_count": 72,
   "outputs": [
    {
     "data": {
      "text/plain": "[0.3828125,\n 0.41796875,\n 0.41796875,\n 0.40234375,\n 0.34375,\n 0.390625,\n 0.421875,\n 0.42578125,\n 0.4375,\n 0.41015625,\n 0.4609375,\n 0.48046875,\n 0.43359375,\n 0.41796875,\n 0.44140625,\n 0.4296875,\n 0.43359375,\n 0.421875,\n 0.46484375,\n 0.4140625]"
     },
     "execution_count": 72,
     "metadata": {},
     "output_type": "execute_result"
    }
   ],
   "source": [
    "s1"
   ],
   "metadata": {
    "collapsed": false
   }
  },
  {
   "cell_type": "code",
   "execution_count": 73,
   "outputs": [
    {
     "data": {
      "text/plain": "Text(0, 0.5, 'Accuracy')"
     },
     "execution_count": 73,
     "metadata": {},
     "output_type": "execute_result"
    },
    {
     "data": {
      "text/plain": "<Figure size 640x480 with 1 Axes>",
      "image/png": "[encoded data removed]"
     },
     "metadata": {},
     "output_type": "display_data"
    }
   ],
   "source": [
    "sns.lineplot(x=epochs,y=s1,label='training accuracy')\n",
    "#sns.lineplot(x=epochs,y=s2,label='test accuracy')\n",
    "plt.xlabel('Epochs')\n",
    "plt.ylabel('Accuracy')"
   ],
   "metadata": {
    "collapsed": false
   }
  },
  {
   "cell_type": "code",
   "execution_count": null,
   "outputs": [],
   "source": [],
   "metadata": {
    "collapsed": false
   }
  }
 ],
 "metadata": {
  "kernelspec": {
   "display_name": "Python 3",
   "language": "python",
   "name": "python3"
  },
  "language_info": {
   "codemirror_mode": {
    "name": "ipython",
    "version": 2
   },
   "file_extension": ".py",
   "mimetype": "text/x-python",
   "name": "python",
   "nbconvert_exporter": "python",
   "pygments_lexer": "ipython2",
   "version": "2.7.6"
  }
 },
 "nbformat": 4,
 "nbformat_minor": 0
}
