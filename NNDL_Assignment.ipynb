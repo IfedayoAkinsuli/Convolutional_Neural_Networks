{
 "cells": [
  {
   "cell_type": "markdown",
   "source": [
    "# Assignment"
   ],
   "metadata": {
    "collapsed": false
   }
  },
  {
   "cell_type": "markdown",
   "source": [
    "## Importing Libraries"
   ],
   "metadata": {
    "collapsed": false
   }
  },
  {
   "cell_type": "code",
   "execution_count": 1,
   "metadata": {
    "collapsed": true
   },
   "outputs": [],
   "source": [
    "import numpy as np\n",
    "import torch\n",
    "import torchvision.transforms as transforms\n",
    "import torchvision.datasets as datasets\n",
    "import matplotlib.pyplot as plt\n",
    "import seaborn as sns"
   ]
  },
  {
   "cell_type": "markdown",
   "source": [
    "## Loading the Datasets"
   ],
   "metadata": {
    "collapsed": false
   }
  },
  {
   "cell_type": "code",
   "execution_count": 2,
   "outputs": [
    {
     "name": "stdout",
     "output_type": "stream",
     "text": [
      "Files already downloaded and verified\n",
      "Files already downloaded and verified\n"
     ]
    }
   ],
   "source": [
    "cifar_dataset_train = datasets.CIFAR10(root='./data',train=True,download=True,transform=transforms.Compose([transforms.ToTensor()]))\n",
    "\n",
    "cifar_dataset_test = datasets.CIFAR10(root='./data',train=False,download=True,transform=transforms.Compose([transforms.ToTensor()]))"
   ],
   "metadata": {
    "collapsed": false
   }
  },
  {
   "cell_type": "markdown",
   "source": [
    "## Creating the training dataset"
   ],
   "metadata": {
    "collapsed": false
   }
  },
  {
   "cell_type": "code",
   "execution_count": 3,
   "outputs": [],
   "source": [
    "from torch.utils.data import DataLoader\n",
    "batch_size = 100\n",
    "\n",
    "train_iter = DataLoader(cifar_dataset_train,batch_size,shuffle=True)"
   ],
   "metadata": {
    "collapsed": false
   }
  },
  {
   "cell_type": "code",
   "execution_count": 4,
   "outputs": [],
   "source": [
    "X,y = next(iter(train_iter))"
   ],
   "metadata": {
    "collapsed": false
   }
  },
  {
   "cell_type": "markdown",
   "source": [
    "## Creating the test dataset"
   ],
   "metadata": {
    "collapsed": false
   }
  },
  {
   "cell_type": "code",
   "execution_count": 5,
   "outputs": [],
   "source": [
    "test_iter = DataLoader(cifar_dataset_test,batch_size,shuffle=True)"
   ],
   "metadata": {
    "collapsed": false
   }
  },
  {
   "cell_type": "code",
   "execution_count": 6,
   "outputs": [],
   "source": [
    "X_test,y_test = next(iter(test_iter))"
   ],
   "metadata": {
    "collapsed": false
   }
  },
  {
   "cell_type": "markdown",
   "source": [
    "## Analysing the CIFAR-10 data"
   ],
   "metadata": {
    "collapsed": false
   }
  },
  {
   "cell_type": "code",
   "execution_count": 7,
   "outputs": [
    {
     "name": "stdout",
     "output_type": "stream",
     "text": [
      "The dimensions of each input image is torch.Size([100, 3, 32, 32]) The number of input channels is 3\n",
      "The output labels are as follows tensor([3, 1, 2, 9, 0, 8, 1, 8, 9, 4, 9, 6, 0, 6, 7, 0, 3, 3, 8, 7, 3, 8, 6, 5,\n",
      "        6, 8, 3, 9, 3, 2, 5, 0, 6, 1, 6, 3, 4, 0, 8, 5, 8, 1, 6, 4, 8, 8, 0, 9,\n",
      "        5, 1, 4, 6, 2, 4, 9, 4, 7, 8, 7, 9, 4, 5, 9, 5, 4, 7, 4, 4, 9, 9, 4, 3,\n",
      "        4, 2, 6, 9, 6, 3, 5, 2, 9, 4, 6, 6, 5, 2, 2, 4, 2, 5, 6, 4, 8, 9, 6, 1,\n",
      "        6, 9, 9, 2])\n"
     ]
    }
   ],
   "source": [
    "print(f'The dimensions of each input image is {X.size()} The number of input channels is {X.size()[1]}')\n",
    "print(f'The output labels are as follows {y}')"
   ],
   "metadata": {
    "collapsed": false
   }
  },
  {
   "cell_type": "markdown",
   "source": [
    "## Example image"
   ],
   "metadata": {
    "collapsed": false
   }
  },
  {
   "cell_type": "code",
   "execution_count": 8,
   "outputs": [
    {
     "name": "stderr",
     "output_type": "stream",
     "text": [
      "C:\\Users\\ifeda\\AppData\\Local\\Temp\\ipykernel_1380\\354057698.py:1: UserWarning: The use of `x.T` on tensors of dimension other than 2 to reverse their shape is deprecated and it will throw an error in a future release. Consider `x.mT` to transpose batches of matrices or `x.permute(*torch.arange(x.ndim - 1, -1, -1))` to reverse the dimensions of a tensor. (Triggered internally at ..\\aten\\src\\ATen\\native\\TensorShape.cpp:3575.)\n",
      "  plt.imshow(X[0].T)\n"
     ]
    },
    {
     "data": {
      "text/plain": "<matplotlib.image.AxesImage at 0x136a701e9b0>"
     },
     "execution_count": 8,
     "metadata": {},
     "output_type": "execute_result"
    },
    {
     "data": {
      "text/plain": "<Figure size 640x480 with 1 Axes>",
      "image/png": "[encoded data removed]"
     },
     "metadata": {},
     "output_type": "display_data"
    }
   ],
   "source": [
    "plt.imshow(X[0].T)"
   ],
   "metadata": {
    "collapsed": false
   }
  },
  {
   "cell_type": "markdown",
   "source": [
    "## CNN Architecture"
   ],
   "metadata": {
    "collapsed": false
   }
  },
  {
   "cell_type": "code",
   "execution_count": 54,
   "outputs": [],
   "source": [
    "class CNN(torch.nn.Module):\n",
    "    def __init__(self,num_channels,num_outputs):\n",
    "        super(CNN,self).__init__()\n",
    "        self.num_channels = num_channels\n",
    "        self.num_outputs = num_outputs\n",
    "\n",
    "        self.batch_norm_input = torch.nn.BatchNorm2d(3)\n",
    "\n",
    "        #Spatial/Global Pooling for input-------------------------------------------------------\n",
    "        self.spatial_avg_pool1 = torch.nn.AvgPool2d(kernel_size=11,stride=2)\n",
    "\n",
    "        # Design the base block Element---------------------------------------------------------\n",
    "        #Create an input linear layer for future combination\n",
    "        self.initial_block_linear = torch.nn.Sequential(\n",
    "            torch.nn.Linear(in_features=36300,out_features=3),\n",
    "            torch.nn.ReLU(),\n",
    "            torch.nn.Dropout(0)\n",
    "        )\n",
    "\n",
    "        self.initial_block_conv = torch.nn.Sequential(\n",
    "            torch.nn.Conv2d(num_channels,out_channels=10,kernel_size=3,stride=1,padding=1),\n",
    "            torch.nn.BatchNorm2d(10),\n",
    "            torch.nn.ReLU()\n",
    "\n",
    "        )\n",
    "\n",
    "        self.second_block_conv = torch.nn.Sequential(\n",
    "            torch.nn.Conv2d(num_channels,out_channels=10,kernel_size=4,stride=1,padding=1),\n",
    "            torch.nn.BatchNorm2d(10),\n",
    "            torch.nn.ReLU()\n",
    "        )\n",
    "\n",
    "        self.third_block_conv = torch.nn.Sequential(\n",
    "            torch.nn.Conv2d(num_channels,out_channels=10,kernel_size=5,stride=3,padding=1),\n",
    "            torch.nn.BatchNorm2d(10),\n",
    "            torch.nn.ReLU()\n",
    "        )\n",
    "\n",
    "        # Create the spatial average pooling layer for the inputs to the dense---------------------\n",
    "        self.spatial_avg_pool2 = torch.nn.AvgPool1d(kernel_size = 3,stride=1)\n",
    "\n",
    "        # Create the dense,classification block----------------------------------------------------\n",
    "        # First FC linear layer\n",
    "        self.initial_fc = torch.nn.Sequential(\n",
    "            torch.nn.Linear(in_features=6948,out_features=500),\n",
    "            torch.nn.ReLU(),\n",
    "            torch.nn.Dropout(0)\n",
    "        )\n",
    "\n",
    "        # Create the final layer leading into softmax\n",
    "        self.final_fc = torch.nn.Sequential(\n",
    "            torch.nn.Linear(in_features=500,out_features=num_outputs),\n",
    "            torch.nn.ReLU(),\n",
    "            torch.nn.Dropout(0),\n",
    "            torch.nn.Softmax(dim=1)\n",
    "        )\n",
    "\n",
    "    def forward(self,x):\n",
    "        x = self.batch_norm_input(x)\n",
    "        # Applying average pooling to down sample the image from 32 -> 24\n",
    "        a = self.spatial_avg_pool1(x)\n",
    "\n",
    "        # First Block------------------------------------------------------\n",
    "        #Reshape the tensor to allow for matrix multiplication\n",
    "        a = torch.flatten(a)\n",
    "        a = self.initial_block_linear(a)\n",
    "\n",
    "        # Get outputs of each convolution ->RelU layer\n",
    "        o1 = self.initial_block_conv(x)\n",
    "        o2 = self.second_block_conv(x)\n",
    "        o3 = self.third_block_conv(x)\n",
    "\n",
    "        O = torch.concat((o1.view(100,-1),o2.view(100,-1),o3.view(100,-1)),dim=1)\n",
    "\n",
    "        # Prepare the outputs for the second block\n",
    "        O = torch.matmul(a,O.view(3,-1))\n",
    "\n",
    "        # Apply spatial pooling before entering the dense layer------------\n",
    "        O_bn = self.spatial_avg_pool2(O.view(100,-1))\n",
    "\n",
    "        # Move to the dense/classification block\n",
    "        output = self.initial_fc(O_bn.view(100,-1))\n",
    "\n",
    "        output = self.final_fc(output)\n",
    "\n",
    "        return output"
   ],
   "metadata": {
    "collapsed": false
   }
  },
  {
   "cell_type": "code",
   "execution_count": 55,
   "outputs": [
    {
     "name": "stdout",
     "output_type": "stream",
     "text": [
      "CNN(\n",
      "  (batch_norm_input): BatchNorm2d(3, eps=1e-05, momentum=0.1, affine=True, track_running_stats=True)\n",
      "  (spatial_avg_pool1): AvgPool2d(kernel_size=11, stride=2, padding=0)\n",
      "  (initial_block_linear): Sequential(\n",
      "    (0): Linear(in_features=36300, out_features=3, bias=True)\n",
      "    (1): ReLU()\n",
      "    (2): Dropout(p=0, inplace=False)\n",
      "  )\n",
      "  (initial_block_conv): Sequential(\n",
      "    (0): Conv2d(3, 10, kernel_size=(3, 3), stride=(1, 1), padding=(1, 1))\n",
      "    (1): BatchNorm2d(10, eps=1e-05, momentum=0.1, affine=True, track_running_stats=True)\n",
      "    (2): ReLU()\n",
      "  )\n",
      "  (second_block_conv): Sequential(\n",
      "    (0): Conv2d(3, 10, kernel_size=(4, 4), stride=(1, 1), padding=(1, 1))\n",
      "    (1): BatchNorm2d(10, eps=1e-05, momentum=0.1, affine=True, track_running_stats=True)\n",
      "    (2): ReLU()\n",
      "  )\n",
      "  (third_block_conv): Sequential(\n",
      "    (0): Conv2d(3, 10, kernel_size=(5, 5), stride=(3, 3), padding=(1, 1))\n",
      "    (1): BatchNorm2d(10, eps=1e-05, momentum=0.1, affine=True, track_running_stats=True)\n",
      "    (2): ReLU()\n",
      "  )\n",
      "  (spatial_avg_pool2): AvgPool1d(kernel_size=(3,), stride=(1,), padding=(0,))\n",
      "  (initial_fc): Sequential(\n",
      "    (0): Linear(in_features=6948, out_features=500, bias=True)\n",
      "    (1): ReLU()\n",
      "    (2): Dropout(p=0, inplace=False)\n",
      "  )\n",
      "  (final_fc): Sequential(\n",
      "    (0): Linear(in_features=500, out_features=10, bias=True)\n",
      "    (1): ReLU()\n",
      "    (2): Dropout(p=0, inplace=False)\n",
      "    (3): Softmax(dim=1)\n",
      "  )\n",
      ")\n"
     ]
    }
   ],
   "source": [
    "model = CNN(num_channels=3,num_outputs=10)\n",
    "print(model)"
   ],
   "metadata": {
    "collapsed": false
   }
  },
  {
   "cell_type": "code",
   "execution_count": 56,
   "outputs": [
    {
     "data": {
      "text/plain": "torch.Size([100, 10])"
     },
     "execution_count": 56,
     "metadata": {},
     "output_type": "execute_result"
    }
   ],
   "source": [
    "model(X).size()"
   ],
   "metadata": {
    "collapsed": false
   }
  },
  {
   "cell_type": "markdown",
   "source": [
    "## Create the metric for calculating accuracy"
   ],
   "metadata": {
    "collapsed": false
   }
  },
  {
   "cell_type": "code",
   "execution_count": 57,
   "outputs": [],
   "source": [
    "def accuracy(y_hat,y):\n",
    "    if len(y_hat.shape) > 1 and y_hat.shape[1] > 1:\n",
    "        y_hat = y_hat.argmax(axis=1)\n",
    "        cmp = (y_hat.type(y.dtype) == y)\n",
    "        return float(torch.sum(cmp))"
   ],
   "metadata": {
    "collapsed": false
   }
  },
  {
   "cell_type": "markdown",
   "source": [
    "## Create the model training system"
   ],
   "metadata": {
    "collapsed": false
   }
  },
  {
   "cell_type": "code",
   "execution_count": 58,
   "outputs": [],
   "source": [
    "def train_model(model,X,y,accuracy,epochs):\n",
    "\n",
    "    # Create the loss component\n",
    "    loss = torch.nn.CrossEntropyLoss()\n",
    "\n",
    "    # Create the optimizer term\n",
    "    optimizer = torch.optim.SGD(model.parameters(), lr=0.0005,weight_decay=0.005,momentum=0.9)\n",
    "\n",
    "    score_train = []\n",
    "    l_score = []\n",
    "\n",
    "    for epoch in range(0,epochs):\n",
    "        model.train()\n",
    "        y_hat = model(X)\n",
    "        l = loss(y_hat,y)\n",
    "\n",
    "        optimizer.zero_grad()\n",
    "\n",
    "        l.backward()\n",
    "        optimizer.step()\n",
    "\n",
    "        # Training Accuracy\n",
    "        score_train.append(accuracy(model(X),y)/len(y))\n",
    "\n",
    "        # Loss graph\n",
    "        l_score.append(l.item())\n",
    "\n",
    "    return score_train,l_score"
   ],
   "metadata": {
    "collapsed": false
   }
  },
  {
   "cell_type": "code",
   "execution_count": 66,
   "outputs": [],
   "source": [
    "epochs = 70\n",
    "s1,loss = train_model(model,X,y,accuracy,epochs)"
   ],
   "metadata": {
    "collapsed": false
   }
  },
  {
   "cell_type": "code",
   "execution_count": 67,
   "outputs": [
    {
     "data": {
      "text/plain": "[0.69,\n 0.69,\n 0.69,\n 0.69,\n 0.69,\n 0.69,\n 0.69,\n 0.7,\n 0.7,\n 0.7,\n 0.7,\n 0.7,\n 0.7,\n 0.7,\n 0.71,\n 0.71,\n 0.71,\n 0.71,\n 0.72,\n 0.73,\n 0.74,\n 0.74,\n 0.74,\n 0.74,\n 0.74,\n 0.74,\n 0.74,\n 0.74,\n 0.74,\n 0.76,\n 0.76,\n 0.76,\n 0.76,\n 0.77,\n 0.77,\n 0.77,\n 0.78,\n 0.79,\n 0.8,\n 0.81,\n 0.81,\n 0.81,\n 0.81,\n 0.81,\n 0.81,\n 0.81,\n 0.81,\n 0.81,\n 0.81,\n 0.81,\n 0.81,\n 0.81,\n 0.81,\n 0.81,\n 0.81,\n 0.81,\n 0.81,\n 0.81,\n 0.81,\n 0.81,\n 0.81,\n 0.82,\n 0.82,\n 0.82,\n 0.82,\n 0.82,\n 0.82,\n 0.82,\n 0.82,\n 0.82]"
     },
     "execution_count": 67,
     "metadata": {},
     "output_type": "execute_result"
    }
   ],
   "source": [
    "s1"
   ],
   "metadata": {
    "collapsed": false
   }
  },
  {
   "cell_type": "code",
   "execution_count": 68,
   "outputs": [
    {
     "data": {
      "text/plain": "Text(0, 0.5, 'Accuracy')"
     },
     "execution_count": 68,
     "metadata": {},
     "output_type": "execute_result"
    },
    {
     "data": {
      "text/plain": "<Figure size 640x480 with 1 Axes>",
      "image/png": "[encoded data removed]"
     },
     "metadata": {},
     "output_type": "display_data"
    }
   ],
   "source": [
    "sns.lineplot(x=range(0,epochs),y=s1,label='training accuracy')\n",
    "plt.xlabel('Epochs')\n",
    "plt.ylabel('Accuracy')"
   ],
   "metadata": {
    "collapsed": false
   }
  },
  {
   "cell_type": "code",
   "execution_count": 69,
   "outputs": [
    {
     "data": {
      "text/plain": "Text(0, 0.5, 'Loss')"
     },
     "execution_count": 69,
     "metadata": {},
     "output_type": "execute_result"
    },
    {
     "data": {
      "text/plain": "<Figure size 640x480 with 1 Axes>",
      "image/png": "[encoded data removed]"
     },
     "metadata": {},
     "output_type": "display_data"
    }
   ],
   "source": [
    "sns.lineplot(x=range(0,epochs),y=loss,label='loss')\n",
    "plt.xlabel('Epochs')\n",
    "plt.ylabel('Loss')"
   ],
   "metadata": {
    "collapsed": false
   }
  },
  {
   "cell_type": "code",
   "execution_count": 70,
   "outputs": [],
   "source": [
    "#model(X)"
   ],
   "metadata": {
    "collapsed": false
   }
  },
  {
   "cell_type": "code",
   "execution_count": 71,
   "outputs": [
    {
     "data": {
      "text/plain": "0.09"
     },
     "execution_count": 71,
     "metadata": {},
     "output_type": "execute_result"
    }
   ],
   "source": [
    "accuracy(model(X_test),y_test)/len(y_test)"
   ],
   "metadata": {
    "collapsed": false
   }
  },
  {
   "cell_type": "code",
   "execution_count": 72,
   "outputs": [
    {
     "data": {
      "text/plain": "tensor([3, 3, 3, 4, 4, 5, 6, 8, 9, 3, 3, 0, 0, 5, 9, 3, 3, 8, 7, 5, 2, 9, 1, 4,\n        0, 1, 4, 2, 8, 4, 7, 7, 0, 1, 0, 7, 2, 7, 3, 7, 4, 5, 7, 0, 9, 6, 4, 5,\n        5, 0, 4, 0, 3, 7, 2, 0, 6, 1, 1, 1, 5, 7, 3, 5, 0, 3, 4, 3, 3, 3, 2, 7,\n        6, 4, 3, 1, 0, 3, 9, 4, 3, 7, 9, 8, 8, 9, 0, 1, 5, 6, 1, 6, 8, 9, 5, 1,\n        8, 2, 9, 2])"
     },
     "execution_count": 72,
     "metadata": {},
     "output_type": "execute_result"
    }
   ],
   "source": [
    "y_test"
   ],
   "metadata": {
    "collapsed": false
   }
  },
  {
   "cell_type": "code",
   "execution_count": 73,
   "outputs": [
    {
     "data": {
      "text/plain": "tensor([0.0955, 0.0968, 0.1018, 0.1064, 0.1062, 0.1063, 0.1022, 0.0943, 0.0943,\n        0.0962], grad_fn=<SelectBackward0>)"
     },
     "execution_count": 73,
     "metadata": {},
     "output_type": "execute_result"
    }
   ],
   "source": [
    "model(X_test)[0]"
   ],
   "metadata": {
    "collapsed": false
   }
  },
  {
   "cell_type": "code",
   "execution_count": null,
   "outputs": [],
   "source": [],
   "metadata": {
    "collapsed": false
   }
  }
 ],
 "metadata": {
  "kernelspec": {
   "display_name": "Python 3",
   "language": "python",
   "name": "python3"
  },
  "language_info": {
   "codemirror_mode": {
    "name": "ipython",
    "version": 2
   },
   "file_extension": ".py",
   "mimetype": "text/x-python",
   "name": "python",
   "nbconvert_exporter": "python",
   "pygments_lexer": "ipython2",
   "version": "2.7.6"
  }
 },
 "nbformat": 4,
 "nbformat_minor": 0
}
